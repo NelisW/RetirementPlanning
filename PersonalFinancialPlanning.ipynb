{
 "cells": [
  {
   "cell_type": "markdown",
   "metadata": {},
   "source": [
    "# Personal Financial Planning"
   ]
  },
  {
   "cell_type": "code",
   "execution_count": 7,
   "metadata": {},
   "outputs": [],
   "source": [
    "import pandas as pd\n",
    "from datetime import date\n",
    "import numpy as np\n",
    "from collections import OrderedDict\n",
    "from dateutil.relativedelta import *\n",
    "import matplotlib.pyplot as plt\n",
    "from IPython.core.pylabtools import figsize\n",
    "\n",
    "# pd.set_option('expand_frame_repr', False)\n",
    "pd.set_option('display.max_rows', 500)\n",
    "pd.set_option('display.max_columns', 500)\n",
    "pd.set_option('display.width', 1000)\n",
    "pd.set_option('precision',5)\n",
    "pd.set_option('display.max_colwidth',100)\n",
    "pd.options.mode.chained_assignment = None  # default='warn'\n",
    "\n",
    "%matplotlib inline\n",
    "plt.style.use('ggplot')"
   ]
  },
  {
   "cell_type": "markdown",
   "metadata": {},
   "source": [
    "# References\n",
    "\n",
    "This analysis is based on and expands the models developed in Chris Moffit's [blog](http://pbpython.com/amortization-model-revised.html  )\n",
    "\n",
    "http://pbpython.com/amortization-model-revised.html  \n",
    "https://jeffknupp.com/blog/2013/04/07/improve-your-python-yield-and-generators-explained/  \n",
    "https://docs.scipy.org/doc/numpy-1.13.0/reference/routines.financial.html  \n",
    "http://inmachineswetrust.com/posts/understanding-generators/#cell3"
   ]
  },
  {
   "cell_type": "markdown",
   "metadata": {},
   "source": [
    "## Generators\n",
    "\n",
    "The summary shown here is an extraction from Jeff Knupp's [blog](https://jeffknupp.com/blog/2013/04/07/improve-your-python-yield-and-generators-explained/).\n",
    "\n",
    "A generator is a function that uses the `yield` keyword (once or more times), which yields a value back to the calling function, the `yield` saves/retains its internal state, and on the next call starts immediately after the line with the `yield` keyword.  This allows the generator to act as a special type of iterator. The generator may have a return keyword (including an implicit `return None` at the end of the function), which terminates the function, destroying all internal state.  When `yield` is encountered some value and flow control is given back to the calling function, but state and current line of execution is kept for use during future calls. Subsequent calls will continue on the line after the `yield` keyword, using the state left behind from the previous call."
   ]
  },
  {
   "cell_type": "code",
   "execution_count": 8,
   "metadata": {},
   "outputs": [],
   "source": [
    "def simple_generator_function():\n",
    "    yield 1\n",
    "    yield 2\n",
    "    yield 3"
   ]
  },
  {
   "cell_type": "markdown",
   "metadata": {},
   "source": [
    "An iterator is an object that provides a series of values when its internal `next()` function is called. Iterator objects can also be used in `for` statements (which calls the `next()` function implicitly)."
   ]
  },
  {
   "cell_type": "code",
   "execution_count": 9,
   "metadata": {},
   "outputs": [
    {
     "name": "stdout",
     "output_type": "stream",
     "text": [
      "1\n",
      "2\n",
      "3\n"
     ]
    }
   ],
   "source": [
    "for value in simple_generator_function():\n",
    "    print(value)"
   ]
  },
  {
   "cell_type": "code",
   "execution_count": 10,
   "metadata": {},
   "outputs": [
    {
     "name": "stdout",
     "output_type": "stream",
     "text": [
      "1\n",
      "2\n",
      "3\n"
     ]
    }
   ],
   "source": [
    "our_generator = simple_generator_function()\n",
    "print(next(our_generator))\n",
    "print(next(our_generator))\n",
    "print(next(our_generator))\n"
   ]
  },
  {
   "cell_type": "markdown",
   "metadata": {},
   "source": [
    "If a generator function calls `return` or reaches the end its definition, a `StopIteration` exception is raised. This signals to whoever was calling `next()` that the generator is exhausted (this is normal iterator behavior).\n"
   ]
  },
  {
   "cell_type": "code",
   "execution_count": 11,
   "metadata": {},
   "outputs": [],
   "source": [
    "our_generator = simple_generator_function()\n",
    "for value in our_generator:\n",
    "    pass\n",
    "# uncomment the next line to cause a StopIteration error:\n",
    "# print(next(our_generator))"
   ]
  },
  {
   "cell_type": "markdown",
   "metadata": {},
   "source": [
    "Create a new generator by calling the generator function again:"
   ]
  },
  {
   "cell_type": "code",
   "execution_count": 12,
   "metadata": {},
   "outputs": [
    {
     "name": "stdout",
     "output_type": "stream",
     "text": [
      "1\n"
     ]
    }
   ],
   "source": [
    "new_generator = simple_generator_function()\n",
    "print(next(new_generator)) # perfectly valid"
   ]
  },
  {
   "cell_type": "markdown",
   "metadata": {},
   "source": [
    "The following example calculates prime numbers using a generator function.\n",
    "Note that `yield` is only executed if the number is prime, return the prime value and control back to the iterator (`get_primes`). \n",
    "\n",
    "The prime calculation is enclosed in a `while True:` conditional to not fall through to the implied `return None` at the end of the function. This is a fairly common idiom in generators: the function seldom reaches an explicit or implied `return` statement.\n"
   ]
  },
  {
   "cell_type": "code",
   "execution_count": 13,
   "metadata": {},
   "outputs": [],
   "source": [
    "def is_prime(number):\n",
    "    if number > 1:\n",
    "        if number == 2:\n",
    "            return True\n",
    "        if number % 2 == 0:\n",
    "            return False\n",
    "        for current in range(3, int(np.sqrt(number) + 1), 2):\n",
    "            if number % current == 0: \n",
    "                return False\n",
    "        return True\n",
    "    return False\n",
    "\n",
    "def get_primes(number):\n",
    "    while True and number < 19:\n",
    "        if is_prime(number):\n",
    "            yield number\n",
    "        number += 1\n",
    "    # all functions implicitly returns None, but it is never reached here:\n",
    "    return None \n",
    "        \n",
    "        "
   ]
  },
  {
   "cell_type": "code",
   "execution_count": 14,
   "metadata": {},
   "outputs": [
    {
     "name": "stdout",
     "output_type": "stream",
     "text": [
      "7\n",
      "11\n",
      "13\n"
     ]
    }
   ],
   "source": [
    "for prime in get_primes(7):\n",
    "    print(prime)\n",
    "    if prime > 11:\n",
    "        break"
   ]
  },
  {
   "cell_type": "code",
   "execution_count": 15,
   "metadata": {},
   "outputs": [
    {
     "name": "stdout",
     "output_type": "stream",
     "text": [
      "7\n",
      "11\n",
      "13\n"
     ]
    }
   ],
   "source": [
    "our_generator = get_primes(7)\n",
    "print(next(our_generator))\n",
    "print(next(our_generator))\n",
    "print(next(our_generator))"
   ]
  },
  {
   "cell_type": "markdown",
   "metadata": {},
   "source": [
    "Since Pandas 0.19 a generator can be used to initialise the values in a DataFrame.  \n",
    "https://stackoverflow.com/questions/18915941/create-a-pandas-dataframe-from-generator  \n",
    "https://codereview.stackexchange.com/questions/162402/importing-database-of-4-million-rows-into-pandas-dataframe\n"
   ]
  },
  {
   "cell_type": "code",
   "execution_count": 16,
   "metadata": {},
   "outputs": [
    {
     "data": {
      "text/html": [
       "<div>\n",
       "<style scoped>\n",
       "    .dataframe tbody tr th:only-of-type {\n",
       "        vertical-align: middle;\n",
       "    }\n",
       "\n",
       "    .dataframe tbody tr th {\n",
       "        vertical-align: top;\n",
       "    }\n",
       "\n",
       "    .dataframe thead th {\n",
       "        text-align: right;\n",
       "    }\n",
       "</style>\n",
       "<table border=\"1\" class=\"dataframe\">\n",
       "  <thead>\n",
       "    <tr style=\"text-align: right;\">\n",
       "      <th></th>\n",
       "      <th>0</th>\n",
       "    </tr>\n",
       "  </thead>\n",
       "  <tbody>\n",
       "    <tr>\n",
       "      <th>0</th>\n",
       "      <td>7</td>\n",
       "    </tr>\n",
       "    <tr>\n",
       "      <th>1</th>\n",
       "      <td>11</td>\n",
       "    </tr>\n",
       "    <tr>\n",
       "      <th>2</th>\n",
       "      <td>13</td>\n",
       "    </tr>\n",
       "    <tr>\n",
       "      <th>3</th>\n",
       "      <td>17</td>\n",
       "    </tr>\n",
       "  </tbody>\n",
       "</table>\n",
       "</div>"
      ],
      "text/plain": [
       "    0\n",
       "0   7\n",
       "1  11\n",
       "2  13\n",
       "3  17"
      ]
     },
     "execution_count": 16,
     "metadata": {},
     "output_type": "execute_result"
    }
   ],
   "source": [
    "pd.DataFrame(get_primes(7))"
   ]
  },
  {
   "cell_type": "markdown",
   "metadata": {},
   "source": [
    "List comprehensions are a convenient way to construct a customized list object. For example, let's create a list containing the cubes of even integers between 0 and 20 inclusive and display each element."
   ]
  },
  {
   "cell_type": "code",
   "execution_count": 17,
   "metadata": {},
   "outputs": [
    {
     "name": "stdout",
     "output_type": "stream",
     "text": [
      "0 8 64 216 512 1000 1728 2744 4096 5832 8000 "
     ]
    }
   ],
   "source": [
    "cubes_list = [x ** 3 for x in range(21) if x % 2 == 0]\n",
    "\n",
    "for i in cubes_list:\n",
    "    print(i, end=' ')"
   ]
  },
  {
   "cell_type": "markdown",
   "metadata": {},
   "source": [
    "If we swap out the brackets for parentheses in the list comprehension, we have a generator expression, which produces a generator that successively yields the same sequence of numbers. It's very important to note that a generator expression is not a tuple comprehension. That is, a generator expression yields a generator object, not a tuple object."
   ]
  },
  {
   "cell_type": "code",
   "execution_count": 18,
   "metadata": {},
   "outputs": [
    {
     "name": "stdout",
     "output_type": "stream",
     "text": [
      "0 8 64 216 512 1000 1728 2744 4096 5832 8000 "
     ]
    }
   ],
   "source": [
    "cubes_gen = (x ** 3 for x in range(21) if x % 2 == 0)\n",
    "\n",
    "for i in cubes_gen:\n",
    "    print(i, end=' ')"
   ]
  },
  {
   "cell_type": "code",
   "execution_count": null,
   "metadata": {},
   "outputs": [],
   "source": []
  },
  {
   "cell_type": "markdown",
   "metadata": {},
   "source": [
    "There is a lot more to generators, see Knupp's blog and Google."
   ]
  },
  {
   "cell_type": "markdown",
   "metadata": {},
   "source": [
    "## Simple Financial Calculations"
   ]
  },
  {
   "cell_type": "code",
   "execution_count": 19,
   "metadata": {},
   "outputs": [],
   "source": [
    "Interest_Rate = 0.04\n",
    "Years = 30\n",
    "Payments_Year = 12\n",
    "Principal = 200000\n",
    "start_date = (date(2000,1,1))"
   ]
  },
  {
   "cell_type": "markdown",
   "metadata": {},
   "source": [
    "How large a monthly payment is required to repay bond?"
   ]
  },
  {
   "cell_type": "code",
   "execution_count": 20,
   "metadata": {},
   "outputs": [
    {
     "name": "stdout",
     "output_type": "stream",
     "text": [
      "Payment required -954.8305909309076\n"
     ]
    }
   ],
   "source": [
    "pmt = np.pmt(Interest_Rate/Payments_Year, Years*Payments_Year, Principal)\n",
    "print(f'Payment required {pmt}')"
   ]
  },
  {
   "cell_type": "markdown",
   "metadata": {},
   "source": [
    "How much interest or capital is paid in a specific period (a month in this case)"
   ]
  },
  {
   "cell_type": "code",
   "execution_count": 21,
   "metadata": {},
   "outputs": [
    {
     "name": "stdout",
     "output_type": "stream",
     "text": [
      "Interest -316.49041533656924, capital -638.3401755943385\n"
     ]
    }
   ],
   "source": [
    "# Period/month for which to calculate\n",
    "per = 240\n",
    "\n",
    "# Calculate the interest\n",
    "ipmt = np.ipmt(Interest_Rate/Payments_Year, per, Years*Payments_Year, Principal)\n",
    "\n",
    "# Calculate the principal\n",
    "ppmt = np.ppmt(Interest_Rate/Payments_Year, per, Years*Payments_Year, Principal)\n",
    "\n",
    "print(f'Interest {ipmt}, capital {ppmt}')\n"
   ]
  },
  {
   "cell_type": "markdown",
   "metadata": {},
   "source": [
    "## Moffit's Amortisation Model\n",
    "\n",
    "This model and code is taken from http://pbpython.com/amortization-model-revised.html. Moffit was looking for a way to do amortisation  calculations in Pandas without loops, but ended up using a generator function to do the looping.  The generator does a complete set of loops and then provides the answer to a Pandas DataFrame.   The power of Pandas is therefore not available during the loop, but it is available afterwards for analysis and plotting.\n",
    "\n",
    "Moffit's code is refactored and cleaned up. The additional payment must now be expressed as a percentage of the minimum required payment.\n",
    "\n",
    "**A note on dates:**  The default start date in this notebook is 2000-01-01, mainly because it is easy to calculate the term remaining from a round number.  The date 0000-01-01 is not allowed in the Python code, so I start with the year 2000."
   ]
  },
  {
   "cell_type": "markdown",
   "metadata": {},
   "source": [
    "Build a payment schedule using a generator that can be easily read into a pandas dataframe."
   ]
  },
  {
   "cell_type": "code",
   "execution_count": 22,
   "metadata": {
    "collapsed": true
   },
   "outputs": [],
   "source": [
    "def amortize(principal, interest_rate, years, reqpayment, addpayment, start_date, annual_payments):\n",
    "    \"\"\"\n",
    "    Calculate the amortization schedule given the loan details.\n",
    "\n",
    "    :param principal: Amount borrowed\n",
    "    :param interest_rate: The annual interest rate for this loan\n",
    "    :param years: Number of years for the loan\n",
    "    :param reqpayment: Payment amount per period\n",
    "    :param addpayment: Additional payments to be made each period.\n",
    "    :param start_date: Start date for the loan.\n",
    "    :param annual_payments: Number of payments in a year.\n",
    "\n",
    "    :return: \n",
    "        schedule: Amortization schedule as an Ordered Dictionary\n",
    "    \"\"\"\n",
    "\n",
    "    # initialize the variables to keep track of the periods and running balances\n",
    "    p = 1\n",
    "    beg_balance = principal\n",
    "    end_balance = principal\n",
    "    \n",
    "    while end_balance > 0:\n",
    "        \n",
    "        # Recalculate the interest based on the current balance\n",
    "        interest = round(((interest_rate/annual_payments) * beg_balance), 2)\n",
    "        \n",
    "        # Determine payment based on whether or not this period will pay off the loan\n",
    "        reqpayment = min(reqpayment, beg_balance + interest)\n",
    "        \n",
    "        # Ensure additional payment gets adjusted if the loan is being paid off\n",
    "        addpayment = min(addpayment, beg_balance - (reqpayment - interest))\n",
    "        end_balance = beg_balance - (reqpayment - interest + addpayment)\n",
    "\n",
    "        yield OrderedDict([('Month',start_date),\n",
    "                           ('Period', p),\n",
    "                           ('Begin Balance', beg_balance),\n",
    "                           ('ReqPayment', reqpayment),\n",
    "                           ('Principal', principal),\n",
    "                           ('Interest', interest),\n",
    "                           ('AddPayment', addpayment),\n",
    "                           ('End Balance', end_balance)])\n",
    "        \n",
    "        # Increment the counter, balance and date\n",
    "        p += 1\n",
    "        start_date += relativedelta(months=1)\n",
    "        beg_balance = end_balance"
   ]
  },
  {
   "cell_type": "markdown",
   "metadata": {},
   "source": [
    "Confirm that the `amortize` function is a generator:"
   ]
  },
  {
   "cell_type": "code",
   "execution_count": 23,
   "metadata": {},
   "outputs": [
    {
     "data": {
      "text/plain": [
       "<generator object amortize at 0x0000000009796410>"
      ]
     },
     "execution_count": 23,
     "metadata": {},
     "output_type": "execute_result"
    }
   ],
   "source": [
    "amortize(principal=10000, interest_rate=.03, years=5, reqpayment=400, addpayment=0, start_date=date(2000, 1,1), annual_payments=12)"
   ]
  },
  {
   "cell_type": "markdown",
   "metadata": {},
   "source": [
    "Next create a wrapper function to use `amortize` to fill a Pandas DataFrame.  This function primarily cleans up the table and provides summary stats so it is easy to compare various scenarios.\n",
    "\n"
   ]
  },
  {
   "cell_type": "code",
   "execution_count": 24,
   "metadata": {
    "collapsed": true
   },
   "outputs": [],
   "source": [
    "def amortization_table(principal, interest_rate, years,reqpayment,\n",
    "                       addpayment=0, annual_payments=12, start_date=(date(2000,1,1))):\n",
    "    \"\"\"\n",
    "    Calculate the amortization schedule given the loan details as well as summary stats for the loan\n",
    "\n",
    "    :param principal: Amount borrowed\n",
    "    :param interest_rate: The annual interest rate for this loan\n",
    "    :param years: Number of years for the loan\n",
    "    :param reqpayment: minimum required payment to meet the term requirements\n",
    "    :param annual_payments (optional): Number of payments in a year. Default 12.\n",
    "    :param addpayment (optional): Additional payments to be made each period as percentage of required payment. Default 0.\n",
    "    :param start_date (optional): Start date. Default first of next month if none provided\n",
    "\n",
    "    :return: \n",
    "        schedule: Amortization schedule as a pandas dataframe\n",
    "        summary: Pandas dataframe that summarizes the payoff information\n",
    "    \"\"\"\n",
    "    \n",
    "    if addpayment != 0:\n",
    "        addpayment = reqpayment * addpayment / 100\n",
    "    \n",
    "    # Generate the schedule \n",
    "    schedule = pd.DataFrame(amortize(principal, interest_rate, years, reqpayment,\n",
    "                                     addpayment, start_date, annual_payments))\n",
    "    # reorder the columns\n",
    "    schedule = schedule[[\"Period\", \"Month\", \"Begin Balance\", \"ReqPayment\",\"AddPayment\",\n",
    "                         \"Interest\", \"End Balance\"]]\n",
    "    \n",
    "    # Convert to a datetime object to make subsequent calcs easier\n",
    "    schedule[\"Month\"] = pd.to_datetime(schedule[\"Month\"])\n",
    "    \n",
    "    #Create a summary statistics table\n",
    "    payoff_date = schedule[\"Month\"].iloc[-1]\n",
    "    stats = pd.Series([payoff_date, schedule[\"Period\"].count(), interest_rate,\n",
    "                       years, reqpayment, addpayment,\n",
    "                       schedule[\"Interest\"].sum()],\n",
    "                       index=[\"Payoff Date\", \"Num Payments\", \"Interest Rate\", \"Years\", \n",
    "                             \"ReqPayment\", \"AddPayment\", \"Total Interest\"])\n",
    "    \n",
    "    return schedule, stats"
   ]
  },
  {
   "cell_type": "markdown",
   "metadata": {},
   "source": [
    "Example showing how to call the function"
   ]
  },
  {
   "cell_type": "code",
   "execution_count": 25,
   "metadata": {},
   "outputs": [],
   "source": [
    "principal=700000\n",
    "interest_rate=.04\n",
    "years=30\n",
    "annual_payments=12\n",
    "reqpayment = -round(np.pmt(interest_rate/annual_payments, years*annual_payments, principal), 2)\n",
    "\n",
    "df, stats = amortization_table(\n",
    "    principal=principal, \n",
    "    interest_rate=interest_rate, \n",
    "    years=30, \n",
    "    reqpayment = reqpayment,\n",
    "    addpayment=2,\n",
    "    annual_payments=annual_payments, \n",
    "    start_date=date(2000, 1,1))"
   ]
  },
  {
   "cell_type": "code",
   "execution_count": 26,
   "metadata": {},
   "outputs": [
    {
     "data": {
      "text/plain": [
       "Payoff Date       2028-11-01 00:00:00\n",
       "Num Payments                      347\n",
       "Interest Rate                    0.04\n",
       "Years                              30\n",
       "ReqPayment                     3341.9\n",
       "AddPayment                     66.838\n",
       "Total Interest             4.8171e+05\n",
       "dtype: object"
      ]
     },
     "execution_count": 26,
     "metadata": {},
     "output_type": "execute_result"
    }
   ],
   "source": [
    "stats"
   ]
  },
  {
   "cell_type": "code",
   "execution_count": 27,
   "metadata": {},
   "outputs": [
    {
     "data": {
      "text/html": [
       "<div>\n",
       "<style scoped>\n",
       "    .dataframe tbody tr th:only-of-type {\n",
       "        vertical-align: middle;\n",
       "    }\n",
       "\n",
       "    .dataframe tbody tr th {\n",
       "        vertical-align: top;\n",
       "    }\n",
       "\n",
       "    .dataframe thead th {\n",
       "        text-align: right;\n",
       "    }\n",
       "</style>\n",
       "<table border=\"1\" class=\"dataframe\">\n",
       "  <thead>\n",
       "    <tr style=\"text-align: right;\">\n",
       "      <th></th>\n",
       "      <th>Period</th>\n",
       "      <th>Month</th>\n",
       "      <th>Begin Balance</th>\n",
       "      <th>ReqPayment</th>\n",
       "      <th>AddPayment</th>\n",
       "      <th>Interest</th>\n",
       "      <th>End Balance</th>\n",
       "    </tr>\n",
       "  </thead>\n",
       "  <tbody>\n",
       "    <tr>\n",
       "      <th>0</th>\n",
       "      <td>1</td>\n",
       "      <td>2000-01-01</td>\n",
       "      <td>700000.0000</td>\n",
       "      <td>3341.91</td>\n",
       "      <td>66.8382</td>\n",
       "      <td>2333.33</td>\n",
       "      <td>698924.5818</td>\n",
       "    </tr>\n",
       "    <tr>\n",
       "      <th>1</th>\n",
       "      <td>2</td>\n",
       "      <td>2000-02-01</td>\n",
       "      <td>698924.5818</td>\n",
       "      <td>3341.91</td>\n",
       "      <td>66.8382</td>\n",
       "      <td>2329.75</td>\n",
       "      <td>697845.5836</td>\n",
       "    </tr>\n",
       "    <tr>\n",
       "      <th>2</th>\n",
       "      <td>3</td>\n",
       "      <td>2000-03-01</td>\n",
       "      <td>697845.5836</td>\n",
       "      <td>3341.91</td>\n",
       "      <td>66.8382</td>\n",
       "      <td>2326.15</td>\n",
       "      <td>696762.9854</td>\n",
       "    </tr>\n",
       "    <tr>\n",
       "      <th>3</th>\n",
       "      <td>4</td>\n",
       "      <td>2000-04-01</td>\n",
       "      <td>696762.9854</td>\n",
       "      <td>3341.91</td>\n",
       "      <td>66.8382</td>\n",
       "      <td>2322.54</td>\n",
       "      <td>695676.7772</td>\n",
       "    </tr>\n",
       "    <tr>\n",
       "      <th>4</th>\n",
       "      <td>5</td>\n",
       "      <td>2000-05-01</td>\n",
       "      <td>695676.7772</td>\n",
       "      <td>3341.91</td>\n",
       "      <td>66.8382</td>\n",
       "      <td>2318.92</td>\n",
       "      <td>694586.9490</td>\n",
       "    </tr>\n",
       "  </tbody>\n",
       "</table>\n",
       "</div>"
      ],
      "text/plain": [
       "   Period      Month  Begin Balance  ReqPayment  AddPayment  Interest  End Balance\n",
       "0       1 2000-01-01    700000.0000     3341.91     66.8382   2333.33  698924.5818\n",
       "1       2 2000-02-01    698924.5818     3341.91     66.8382   2329.75  697845.5836\n",
       "2       3 2000-03-01    697845.5836     3341.91     66.8382   2326.15  696762.9854\n",
       "3       4 2000-04-01    696762.9854     3341.91     66.8382   2322.54  695676.7772\n",
       "4       5 2000-05-01    695676.7772     3341.91     66.8382   2318.92  694586.9490"
      ]
     },
     "execution_count": 27,
     "metadata": {},
     "output_type": "execute_result"
    }
   ],
   "source": [
    "df.head()"
   ]
  },
  {
   "cell_type": "code",
   "execution_count": 28,
   "metadata": {},
   "outputs": [
    {
     "data": {
      "text/html": [
       "<div>\n",
       "<style scoped>\n",
       "    .dataframe tbody tr th:only-of-type {\n",
       "        vertical-align: middle;\n",
       "    }\n",
       "\n",
       "    .dataframe tbody tr th {\n",
       "        vertical-align: top;\n",
       "    }\n",
       "\n",
       "    .dataframe thead th {\n",
       "        text-align: right;\n",
       "    }\n",
       "</style>\n",
       "<table border=\"1\" class=\"dataframe\">\n",
       "  <thead>\n",
       "    <tr style=\"text-align: right;\">\n",
       "      <th></th>\n",
       "      <th>Period</th>\n",
       "      <th>Month</th>\n",
       "      <th>Begin Balance</th>\n",
       "      <th>ReqPayment</th>\n",
       "      <th>AddPayment</th>\n",
       "      <th>Interest</th>\n",
       "      <th>End Balance</th>\n",
       "    </tr>\n",
       "  </thead>\n",
       "  <tbody>\n",
       "    <tr>\n",
       "      <th>342</th>\n",
       "      <td>343</td>\n",
       "      <td>2028-07-01</td>\n",
       "      <td>15762.9256</td>\n",
       "      <td>3341.9100</td>\n",
       "      <td>66.8382</td>\n",
       "      <td>52.54</td>\n",
       "      <td>12406.7174</td>\n",
       "    </tr>\n",
       "    <tr>\n",
       "      <th>343</th>\n",
       "      <td>344</td>\n",
       "      <td>2028-08-01</td>\n",
       "      <td>12406.7174</td>\n",
       "      <td>3341.9100</td>\n",
       "      <td>66.8382</td>\n",
       "      <td>41.36</td>\n",
       "      <td>9039.3292</td>\n",
       "    </tr>\n",
       "    <tr>\n",
       "      <th>344</th>\n",
       "      <td>345</td>\n",
       "      <td>2028-09-01</td>\n",
       "      <td>9039.3292</td>\n",
       "      <td>3341.9100</td>\n",
       "      <td>66.8382</td>\n",
       "      <td>30.13</td>\n",
       "      <td>5660.7110</td>\n",
       "    </tr>\n",
       "    <tr>\n",
       "      <th>345</th>\n",
       "      <td>346</td>\n",
       "      <td>2028-10-01</td>\n",
       "      <td>5660.7110</td>\n",
       "      <td>3341.9100</td>\n",
       "      <td>66.8382</td>\n",
       "      <td>18.87</td>\n",
       "      <td>2270.8328</td>\n",
       "    </tr>\n",
       "    <tr>\n",
       "      <th>346</th>\n",
       "      <td>347</td>\n",
       "      <td>2028-11-01</td>\n",
       "      <td>2270.8328</td>\n",
       "      <td>2278.4028</td>\n",
       "      <td>0.0000</td>\n",
       "      <td>7.57</td>\n",
       "      <td>0.0000</td>\n",
       "    </tr>\n",
       "  </tbody>\n",
       "</table>\n",
       "</div>"
      ],
      "text/plain": [
       "     Period      Month  Begin Balance  ReqPayment  AddPayment  Interest  End Balance\n",
       "342     343 2028-07-01     15762.9256   3341.9100     66.8382     52.54   12406.7174\n",
       "343     344 2028-08-01     12406.7174   3341.9100     66.8382     41.36    9039.3292\n",
       "344     345 2028-09-01      9039.3292   3341.9100     66.8382     30.13    5660.7110\n",
       "345     346 2028-10-01      5660.7110   3341.9100     66.8382     18.87    2270.8328\n",
       "346     347 2028-11-01      2270.8328   2278.4028      0.0000      7.57       0.0000"
      ]
     },
     "execution_count": 28,
     "metadata": {},
     "output_type": "execute_result"
    }
   ],
   "source": [
    "df.tail()"
   ]
  },
  {
   "cell_type": "markdown",
   "metadata": {},
   "source": [
    "## Bond Repayment Studies\n",
    "\n",
    "Define a few standard utility functions"
   ]
  },
  {
   "cell_type": "code",
   "execution_count": 29,
   "metadata": {},
   "outputs": [],
   "source": [
    "def plot_balance(scenarios):\n",
    "    \"\"\"Plot the remaining balance of all scenarios\n",
    "    \"\"\"\n",
    "    fig, ax = plt.subplots(1, 1)\n",
    "    for scenario in scenarios.keys():\n",
    "        schedules[scenario].plot(x='Month', y='End Balance', label=f'{scenario}', ax=ax)\n",
    "    plt.title(\"Pay Off Timelines\");\n",
    "    plt.ylabel(\"Balance\");"
   ]
  },
  {
   "cell_type": "code",
   "execution_count": 30,
   "metadata": {},
   "outputs": [],
   "source": [
    "def plot_annual_interest(schedule, stats):\n",
    "    \"\"\"Plot the annual interest of all scenarios\n",
    "    \"\"\"\n",
    "    ys = {}\n",
    "    labels = {}\n",
    "    for scenario in scenarios.keys():\n",
    "        ys[scenario],labels[scenario] = annual_interest(schedules[scenario], stats[scenario])\n",
    "\n",
    "    dfai = pd.concat([ys[scenario] for scenario in ys.keys()], axis=1)\n",
    "    # print(dfai)\n",
    "\n",
    "    figsize(7,5)\n",
    "    fig, ax = plt.subplots(1, 1)\n",
    "    dfai.plot(kind=\"bar\", ax=ax)\n",
    "\n",
    "    plt.legend([labels[scenario] for scenario in labels.keys()], loc=1, prop={'size':10})\n",
    "    plt.title(\"Interest Payments\");"
   ]
  },
  {
   "cell_type": "code",
   "execution_count": 31,
   "metadata": {},
   "outputs": [],
   "source": [
    "def annual_interest(schedule, stats):\n",
    "    \"\"\"Create a dataframe with annual interest totals, and a descriptive label\n",
    "    \"\"\"\n",
    "    annint = schedule.set_index('Month')['Interest'].resample(\"A\").sum().reset_index()\n",
    "    annint[\"Year\"] = annint[\"Month\"].dt.year\n",
    "    annint.set_index('Year', inplace=True)\n",
    "    annint.drop('Month', 1, inplace=True)\n",
    "    label=\"{} years at {}% with additional payment of {:.0f}\".format(stats['Years'], stats['Interest Rate']*100, stats['AddPayment'])\n",
    "    return annint, label\n",
    "\n"
   ]
  },
  {
   "cell_type": "code",
   "execution_count": 32,
   "metadata": {},
   "outputs": [],
   "source": [
    "def calc_scenarios(scenarios,annual_payments=12):\n",
    "    \"\"\"Given a scenario dictionary calculate bond schedules and statistics\n",
    "    \"\"\"\n",
    "    schedules = {}\n",
    "    stats = {}\n",
    "    \n",
    "    for scenario in scenarios.keys():\n",
    "        if 'reqPayment' not in scenarios[scenario].keys():\n",
    "            scenarios[scenario]['reqPayment'] = \\\n",
    "                -round(np.pmt(scenarios[scenario]['intr'] / annual_payments, \n",
    "                              scenarios[scenario]['years'] * annual_payments, \n",
    "                              scenarios[scenario]['princ']), 2);\n",
    "       \n",
    "        schedules[scenario], stats[scenario] = amortization_table(\n",
    "                                            scenarios[scenario]['princ'], \n",
    "                                            scenarios[scenario]['intr'], \n",
    "                                            scenarios[scenario]['years'], \n",
    "                                            scenarios[scenario]['reqPayment'], \n",
    "                                            scenarios[scenario]['addprinc'],\n",
    "            annual_payments=12\n",
    "        );\n",
    "    return schedules,stats\n"
   ]
  },
  {
   "cell_type": "markdown",
   "metadata": {},
   "source": [
    "### Mixed scenarios\n",
    "\n",
    "Compare different scenarios with different additional payments."
   ]
  },
  {
   "cell_type": "code",
   "execution_count": 33,
   "metadata": {},
   "outputs": [],
   "source": [
    "scenarios = {\n",
    "    'Scenario 1':{'princ':100000,'intr':0.04,'addprinc':5,'years':30},\n",
    "    'Scenario 2':{'princ':100000,'intr':0.05,'addprinc':10,'years':30},\n",
    "    'Scenario 3':{'princ':100000,'intr':0.04,'addprinc':0,'years':15},\n",
    "}\n",
    "        \n",
    "schedules,stats = calc_scenarios(scenarios) "
   ]
  },
  {
   "cell_type": "markdown",
   "metadata": {},
   "source": [
    "Review the summary results for the different scenarios:"
   ]
  },
  {
   "cell_type": "code",
   "execution_count": 34,
   "metadata": {},
   "outputs": [
    {
     "data": {
      "text/html": [
       "<div>\n",
       "<style scoped>\n",
       "    .dataframe tbody tr th:only-of-type {\n",
       "        vertical-align: middle;\n",
       "    }\n",
       "\n",
       "    .dataframe tbody tr th {\n",
       "        vertical-align: top;\n",
       "    }\n",
       "\n",
       "    .dataframe thead th {\n",
       "        text-align: right;\n",
       "    }\n",
       "</style>\n",
       "<table border=\"1\" class=\"dataframe\">\n",
       "  <thead>\n",
       "    <tr style=\"text-align: right;\">\n",
       "      <th></th>\n",
       "      <th>Payoff Date</th>\n",
       "      <th>Num Payments</th>\n",
       "      <th>Interest Rate</th>\n",
       "      <th>Years</th>\n",
       "      <th>ReqPayment</th>\n",
       "      <th>AddPayment</th>\n",
       "      <th>Total Interest</th>\n",
       "    </tr>\n",
       "  </thead>\n",
       "  <tbody>\n",
       "    <tr>\n",
       "      <th>0</th>\n",
       "      <td>2027-05-01</td>\n",
       "      <td>329</td>\n",
       "      <td>0.04</td>\n",
       "      <td>30</td>\n",
       "      <td>477.42</td>\n",
       "      <td>23.871</td>\n",
       "      <td>64718.90</td>\n",
       "    </tr>\n",
       "    <tr>\n",
       "      <th>1</th>\n",
       "      <td>2024-07-01</td>\n",
       "      <td>295</td>\n",
       "      <td>0.05</td>\n",
       "      <td>30</td>\n",
       "      <td>536.82</td>\n",
       "      <td>53.682</td>\n",
       "      <td>73665.87</td>\n",
       "    </tr>\n",
       "    <tr>\n",
       "      <th>2</th>\n",
       "      <td>2014-12-01</td>\n",
       "      <td>180</td>\n",
       "      <td>0.04</td>\n",
       "      <td>15</td>\n",
       "      <td>739.69</td>\n",
       "      <td>0.000</td>\n",
       "      <td>33143.79</td>\n",
       "    </tr>\n",
       "  </tbody>\n",
       "</table>\n",
       "</div>"
      ],
      "text/plain": [
       "  Payoff Date  Num Payments  Interest Rate  Years  ReqPayment  AddPayment  Total Interest\n",
       "0  2027-05-01           329           0.04     30      477.42      23.871        64718.90\n",
       "1  2024-07-01           295           0.05     30      536.82      53.682        73665.87\n",
       "2  2014-12-01           180           0.04     15      739.69       0.000        33143.79"
      ]
     },
     "execution_count": 34,
     "metadata": {},
     "output_type": "execute_result"
    }
   ],
   "source": [
    "pd.DataFrame([stats[key] for key in stats.keys()])"
   ]
  },
  {
   "cell_type": "markdown",
   "metadata": {},
   "source": [
    "The scenario time lines"
   ]
  },
  {
   "cell_type": "code",
   "execution_count": 35,
   "metadata": {},
   "outputs": [
    {
     "data": {
      "image/png": "[encoded data removed]",
      "text/plain": [
       "<matplotlib.figure.Figure at 0x97fec88>"
      ]
     },
     "metadata": {},
     "output_type": "display_data"
    }
   ],
   "source": [
    "plot_balance(scenarios)"
   ]
  },
  {
   "cell_type": "markdown",
   "metadata": {},
   "source": [
    "Plot the annual interest for the different scenarios"
   ]
  },
  {
   "cell_type": "code",
   "execution_count": 36,
   "metadata": {},
   "outputs": [
    {
     "data": {
      "image/png": "[encoded data removed]",
      "text/plain": [
       "<matplotlib.figure.Figure at 0x98ad0f0>"
      ]
     },
     "metadata": {},
     "output_type": "display_data"
    }
   ],
   "source": [
    "plot_annual_interest(schedules, stats)   "
   ]
  },
  {
   "cell_type": "markdown",
   "metadata": {},
   "source": [
    "### Fixed scenario, different additional payments"
   ]
  },
  {
   "cell_type": "code",
   "execution_count": 37,
   "metadata": {},
   "outputs": [],
   "source": [
    "scenarios = {\n",
    "    '0.04%, add=0%, 30 years':{'princ':100000,'intr':0.04,'addprinc':0,'years':30},\n",
    "    '0.04%, add=2%, 30 years':{'princ':100000,'intr':0.04,'addprinc':2,'years':30},\n",
    "    '0.04%, add=10%, 30 years':{'princ':100000,'intr':0.04,'addprinc':10,'years':30},\n",
    "    '0.04%, add=20%, 30 years':{'princ':100000,'intr':0.04,'addprinc':20,'years':30},\n",
    "}\n",
    "        \n",
    "schedules,stats = calc_scenarios(scenarios) "
   ]
  },
  {
   "cell_type": "code",
   "execution_count": 38,
   "metadata": {},
   "outputs": [
    {
     "data": {
      "text/html": [
       "<div>\n",
       "<style scoped>\n",
       "    .dataframe tbody tr th:only-of-type {\n",
       "        vertical-align: middle;\n",
       "    }\n",
       "\n",
       "    .dataframe tbody tr th {\n",
       "        vertical-align: top;\n",
       "    }\n",
       "\n",
       "    .dataframe thead th {\n",
       "        text-align: right;\n",
       "    }\n",
       "</style>\n",
       "<table border=\"1\" class=\"dataframe\">\n",
       "  <thead>\n",
       "    <tr style=\"text-align: right;\">\n",
       "      <th></th>\n",
       "      <th>Payoff Date</th>\n",
       "      <th>Num Payments</th>\n",
       "      <th>Interest Rate</th>\n",
       "      <th>Years</th>\n",
       "      <th>ReqPayment</th>\n",
       "      <th>AddPayment</th>\n",
       "      <th>Total Interest</th>\n",
       "    </tr>\n",
       "  </thead>\n",
       "  <tbody>\n",
       "    <tr>\n",
       "      <th>0</th>\n",
       "      <td>2029-12-01</td>\n",
       "      <td>360</td>\n",
       "      <td>0.04</td>\n",
       "      <td>30</td>\n",
       "      <td>477.42</td>\n",
       "      <td>0.0000</td>\n",
       "      <td>71867.97</td>\n",
       "    </tr>\n",
       "    <tr>\n",
       "      <th>1</th>\n",
       "      <td>2028-11-01</td>\n",
       "      <td>347</td>\n",
       "      <td>0.04</td>\n",
       "      <td>30</td>\n",
       "      <td>477.42</td>\n",
       "      <td>9.5484</td>\n",
       "      <td>68813.48</td>\n",
       "    </tr>\n",
       "    <tr>\n",
       "      <th>2</th>\n",
       "      <td>2025-03-01</td>\n",
       "      <td>303</td>\n",
       "      <td>0.04</td>\n",
       "      <td>30</td>\n",
       "      <td>477.42</td>\n",
       "      <td>47.7420</td>\n",
       "      <td>58932.25</td>\n",
       "    </tr>\n",
       "    <tr>\n",
       "      <th>3</th>\n",
       "      <td>2021-10-01</td>\n",
       "      <td>262</td>\n",
       "      <td>0.04</td>\n",
       "      <td>30</td>\n",
       "      <td>477.42</td>\n",
       "      <td>95.4840</td>\n",
       "      <td>50098.82</td>\n",
       "    </tr>\n",
       "  </tbody>\n",
       "</table>\n",
       "</div>"
      ],
      "text/plain": [
       "  Payoff Date  Num Payments  Interest Rate  Years  ReqPayment  AddPayment  Total Interest\n",
       "0  2029-12-01           360           0.04     30      477.42      0.0000        71867.97\n",
       "1  2028-11-01           347           0.04     30      477.42      9.5484        68813.48\n",
       "2  2025-03-01           303           0.04     30      477.42     47.7420        58932.25\n",
       "3  2021-10-01           262           0.04     30      477.42     95.4840        50098.82"
      ]
     },
     "execution_count": 38,
     "metadata": {},
     "output_type": "execute_result"
    }
   ],
   "source": [
    "pd.DataFrame([stats[key] for key in stats.keys()])"
   ]
  },
  {
   "cell_type": "code",
   "execution_count": 39,
   "metadata": {
    "collapsed": true
   },
   "outputs": [
    {
     "data": {
      "image/png": "[encoded data removed]",
      "text/plain": [
       "<matplotlib.figure.Figure at 0x9ecacc0>"
      ]
     },
     "metadata": {},
     "output_type": "display_data"
    }
   ],
   "source": [
    "plot_balance(scenarios)"
   ]
  },
  {
   "cell_type": "code",
   "execution_count": 40,
   "metadata": {
    "collapsed": true
   },
   "outputs": [
    {
     "data": {
      "image/png": "[encoded data removed]",
      "text/plain": [
       "<matplotlib.figure.Figure at 0x9e9aa90>"
      ]
     },
     "metadata": {},
     "output_type": "display_data"
    }
   ],
   "source": [
    "plot_annual_interest(schedules, stats)   "
   ]
  },
  {
   "cell_type": "markdown",
   "metadata": {},
   "source": [
    "## Time Value of Money\n",
    "\n",
    "Inflation erodes the buying power of money over time.  As long as your salary keeps track, or exceeds, of inflation, the erosion effect might not be very noticeable. However, if your salary increases slower than inflation, your buying power decreases with time.\n",
    "\n",
    "From the table below it is evident that the value of money halves in 11.5 years if the inflation rate is 6%."
   ]
  },
  {
   "cell_type": "code",
   "execution_count": 41,
   "metadata": {},
   "outputs": [
    {
     "data": {
      "text/html": [
       "<div>\n",
       "<style scoped>\n",
       "    .dataframe tbody tr th:only-of-type {\n",
       "        vertical-align: middle;\n",
       "    }\n",
       "\n",
       "    .dataframe tbody tr th {\n",
       "        vertical-align: top;\n",
       "    }\n",
       "\n",
       "    .dataframe thead th {\n",
       "        text-align: right;\n",
       "    }\n",
       "</style>\n",
       "<table border=\"1\" class=\"dataframe\">\n",
       "  <thead>\n",
       "    <tr style=\"text-align: right;\">\n",
       "      <th></th>\n",
       "      <th>Inflation %</th>\n",
       "      <th>Years-to-half</th>\n",
       "    </tr>\n",
       "  </thead>\n",
       "  <tbody>\n",
       "    <tr>\n",
       "      <th>0</th>\n",
       "      <td>3.0</td>\n",
       "      <td>23.13378</td>\n",
       "    </tr>\n",
       "    <tr>\n",
       "      <th>1</th>\n",
       "      <td>4.0</td>\n",
       "      <td>17.35754</td>\n",
       "    </tr>\n",
       "    <tr>\n",
       "      <th>2</th>\n",
       "      <td>5.0</td>\n",
       "      <td>13.89180</td>\n",
       "    </tr>\n",
       "    <tr>\n",
       "      <th>3</th>\n",
       "      <td>6.0</td>\n",
       "      <td>11.58131</td>\n",
       "    </tr>\n",
       "    <tr>\n",
       "      <th>4</th>\n",
       "      <td>7.0</td>\n",
       "      <td>9.93096</td>\n",
       "    </tr>\n",
       "    <tr>\n",
       "      <th>5</th>\n",
       "      <td>8.0</td>\n",
       "      <td>8.69319</td>\n",
       "    </tr>\n",
       "    <tr>\n",
       "      <th>6</th>\n",
       "      <td>9.0</td>\n",
       "      <td>7.73048</td>\n",
       "    </tr>\n",
       "    <tr>\n",
       "      <th>7</th>\n",
       "      <td>10.0</td>\n",
       "      <td>6.96031</td>\n",
       "    </tr>\n",
       "    <tr>\n",
       "      <th>8</th>\n",
       "      <td>11.0</td>\n",
       "      <td>6.33018</td>\n",
       "    </tr>\n",
       "    <tr>\n",
       "      <th>9</th>\n",
       "      <td>12.0</td>\n",
       "      <td>5.80506</td>\n",
       "    </tr>\n",
       "    <tr>\n",
       "      <th>10</th>\n",
       "      <td>13.0</td>\n",
       "      <td>5.36073</td>\n",
       "    </tr>\n",
       "    <tr>\n",
       "      <th>11</th>\n",
       "      <td>14.0</td>\n",
       "      <td>4.97988</td>\n",
       "    </tr>\n",
       "    <tr>\n",
       "      <th>12</th>\n",
       "      <td>15.0</td>\n",
       "      <td>4.64980</td>\n",
       "    </tr>\n",
       "  </tbody>\n",
       "</table>\n",
       "</div>"
      ],
      "text/plain": [
       "    Inflation %  Years-to-half\n",
       "0           3.0       23.13378\n",
       "1           4.0       17.35754\n",
       "2           5.0       13.89180\n",
       "3           6.0       11.58131\n",
       "4           7.0        9.93096\n",
       "5           8.0        8.69319\n",
       "6           9.0        7.73048\n",
       "7          10.0        6.96031\n",
       "8          11.0        6.33018\n",
       "9          12.0        5.80506\n",
       "10         13.0        5.36073\n",
       "11         14.0        4.97988\n",
       "12         15.0        4.64980"
      ]
     },
     "execution_count": 41,
     "metadata": {},
     "output_type": "execute_result"
    }
   ],
   "source": [
    "df = pd.DataFrame()\n",
    "df['Inflation %'] =  np.linspace(3,15,13)\n",
    "df['Years-to-half'] = -np.log(0.5)/np.log(1+df['Inflation %']/(100*12))/12\n",
    "df"
   ]
  },
  {
   "cell_type": "code",
   "execution_count": 42,
   "metadata": {},
   "outputs": [
    {
     "data": {
      "image/png": "[encoded data removed]",
      "text/plain": [
       "<matplotlib.figure.Figure at 0x9e36b00>"
      ]
     },
     "metadata": {},
     "output_type": "display_data"
    }
   ],
   "source": [
    "figsize(10,6)\n",
    "fig, ax = plt.subplots(1, 1)\n",
    "df.plot(x='Inflation %', y='Years-to-half', label=f'', ax=ax)\n",
    "plt.title(\"Time to 50% of value\");\n",
    "plt.ylabel(\"Years\");"
   ]
  },
  {
   "cell_type": "markdown",
   "metadata": {},
   "source": [
    "Suppose it is possible to freeze the time value of money, to always remain at unity.  With the time value of money frozen, we can evaluate the value of asset growth and costs in a manner decoupled from the erosion effect of inflation: we evaluate the investment or cost in terms of  true buying power.  The money value would always have constant buying power irrespective of time into the future.\n",
    "\n",
    "Freezing the time value of money is readily done by considering any costs or growth relative to the inflation rate. If the inflation rate is 6% and an investment realises 8% growth, the real growth (corrected for inflation) is 2%.  Hence the effect of inflation on time value of money can be removed by considering all costs and growth relative to inflation: just subtract inflation rate.\n"
   ]
  },
  {
   "cell_type": "code",
   "execution_count": null,
   "metadata": {},
   "outputs": [],
   "source": []
  },
  {
   "cell_type": "code",
   "execution_count": null,
   "metadata": {},
   "outputs": [],
   "source": []
  },
  {
   "cell_type": "code",
   "execution_count": null,
   "metadata": {},
   "outputs": [],
   "source": []
  },
  {
   "cell_type": "code",
   "execution_count": null,
   "metadata": {},
   "outputs": [],
   "source": []
  },
  {
   "cell_type": "code",
   "execution_count": null,
   "metadata": {},
   "outputs": [],
   "source": []
  },
  {
   "cell_type": "raw",
   "metadata": {},
   "source": []
  },
  {
   "cell_type": "code",
   "execution_count": null,
   "metadata": {},
   "outputs": [],
   "source": []
  }
 ],
 "metadata": {
  "kernelspec": {
   "display_name": "Python 3",
   "language": "python",
   "name": "python3"
  },
  "language_info": {
   "codemirror_mode": {
    "name": "ipython",
    "version": 3
   },
   "file_extension": ".py",
   "mimetype": "text/x-python",
   "name": "python",
   "nbconvert_exporter": "python",
   "pygments_lexer": "ipython3",
   "version": "3.6.1"
  }
 },
 "nbformat": 4,
 "nbformat_minor": 2
}
