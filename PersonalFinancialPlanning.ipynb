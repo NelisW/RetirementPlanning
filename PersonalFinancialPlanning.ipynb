{
 "cells": [
  {
   "cell_type": "markdown",
   "metadata": {},
   "source": [
    "# Personal Financial Planning"
   ]
  },
  {
   "cell_type": "code",
   "execution_count": 7,
   "metadata": {},
   "outputs": [],
   "source": [
    "import numpy as np\n",
    "import pandas as pd\n",
    "from datetime import date\n",
    "from collections import OrderedDict\n",
    "from dateutil.relativedelta import *\n",
    "import matplotlib.pyplot as plt\n",
    "from IPython.core.pylabtools import figsize\n",
    "from IPython.core.display import display, HTML\n",
    "\n",
    "# pd.set_option('expand_frame_repr', False)\n",
    "pd.set_option('display.max_rows', 500)\n",
    "pd.set_option('display.max_columns', 500)\n",
    "pd.set_option('display.width', 1000)\n",
    "pd.set_option('precision',5)\n",
    "pd.set_option('display.max_colwidth',100)\n",
    "pd.options.mode.chained_assignment = None  # default='warn'\n",
    "\n",
    "%matplotlib inline\n",
    "plt.style.use('ggplot')"
   ]
  },
  {
   "cell_type": "markdown",
   "metadata": {},
   "source": [
    "## References\n",
    "\n",
    "<https://docs.scipy.org/doc/numpy-1.13.0/reference/routines.financial.html>  \n",
    "<http://pbpython.com/amortization-model-revised.html>  \n",
    "<http://www.financialmodellinghandbook.com/2014/03/15/sign-conventions/>  \n",
    "<https://cleffinance.blogspot.com/2012/01/pv-pmt-when-to-put-negative.html>  \n",
    "\n",
    "\n",
    "<https://jeffknupp.com/blog/2013/04/07/improve-your-python-yield-and-generators-explained/>  \n",
    "<http://inmachineswetrust.com/posts/understanding-generators/#cell3>  \n",
    "<https://github.com/NelisW/PythonNotesToSelf/blob/master/Generators.ipynb>\n",
    "\n",
    "\n"
   ]
  },
  {
   "cell_type": "markdown",
   "metadata": {},
   "source": [
    "## Introduction\n",
    "\n",
    "\n",
    "**A note on dates:**  The default start date in this notebook is 2000-01-01, mainly because it is easy to calculate the term remaining from a round number.  The date 0000-01-01 is not allowed in the Python code, so I start with the year 2000.\n",
    "\n",
    "Terminology: \n",
    "\n",
    "A *mortgage* is a loan (usually secured by a bond) where the purpose of the loan is to purchase a fixed asset in the name of the borrower, but where the lender has the right to seize the asset if the borrower defaults on payment. The lender's right to seize falls away once the loan is fully repaid.\n",
    "\n",
    "A *bond* is is a long term load agreement (by contract or certificate) whereby one party undertakes to repay the principal amount of the loan with interest by an agreed date. The term 'bond' is used in this document to imply a bond with a schedule of regular payments, usually monthly. In this notebook the terms bond and mortgage are use mostly equivalently.\n"
   ]
  },
  {
   "cell_type": "markdown",
   "metadata": {},
   "source": [
    "## Simple Financial Calculations\n",
    "\n",
    "The sign of a financial value is often confusing: some are positive others are negative. \n",
    "\n",
    "* When money is taken out from your pocket (outflows, you pay): use a negative sign.  \n",
    "* When money is given to you (inflows, pay to you), use a positive sign.\n",
    "\n",
    "When you borrow money, the capital principal is flowing in, it must be positice. The interest and payment due is flowing out, it must be negative.\n",
    "\n",
    "When you withdraw from an investment, the capital flowed out when making the investment, hence it must be negative.\n",
    "The withdrawal is flowing in, it must be positive."
   ]
  },
  {
   "cell_type": "code",
   "execution_count": 8,
   "metadata": {},
   "outputs": [],
   "source": [
    "Interest_Rate = 0.09\n",
    "Years = 20\n",
    "numAnnPayments = 12\n",
    "Principal = 1000000\n",
    "start_date = (date(2000,1,1))"
   ]
  },
  {
   "cell_type": "markdown",
   "metadata": {},
   "source": [
    "How large a monthly payment is required to repay bond?"
   ]
  },
  {
   "cell_type": "code",
   "execution_count": 9,
   "metadata": {},
   "outputs": [
    {
     "name": "stdout",
     "output_type": "stream",
     "text": [
      "Payment required -8997.259558501702\n"
     ]
    }
   ],
   "source": [
    "pmt = np.pmt(Interest_Rate/numAnnPayments, Years*numAnnPayments, Principal)\n",
    "print(f'Payment required {pmt}')"
   ]
  },
  {
   "cell_type": "markdown",
   "metadata": {},
   "source": [
    "How much interest or capital is paid in a specific period (a month in this case)"
   ]
  },
  {
   "cell_type": "code",
   "execution_count": 10,
   "metadata": {},
   "outputs": [
    {
     "name": "stdout",
     "output_type": "stream",
     "text": [
      "Interest payment -66.97711830150335, capital repayment -8930.282440200199\n"
     ]
    }
   ],
   "source": [
    "# Period/month for which to calculate\n",
    "per = 240\n",
    "\n",
    "# Calculate the interest\n",
    "ipmt = np.ipmt(Interest_Rate/numAnnPayments, per, Years*numAnnPayments, Principal)\n",
    "\n",
    "# Calculate the principal\n",
    "ppmt = np.ppmt(Interest_Rate/numAnnPayments, per, Years*numAnnPayments, Principal)\n",
    "\n",
    "print(f'Interest payment {ipmt}, capital repayment {ppmt}')\n"
   ]
  },
  {
   "cell_type": "code",
   "execution_count": 11,
   "metadata": {},
   "outputs": [
    {
     "name": "stdout",
     "output_type": "stream",
     "text": [
      "Object `payments` not found.\n"
     ]
    }
   ],
   "source": [
    "How large should the payment be to pay back a bond with regular payments?"
   ]
  },
  {
   "cell_type": "code",
   "execution_count": null,
   "metadata": {},
   "outputs": [],
   "source": [
    "How large should the payment be to pay back a bond with regular payments"
   ]
  },
  {
   "cell_type": "markdown",
   "metadata": {},
   "source": [
    "How large should the payment be to pay back a bond with regular payments"
   ]
  },
  {
   "cell_type": "code",
   "execution_count": 12,
   "metadata": {},
   "outputs": [
    {
     "data": {
      "text/plain": [
       "-20758.355226353873"
      ]
     },
     "execution_count": 12,
     "metadata": {},
     "output_type": "execute_result"
    }
   ],
   "source": [
    "np.pmt(rate=0.09/12, nper=5*12, pv=1000000, fv=0, when='end')"
   ]
  },
  {
   "cell_type": "markdown",
   "metadata": {},
   "source": [
    "## Time Value of Money\n",
    "\n",
    "Inflation erodes the buying power of money over time.  As long as your salary keeps track, or exceeds, of inflation, the erosion effect might not be very noticeable. However, if your salary increases slower than inflation, your buying power decreases with time.\n",
    "\n",
    "From the table below it is evident that the value of money halves in 11.5 years if the inflation rate is 6%."
   ]
  },
  {
   "cell_type": "code",
   "execution_count": 13,
   "metadata": {},
   "outputs": [
    {
     "data": {
      "text/html": [
       "<div>\n",
       "<style scoped>\n",
       "    .dataframe tbody tr th:only-of-type {\n",
       "        vertical-align: middle;\n",
       "    }\n",
       "\n",
       "    .dataframe tbody tr th {\n",
       "        vertical-align: top;\n",
       "    }\n",
       "\n",
       "    .dataframe thead th {\n",
       "        text-align: right;\n",
       "    }\n",
       "</style>\n",
       "<table border=\"1\" class=\"dataframe\">\n",
       "  <thead>\n",
       "    <tr style=\"text-align: right;\">\n",
       "      <th></th>\n",
       "      <th>Inflation %</th>\n",
       "      <th>Years-to-half</th>\n",
       "    </tr>\n",
       "  </thead>\n",
       "  <tbody>\n",
       "    <tr>\n",
       "      <th>0</th>\n",
       "      <td>3.0</td>\n",
       "      <td>23.13378</td>\n",
       "    </tr>\n",
       "    <tr>\n",
       "      <th>1</th>\n",
       "      <td>4.0</td>\n",
       "      <td>17.35754</td>\n",
       "    </tr>\n",
       "    <tr>\n",
       "      <th>2</th>\n",
       "      <td>5.0</td>\n",
       "      <td>13.89180</td>\n",
       "    </tr>\n",
       "    <tr>\n",
       "      <th>3</th>\n",
       "      <td>6.0</td>\n",
       "      <td>11.58131</td>\n",
       "    </tr>\n",
       "    <tr>\n",
       "      <th>4</th>\n",
       "      <td>7.0</td>\n",
       "      <td>9.93096</td>\n",
       "    </tr>\n",
       "    <tr>\n",
       "      <th>5</th>\n",
       "      <td>8.0</td>\n",
       "      <td>8.69319</td>\n",
       "    </tr>\n",
       "    <tr>\n",
       "      <th>6</th>\n",
       "      <td>9.0</td>\n",
       "      <td>7.73048</td>\n",
       "    </tr>\n",
       "    <tr>\n",
       "      <th>7</th>\n",
       "      <td>10.0</td>\n",
       "      <td>6.96031</td>\n",
       "    </tr>\n",
       "    <tr>\n",
       "      <th>8</th>\n",
       "      <td>11.0</td>\n",
       "      <td>6.33018</td>\n",
       "    </tr>\n",
       "    <tr>\n",
       "      <th>9</th>\n",
       "      <td>12.0</td>\n",
       "      <td>5.80506</td>\n",
       "    </tr>\n",
       "    <tr>\n",
       "      <th>10</th>\n",
       "      <td>13.0</td>\n",
       "      <td>5.36073</td>\n",
       "    </tr>\n",
       "    <tr>\n",
       "      <th>11</th>\n",
       "      <td>14.0</td>\n",
       "      <td>4.97988</td>\n",
       "    </tr>\n",
       "    <tr>\n",
       "      <th>12</th>\n",
       "      <td>15.0</td>\n",
       "      <td>4.64980</td>\n",
       "    </tr>\n",
       "  </tbody>\n",
       "</table>\n",
       "</div>"
      ],
      "text/plain": [
       "    Inflation %  Years-to-half\n",
       "0           3.0       23.13378\n",
       "1           4.0       17.35754\n",
       "2           5.0       13.89180\n",
       "3           6.0       11.58131\n",
       "4           7.0        9.93096\n",
       "5           8.0        8.69319\n",
       "6           9.0        7.73048\n",
       "7          10.0        6.96031\n",
       "8          11.0        6.33018\n",
       "9          12.0        5.80506\n",
       "10         13.0        5.36073\n",
       "11         14.0        4.97988\n",
       "12         15.0        4.64980"
      ]
     },
     "execution_count": 13,
     "metadata": {},
     "output_type": "execute_result"
    }
   ],
   "source": [
    "df = pd.DataFrame()\n",
    "df['Inflation %'] =  np.linspace(3,15,13)\n",
    "df['Years-to-half'] = -np.log(0.5)/np.log(1+df['Inflation %']/(100*12))/12\n",
    "df"
   ]
  },
  {
   "cell_type": "code",
   "execution_count": 14,
   "metadata": {},
   "outputs": [
    {
     "data": {
      "image/png": "[encoded data removed]",
      "text/plain": [
       "<matplotlib.figure.Figure at 0x950ef28>"
      ]
     },
     "metadata": {},
     "output_type": "display_data"
    }
   ],
   "source": [
    "figsize(10,6)\n",
    "fig, ax = plt.subplots(1, 1)\n",
    "df.plot(x='Inflation %', y='Years-to-half', label=f'', ax=ax)\n",
    "plt.title(\"Time to 50% of value\");\n",
    "plt.ylabel(\"Years\");"
   ]
  },
  {
   "cell_type": "markdown",
   "metadata": {},
   "source": [
    "Suppose it is possible to freeze the time value of money, to always remain at unity.  With the time value of money frozen, we can evaluate the value of asset growth and costs in a manner decoupled from the erosion effect of inflation: we evaluate the investment or cost in terms of  true buying power.  The money value would always have constant buying power irrespective of time into the future.\n",
    "\n",
    "Freezing the time value of money is readily done by considering any costs or growth relative to the inflation rate. If the inflation rate is 6% and an investment realises 8% growth, the real growth (corrected for inflation) is 2%.  Hence the effect of inflation on time value of money can be removed by considering all costs and growth relative to inflation: just subtract inflation rate.\n"
   ]
  },
  {
   "cell_type": "markdown",
   "metadata": {},
   "source": [
    "## Mortgage Bond Amortisation Model\n",
    "\n",
    "This model and code is taken from http://pbpython.com/amortization-model-revised.html. Moffit was looking for a way to do amortisation  calculations in Pandas without loops, but ended up using a generator function to do the looping.  The generator does a complete set of loops and then provides the answer to a Pandas DataFrame.   The power of Pandas is therefore not available during the loop, but it is available afterwards for analysis and plotting.  Moffit's original code is heavily refactored and cleaned up here. \n",
    "\n",
    "The algorithm to be executed at every time interval (e.g. every month) is as follows:\n",
    "\n",
    "1. Calculate the interest on the balance, rounded to two decimals.\n",
    "1. Calculate the payment as the smaller of the outstanding balance or the contractual payment amount (to account for a smaller payment in the last cycle).\n",
    "1. Calculate the additional payment as the smaller of the outstanding balance or the fixed additional payment amount (to account for a smaller payment in the last cycle). \n",
    "1. Calculate the new balance by adding the interest and subtracting the two payments (but account for the signs of the financial values).\n",
    "1. Calculate some housekeeping values like the date and payment cycle number.\n",
    "\n",
    "It should be evident that the interest is calculated compound at each payment cycle, hence it adjusts at every payment cycle. \n",
    "\n",
    "The `amortise` function below is a Python generator function that provides iterative results for each time interval.  This generator is used to populate a Pandas DataFrame for subsequent anaysis."
   ]
  },
  {
   "cell_type": "code",
   "execution_count": 15,
   "metadata": {
    "collapsed": true
   },
   "outputs": [],
   "source": [
    "def amortise(principal, interest_rate, years, reqpayment, addpayment,start_date, numAnnPayments,addpayrate=0):\n",
    "    \"\"\"\n",
    "    Calculate the amortization schedule given the loan details.\n",
    "\n",
    "    :param principal: Amount borrowed\n",
    "    :param interest_rate: The annual interest rate for this loan\n",
    "    :param years: Number of years for the loan\n",
    "    :param reqpayment: Payment amount per period\n",
    "    :param addpayment: Initial value of additional payments to be made each period.\n",
    "    :param start_date: Start date for the loan.\n",
    "    :param numAnnPayments: Number of payments in a year.\n",
    "    :param addpayrate: Rate of increase in additional payment, calculated once per year.\n",
    "\n",
    "    :return: \n",
    "        schedule: Amortization schedule as an Ordered Dictionary\n",
    "    \"\"\"\n",
    "\n",
    "    # initialize the variables to keep track of the periods and running balances\n",
    "    p = 1\n",
    "    beg_balance = principal\n",
    "    end_balance = principal\n",
    "    currentyear = start_date.year\n",
    "\n",
    "    while end_balance > 0:\n",
    "        \n",
    "        # Recalculate the interest based on the current balance\n",
    "        interest = - round(((interest_rate/numAnnPayments) * beg_balance), 2)\n",
    "        \n",
    "        # Determine payment based on whether or not this period will pay off the loan\n",
    "        reqpayment = - min(-reqpayment, beg_balance - interest)\n",
    "        \n",
    "        # Ensure additional payment gets adjusted if the loan is being paid off\n",
    "        addpayment = - min(-addpayment, beg_balance - interest + reqpayment)\n",
    "        \n",
    "        end_balance = beg_balance - interest  + reqpayment  + addpayment\n",
    "\n",
    "        yield OrderedDict([('Month',start_date),\n",
    "                           ('Period', p),\n",
    "                           ('Begin Balance', beg_balance),\n",
    "                           ('ReqPayment', reqpayment),\n",
    "                           ('Principal', principal),\n",
    "                           ('Interest', interest),\n",
    "                           ('AddPayment', addpayment),\n",
    "                           ('End Balance', end_balance)])\n",
    "        \n",
    "        # Increment the counter, balance and date\n",
    "        p += 1\n",
    "        start_date += relativedelta(months=1)\n",
    "        beg_balance = end_balance\n",
    "        \n",
    "        # only increase the additional payment once per year\n",
    "        if start_date.year != currentyear:\n",
    "            currentyear = start_date.year\n",
    "            addpayment *= 1 + addpayrate\n"
   ]
  },
  {
   "cell_type": "markdown",
   "metadata": {},
   "source": [
    "Confirm that the `amortize` function is a generator:"
   ]
  },
  {
   "cell_type": "code",
   "execution_count": 16,
   "metadata": {},
   "outputs": [
    {
     "data": {
      "text/plain": [
       "<generator object amortise at 0x000000000950AE08>"
      ]
     },
     "execution_count": 16,
     "metadata": {},
     "output_type": "execute_result"
    }
   ],
   "source": [
    "amortise(principal=10000, interest_rate=.03, years=5, reqpayment=-400, addpayment=0, start_date=date(2000, 1,1), numAnnPayments=12)"
   ]
  },
  {
   "cell_type": "markdown",
   "metadata": {},
   "source": [
    "Next create a wrapper function to use `amortize` to fill a Pandas DataFrame.  This function primarily cleans up the table and provides summary stats so it is easy to compare various scenarios.  See the function docstring for the parameters and conventions to be used.\n",
    "\n",
    "Note that the additional payment can be specified as a money value or as a fraction  \n",
    "    of the required payment. Complex value notation is used where the money value \n",
    "    is the real component (e.g., -2300, negative value) and the fraction value is \n",
    "    the imaginary component (e.g., .02j, positive fraction). If the (negative) real component \n",
    "    (money value) is given the (positive) imaginary component (fraction value) is ignored.\n",
    "\n"
   ]
  },
  {
   "cell_type": "code",
   "execution_count": 17,
   "metadata": {
    "collapsed": true
   },
   "outputs": [],
   "source": [
    "def amortisation_table(principal, interest_rate, years,reqpayment,\n",
    "                       addpayment=0, numAnnPayments=12, start_date=(date(2000,1,1)),addpayrate=0):\n",
    "    \"\"\"\n",
    "    Calculate the amortization schedule given the loan details as well as summary stats for the loan\n",
    "\n",
    "    :param principal: Amount borrowed (positive)\n",
    "    :param interest_rate: The *annual* interest rate for this loan (positive)\n",
    "    :param years: Number of years for the loan (positive)\n",
    "    :param reqpayment: minimum required payment to meet the term requirements (negative)\n",
    "    :param numAnnPayments (optional): Number of payments in a year. Default 12.\n",
    "    :param addpayment (optional): Additional payments to be made each period. ** See note below. Default 0. (negative)\n",
    "    :param start_date (optional): Start date. Default 2000-01-01 if none provided\n",
    "    :param addpayrate: Rate of increase in additional payment, calculated once per year.\n",
    "\n",
    "    The additional payment can be specified as a money value or as a fraction  \n",
    "    of the required payment. Complex value notation is used where the money value \n",
    "    is the real component (e.g., -2300, negative value) and the fraction value is \n",
    "    the imaginary component (e.g., .02j, positive fraction). If the (negative) real component \n",
    "    (money value) is given the (positive) imaginary component (fraction value) is ignored.\n",
    "\n",
    "    :return: \n",
    "        schedule: Amortization schedule as a pandas dataframe\n",
    "        summary: Pandas dataframe that summarizes the payoff information\n",
    "    \"\"\"\n",
    "    \n",
    "    if np.real(addpayment) != 0:\n",
    "        addpayment = np.real(addpayment)\n",
    "    elif np.imag(addpayment) != 0:\n",
    "             addpayment = reqpayment * np.imag(addpayment )\n",
    "    else:\n",
    "        addpayment = 0\n",
    "    \n",
    "    # Generate the schedule \n",
    "    schedule = pd.DataFrame(amortise(principal, interest_rate, years, reqpayment,\n",
    "                                     addpayment, start_date, numAnnPayments,addpayrate=addpayrate))\n",
    "    # reorder the columns\n",
    "    schedule = schedule[[\"Period\", \"Month\", \"Begin Balance\", \"ReqPayment\",\"AddPayment\",\n",
    "                         \"Interest\", \"End Balance\"]]\n",
    "    \n",
    "    # Convert to a pandas datetime object to make subsequent calcs easier\n",
    "    schedule[\"Month\"] = pd.to_datetime(schedule[\"Month\"])\n",
    "    \n",
    "    #Create a summary statistics table\n",
    "    payoff_date = schedule[\"Month\"].iloc[-1]\n",
    "    stats = pd.Series([principal,payoff_date, schedule[\"Period\"].count(), interest_rate,\n",
    "                       years, reqpayment, addpayment,addpayrate,\n",
    "                       schedule[\"Interest\"].sum()],\n",
    "                       index=[\"Principal\",\"Payoff Date\", \"Num Payments\", \"Interest Rate\", \"Years\", \n",
    "                             \"ReqPayment\", \"AddPayment\", \"Addpayrate\",\"Total Interest\"])\n",
    "    \n",
    "    return schedule, stats"
   ]
  },
  {
   "cell_type": "markdown",
   "metadata": {},
   "source": [
    "Example showing how to call the function"
   ]
  },
  {
   "cell_type": "code",
   "execution_count": 41,
   "metadata": {},
   "outputs": [],
   "source": [
    "principal = 1000000\n",
    "interest_rate = 0.09\n",
    "years = 20\n",
    "numAnnPayments = 12\n",
    "reqpayment = round(np.pmt(interest_rate/numAnnPayments, years*numAnnPayments, principal), 2)\n",
    "\n",
    "df, stats = amortisation_table(\n",
    "    principal=principal, \n",
    "    interest_rate=interest_rate, \n",
    "    years=30, \n",
    "    reqpayment = reqpayment,\n",
    "    addpayment = 0.02j,\n",
    "    numAnnPayments=numAnnPayments, \n",
    "    start_date=date(2000, 1,1),\n",
    "    addpayrate=0.0\n",
    "    )"
   ]
  },
  {
   "cell_type": "markdown",
   "metadata": {},
   "source": [
    "The `stats` DataFrame provide a summary of the total contract, showing the key values, including the required payment, additional payment (if provided) and the total interest over the full term of the contract.  Note that the principal value is positive (inflow) and the payments and interest are negative (outflow)."
   ]
  },
  {
   "cell_type": "code",
   "execution_count": 42,
   "metadata": {},
   "outputs": [
    {
     "data": {
      "text/plain": [
       "Principal                     1000000\n",
       "Payoff Date       2018-12-01 00:00:00\n",
       "Num Payments                      228\n",
       "Interest Rate                    0.09\n",
       "Years                              30\n",
       "ReqPayment                    -8997.3\n",
       "AddPayment                    -179.95\n",
       "Addpayrate                          0\n",
       "Total Interest            -1.0875e+06\n",
       "dtype: object"
      ]
     },
     "execution_count": 42,
     "metadata": {},
     "output_type": "execute_result"
    }
   ],
   "source": [
    "stats"
   ]
  },
  {
   "cell_type": "markdown",
   "metadata": {},
   "source": [
    "The following table shows the first few and the last few cycles of the schedule. Note that in the first month 83% of the payment is interest: only 17% of the payment is applied towards reducing the loan amount.  Towards the end of the term the interest reduces to a small percentage."
   ]
  },
  {
   "cell_type": "code",
   "execution_count": 44,
   "metadata": {},
   "outputs": [
    {
     "data": {
      "text/html": [
       "<table border=\"1\" class=\"dataframe\">\n",
       "  <thead>\n",
       "    <tr style=\"text-align: right;\">\n",
       "      <th></th>\n",
       "      <th>Period</th>\n",
       "      <th>Month</th>\n",
       "      <th>Begin Balance</th>\n",
       "      <th>ReqPayment</th>\n",
       "      <th>AddPayment</th>\n",
       "      <th>Interest</th>\n",
       "      <th>End Balance</th>\n",
       "      <th>IntPercent</th>\n",
       "    </tr>\n",
       "  </thead>\n",
       "  <tbody>\n",
       "    <tr>\n",
       "      <th>0</th>\n",
       "      <td>1</td>\n",
       "      <td>2000-01-01</td>\n",
       "      <td>1000000.0000</td>\n",
       "      <td>-8997.26</td>\n",
       "      <td>-179.9452</td>\n",
       "      <td>-7500.00</td>\n",
       "      <td>998322.7948</td>\n",
       "      <td>83.35871</td>\n",
       "    </tr>\n",
       "    <tr>\n",
       "      <th>1</th>\n",
       "      <td>2</td>\n",
       "      <td>2000-02-01</td>\n",
       "      <td>998322.7948</td>\n",
       "      <td>-8997.26</td>\n",
       "      <td>-179.9452</td>\n",
       "      <td>-7487.42</td>\n",
       "      <td>996633.0096</td>\n",
       "      <td>83.21889</td>\n",
       "    </tr>\n",
       "    <tr>\n",
       "      <th>2</th>\n",
       "      <td>3</td>\n",
       "      <td>2000-03-01</td>\n",
       "      <td>996633.0096</td>\n",
       "      <td>-8997.26</td>\n",
       "      <td>-179.9452</td>\n",
       "      <td>-7474.75</td>\n",
       "      <td>994930.5544</td>\n",
       "      <td>83.07807</td>\n",
       "    </tr>\n",
       "    <tr>\n",
       "      <th>3</th>\n",
       "      <td>4</td>\n",
       "      <td>2000-04-01</td>\n",
       "      <td>994930.5544</td>\n",
       "      <td>-8997.26</td>\n",
       "      <td>-179.9452</td>\n",
       "      <td>-7461.98</td>\n",
       "      <td>993215.3292</td>\n",
       "      <td>82.93614</td>\n",
       "    </tr>\n",
       "    <tr>\n",
       "      <th>4</th>\n",
       "      <td>5</td>\n",
       "      <td>2000-05-01</td>\n",
       "      <td>993215.3292</td>\n",
       "      <td>-8997.26</td>\n",
       "      <td>-179.9452</td>\n",
       "      <td>-7449.11</td>\n",
       "      <td>991487.2340</td>\n",
       "      <td>82.79309</td>\n",
       "    </tr>\n",
       "  </tbody>\n",
       "</table>"
      ],
      "text/plain": [
       "<IPython.core.display.HTML object>"
      ]
     },
     "metadata": {},
     "output_type": "display_data"
    },
    {
     "data": {
      "text/html": [
       "<table border=\"1\" class=\"dataframe\">\n",
       "  <thead>\n",
       "    <tr style=\"text-align: right;\">\n",
       "      <th></th>\n",
       "      <th>Period</th>\n",
       "      <th>Month</th>\n",
       "      <th>Begin Balance</th>\n",
       "      <th>ReqPayment</th>\n",
       "      <th>AddPayment</th>\n",
       "      <th>Interest</th>\n",
       "      <th>End Balance</th>\n",
       "      <th>IntPercent</th>\n",
       "    </tr>\n",
       "  </thead>\n",
       "  <tbody>\n",
       "    <tr>\n",
       "      <th>223</th>\n",
       "      <td>224</td>\n",
       "      <td>2018-08-01</td>\n",
       "      <td>40116.8204</td>\n",
       "      <td>-8997.2600</td>\n",
       "      <td>-179.9452</td>\n",
       "      <td>-300.88</td>\n",
       "      <td>31240.4952</td>\n",
       "      <td>3.34413</td>\n",
       "    </tr>\n",
       "    <tr>\n",
       "      <th>224</th>\n",
       "      <td>225</td>\n",
       "      <td>2018-09-01</td>\n",
       "      <td>31240.4952</td>\n",
       "      <td>-8997.2600</td>\n",
       "      <td>-179.9452</td>\n",
       "      <td>-234.30</td>\n",
       "      <td>22297.5900</td>\n",
       "      <td>2.60413</td>\n",
       "    </tr>\n",
       "    <tr>\n",
       "      <th>225</th>\n",
       "      <td>226</td>\n",
       "      <td>2018-10-01</td>\n",
       "      <td>22297.5900</td>\n",
       "      <td>-8997.2600</td>\n",
       "      <td>-179.9452</td>\n",
       "      <td>-167.23</td>\n",
       "      <td>13287.6148</td>\n",
       "      <td>1.85868</td>\n",
       "    </tr>\n",
       "    <tr>\n",
       "      <th>226</th>\n",
       "      <td>227</td>\n",
       "      <td>2018-11-01</td>\n",
       "      <td>13287.6148</td>\n",
       "      <td>-8997.2600</td>\n",
       "      <td>-179.9452</td>\n",
       "      <td>-99.66</td>\n",
       "      <td>4210.0696</td>\n",
       "      <td>1.10767</td>\n",
       "    </tr>\n",
       "    <tr>\n",
       "      <th>227</th>\n",
       "      <td>228</td>\n",
       "      <td>2018-12-01</td>\n",
       "      <td>4210.0696</td>\n",
       "      <td>-4241.6496</td>\n",
       "      <td>-0.0000</td>\n",
       "      <td>-31.58</td>\n",
       "      <td>0.0000</td>\n",
       "      <td>0.74452</td>\n",
       "    </tr>\n",
       "  </tbody>\n",
       "</table>"
      ],
      "text/plain": [
       "<IPython.core.display.HTML object>"
      ]
     },
     "metadata": {},
     "output_type": "display_data"
    }
   ],
   "source": [
    "df['IntPercent'] = 100 * df['Interest'] / df['ReqPayment']\n",
    "display(HTML(df.head().to_html()))\n",
    "display(HTML(df.tail().to_html()))\n"
   ]
  },
  {
   "cell_type": "markdown",
   "metadata": {},
   "source": [
    "## Interest on Bond vs Set-Up Costs\n",
    "\n",
    "Is it worth borrowing money for an investment property with the objective of writing interest off against tax?\n",
    "It would seem to make sense to invest some cash and then take out a bond to cover the remainder of the purchase price.\n",
    "The rent is an income and hence is taxable, however the bond interest is an expense and must be subtracted from the rent income before tax.\n",
    "So in principle, it seems like a good idea to take out a bond and get the tax benefit on the interest.  In effect the tax man pays a portion of the interest.\n",
    "\n",
    "This model increases the rent from a starting value only once per year.\n",
    "\n",
    "Observe the effect of the number of years from 5 to 20, and the effect of changing the tax rate.\n",
    "\n",
    "This analysis presently ignores the effect of time value of money.  \n",
    "\n"
   ]
  },
  {
   "cell_type": "code",
   "execution_count": 45,
   "metadata": {},
   "outputs": [],
   "source": [
    "# to calculate the rent income into a DataFrame\n",
    "def renttable(rent, increasepyear, numcycles,date):\n",
    "    \"\"\"The `renttable` function calculates the rent increasing \n",
    "    once per year (not every month) at the stated rate.\n",
    "    \"\"\"\n",
    "\n",
    "    p = 1\n",
    "    currentyear = date.year\n",
    "\n",
    "    while p < numcycles + 1:      \n",
    "        yield OrderedDict([('Month',date),('Period', p),('Rent', rent)])  \n",
    "        # Increment the counter, balance and date\n",
    "        p += 1\n",
    "        date += relativedelta(months=1)\n",
    "        # only increase the rent once per year\n",
    "        if date.year != currentyear:\n",
    "            currentyear = date.year\n",
    "            rent *= 1 + increasepyear\n",
    "                           \n",
    "\n",
    "def rent_income(rentpmonth, increasepyear, numcycles, start_date=(date(2000,1,1))):\n",
    "    \n",
    "    # Generate the rent income schedule \n",
    "    rischedule = pd.DataFrame(renttable(rentpmonth, increasepyear, numcycles,start_date))\n",
    "    \n",
    "    # Convert to a pandas datetime object to make subsequent calcs easier\n",
    "    rischedule[\"Month\"] = pd.to_datetime(rischedule[\"Month\"])\n",
    "\n",
    "    return rischedule"
   ]
  },
  {
   "cell_type": "code",
   "execution_count": 46,
   "metadata": {},
   "outputs": [],
   "source": [
    "# to evaluate the tax benefits\n",
    "def bondtaxsavingsanalysis(principal,interest_rate,years,taxrate,rentpmonth,increasepyear,numAnnPayments=12):\n",
    "    \n",
    "    reqpayment = round(np.pmt(interest_rate/numAnnPayments, years*numAnnPayments, principal), 2)\n",
    "\n",
    "    # calculate the mortgage \n",
    "    df, stats = amortisation_table(\n",
    "        principal=principal, \n",
    "        interest_rate=interest_rate, \n",
    "        years=years, \n",
    "        reqpayment = reqpayment,\n",
    "        addpayment=0,\n",
    "        numAnnPayments=numAnnPayments, \n",
    "        start_date=date(2000, 1,1))\n",
    "\n",
    "    numcycles = stats['Num Payments']\n",
    "    rischedule = rent_income(rentpmonth=rentpmonth, increasepyear=increasepyear, numcycles=numcycles)\n",
    "    # Now merge the bond table with the rent income table\n",
    "    dfc = df.copy().drop([\"ReqPayment\",\"AddPayment\",\"Begin Balance\"],axis=1)\n",
    "    dfc = dfc.merge(rischedule.drop([\"Month\"],axis=1), on='Period')\n",
    "    \n",
    "    # number of payments\n",
    "    dfc['NumPay'] = stats['Num Payments']\n",
    "    \n",
    "    # save tax for later\n",
    "    dfc['TaxRate'] = taxrate\n",
    "    \n",
    "    # tax and net income if **NO** bond present\n",
    "    dfc['TaxNoInter'] = - taxrate * (dfc['Rent'])\n",
    "    # can't get tax back\n",
    "    dfc['TaxNoInter'][dfc['TaxNoInter'] > 0] = 0\n",
    "    dfc['IncomeNoInter'] = dfc['Rent'] + dfc['TaxNoInter']\n",
    "\n",
    "    # tax and net income if bond present\n",
    "    dfc['TaxWithInter'] = - taxrate * (dfc['Rent'] + dfc['Interest'])\n",
    "    # can't get tax back\n",
    "    dfc['TaxWithInter'][dfc['TaxWithInter'] > 0] = 0\n",
    "    dfc['IncomeWithInter'] = dfc['Rent'] + dfc['TaxWithInter']\n",
    "\n",
    "    # net benefit\n",
    "    dfc['BondBenefit'] = dfc['IncomeWithInter'] - dfc['IncomeNoInter']\n",
    "\n",
    "    #Create a summary statistics table\n",
    "    nistats = pd.Series([stats['Principal'],stats['Interest Rate'],\n",
    "                         stats['ReqPayment'],stats['AddPayment'],dfc[\"Period\"].count(),\n",
    "                         rentpmonth,  increasepyear,\n",
    "                         taxrate,\n",
    "                         dfc[\"Rent\"].sum(),\n",
    "                         dfc[\"TaxNoInter\"].sum(),\n",
    "                         dfc[\"IncomeNoInter\"].sum(),\n",
    "                         dfc[\"TaxWithInter\"].sum(),\n",
    "                         dfc[\"IncomeWithInter\"].sum(),\n",
    "                         dfc[\"BondBenefit\"].sum(),\n",
    "                         100 * dfc[\"BondBenefit\"].sum()/dfc[\"Rent\"].sum(),\n",
    "                        ],\n",
    "                       index=[\"Bond\",\"Interest Rate\",\n",
    "                              \"ReqPayment\",\"AddPayment\",\"Num Payments\",\n",
    "                              \"InitRent\",  \"RentIncrease\",\n",
    "                              \"TaxRate\",\n",
    "                              \"Total Rent\",\n",
    "                              \"TaxNoInter\",\n",
    "                              \"IncomeNoInter\",\n",
    "                              \"TaxWithInter\",\n",
    "                              \"IncomeWithInter\",\n",
    "                              \"BondBenefit\",\n",
    "                              \"Benefit/Rent %\",\n",
    "                             ])\n",
    "\n",
    "    if False:\n",
    "        fig, ax = plt.subplots(1, 1)\n",
    "        # for scenario in scenarios.keys():\n",
    "        #     schedules[scenario].plot(x='Month', y='End Balance', label=f'{scenario}', ax=ax)\n",
    "        dfc.plot(x='Month',y='Rent', label='Rent', ax=ax)    \n",
    "        dfc.plot(x='Month',y='Interest', label='Interest', ax=ax)    \n",
    "        dfc.plot(x='Month',y='TaxNoInter', label='TaxNoInter', ax=ax)    \n",
    "        dfc.plot(x='Month',y='TaxWithInter', label='TaxWithInter', ax=ax)    \n",
    "        plt.title(\"Repayment Timelines\");\n",
    "        plt.ylabel(\"Value\");\n",
    "        plt.xlabel(\"Time\");\n",
    "        \n",
    "    return dfc,nistats"
   ]
  },
  {
   "cell_type": "code",
   "execution_count": 49,
   "metadata": {},
   "outputs": [],
   "source": [
    "# bond values\n",
    "principal = 500000\n",
    "interest_rate = 0.09\n",
    "\n",
    "# tax rate and rental income \n",
    "rentpmonth = 4500\n",
    "increasepyear = 0.06\n",
    "\n",
    "dfSch = pd.DataFrame()\n",
    "dfSum = pd.DataFrame()\n",
    "\n",
    "for years in [4,5,20]:\n",
    "    for taxrate in [0.2, 0.33, 0.42]:\n",
    "        dfc,nistats = bondtaxsavingsanalysis(principal=principal,\n",
    "                            interest_rate=interest_rate,years=years,\n",
    "                            taxrate=taxrate,rentpmonth=rentpmonth,\n",
    "                            increasepyear=increasepyear)\n",
    "        # append all cases in to single df, must be filtered later\n",
    "        dfSch = dfSch.append(dfc)\n",
    "        # append all summaries into single df\n",
    "        dfSum = dfSum.append(nistats,ignore_index=True)"
   ]
  },
  {
   "cell_type": "markdown",
   "metadata": {},
   "source": [
    "The `dfSch` data frame contains all the month's status' for all the scenarios in one data frame.  To plot or analyse you must apply a filter to select only the required `NumPay` and `TaxRate` values."
   ]
  },
  {
   "cell_type": "code",
   "execution_count": 50,
   "metadata": {},
   "outputs": [
    {
     "data": {
      "text/html": [
       "<table border=\"1\" class=\"dataframe\">\n",
       "  <thead>\n",
       "    <tr style=\"text-align: right;\">\n",
       "      <th></th>\n",
       "      <th>Period</th>\n",
       "      <th>Month</th>\n",
       "      <th>Interest</th>\n",
       "      <th>End Balance</th>\n",
       "      <th>Rent</th>\n",
       "      <th>NumPay</th>\n",
       "      <th>TaxRate</th>\n",
       "      <th>TaxNoInter</th>\n",
       "      <th>IncomeNoInter</th>\n",
       "      <th>TaxWithInter</th>\n",
       "      <th>IncomeWithInter</th>\n",
       "      <th>BondBenefit</th>\n",
       "    </tr>\n",
       "  </thead>\n",
       "  <tbody>\n",
       "    <tr>\n",
       "      <th>0</th>\n",
       "      <td>1</td>\n",
       "      <td>2000-01-01</td>\n",
       "      <td>-3750.00</td>\n",
       "      <td>491307.48</td>\n",
       "      <td>4500.0</td>\n",
       "      <td>49</td>\n",
       "      <td>0.2</td>\n",
       "      <td>-900.0</td>\n",
       "      <td>3600.0</td>\n",
       "      <td>-150.000</td>\n",
       "      <td>4350.000</td>\n",
       "      <td>750.000</td>\n",
       "    </tr>\n",
       "    <tr>\n",
       "      <th>1</th>\n",
       "      <td>2</td>\n",
       "      <td>2000-02-01</td>\n",
       "      <td>-3684.81</td>\n",
       "      <td>482549.77</td>\n",
       "      <td>4500.0</td>\n",
       "      <td>49</td>\n",
       "      <td>0.2</td>\n",
       "      <td>-900.0</td>\n",
       "      <td>3600.0</td>\n",
       "      <td>-163.038</td>\n",
       "      <td>4336.962</td>\n",
       "      <td>736.962</td>\n",
       "    </tr>\n",
       "    <tr>\n",
       "      <th>2</th>\n",
       "      <td>3</td>\n",
       "      <td>2000-03-01</td>\n",
       "      <td>-3619.12</td>\n",
       "      <td>473726.37</td>\n",
       "      <td>4500.0</td>\n",
       "      <td>49</td>\n",
       "      <td>0.2</td>\n",
       "      <td>-900.0</td>\n",
       "      <td>3600.0</td>\n",
       "      <td>-176.176</td>\n",
       "      <td>4323.824</td>\n",
       "      <td>723.824</td>\n",
       "    </tr>\n",
       "    <tr>\n",
       "      <th>3</th>\n",
       "      <td>4</td>\n",
       "      <td>2000-04-01</td>\n",
       "      <td>-3552.95</td>\n",
       "      <td>464836.80</td>\n",
       "      <td>4500.0</td>\n",
       "      <td>49</td>\n",
       "      <td>0.2</td>\n",
       "      <td>-900.0</td>\n",
       "      <td>3600.0</td>\n",
       "      <td>-189.410</td>\n",
       "      <td>4310.590</td>\n",
       "      <td>710.590</td>\n",
       "    </tr>\n",
       "    <tr>\n",
       "      <th>4</th>\n",
       "      <td>5</td>\n",
       "      <td>2000-05-01</td>\n",
       "      <td>-3486.28</td>\n",
       "      <td>455880.56</td>\n",
       "      <td>4500.0</td>\n",
       "      <td>49</td>\n",
       "      <td>0.2</td>\n",
       "      <td>-900.0</td>\n",
       "      <td>3600.0</td>\n",
       "      <td>-202.744</td>\n",
       "      <td>4297.256</td>\n",
       "      <td>697.256</td>\n",
       "    </tr>\n",
       "  </tbody>\n",
       "</table>"
      ],
      "text/plain": [
       "<IPython.core.display.HTML object>"
      ]
     },
     "metadata": {},
     "output_type": "display_data"
    },
    {
     "data": {
      "text/html": [
       "<table border=\"1\" class=\"dataframe\">\n",
       "  <thead>\n",
       "    <tr style=\"text-align: right;\">\n",
       "      <th></th>\n",
       "      <th>Period</th>\n",
       "      <th>Month</th>\n",
       "      <th>Interest</th>\n",
       "      <th>End Balance</th>\n",
       "      <th>Rent</th>\n",
       "      <th>NumPay</th>\n",
       "      <th>TaxRate</th>\n",
       "      <th>TaxNoInter</th>\n",
       "      <th>IncomeNoInter</th>\n",
       "      <th>TaxWithInter</th>\n",
       "      <th>IncomeWithInter</th>\n",
       "      <th>BondBenefit</th>\n",
       "    </tr>\n",
       "  </thead>\n",
       "  <tbody>\n",
       "    <tr>\n",
       "      <th>235</th>\n",
       "      <td>236</td>\n",
       "      <td>2019-08-01</td>\n",
       "      <td>-164.97</td>\n",
       "      <td>17661.78</td>\n",
       "      <td>13615.19776</td>\n",
       "      <td>240</td>\n",
       "      <td>0.42</td>\n",
       "      <td>-5718.38306</td>\n",
       "      <td>7896.8147</td>\n",
       "      <td>-5649.09566</td>\n",
       "      <td>7966.1021</td>\n",
       "      <td>69.2874</td>\n",
       "    </tr>\n",
       "    <tr>\n",
       "      <th>236</th>\n",
       "      <td>237</td>\n",
       "      <td>2019-09-01</td>\n",
       "      <td>-132.46</td>\n",
       "      <td>13295.61</td>\n",
       "      <td>13615.19776</td>\n",
       "      <td>240</td>\n",
       "      <td>0.42</td>\n",
       "      <td>-5718.38306</td>\n",
       "      <td>7896.8147</td>\n",
       "      <td>-5662.74986</td>\n",
       "      <td>7952.4479</td>\n",
       "      <td>55.6332</td>\n",
       "    </tr>\n",
       "    <tr>\n",
       "      <th>237</th>\n",
       "      <td>238</td>\n",
       "      <td>2019-10-01</td>\n",
       "      <td>-99.72</td>\n",
       "      <td>8896.70</td>\n",
       "      <td>13615.19776</td>\n",
       "      <td>240</td>\n",
       "      <td>0.42</td>\n",
       "      <td>-5718.38306</td>\n",
       "      <td>7896.8147</td>\n",
       "      <td>-5676.50066</td>\n",
       "      <td>7938.6971</td>\n",
       "      <td>41.8824</td>\n",
       "    </tr>\n",
       "    <tr>\n",
       "      <th>238</th>\n",
       "      <td>239</td>\n",
       "      <td>2019-11-01</td>\n",
       "      <td>-66.73</td>\n",
       "      <td>4464.80</td>\n",
       "      <td>13615.19776</td>\n",
       "      <td>240</td>\n",
       "      <td>0.42</td>\n",
       "      <td>-5718.38306</td>\n",
       "      <td>7896.8147</td>\n",
       "      <td>-5690.35646</td>\n",
       "      <td>7924.8413</td>\n",
       "      <td>28.0266</td>\n",
       "    </tr>\n",
       "    <tr>\n",
       "      <th>239</th>\n",
       "      <td>240</td>\n",
       "      <td>2019-12-01</td>\n",
       "      <td>-33.49</td>\n",
       "      <td>0.00</td>\n",
       "      <td>13615.19776</td>\n",
       "      <td>240</td>\n",
       "      <td>0.42</td>\n",
       "      <td>-5718.38306</td>\n",
       "      <td>7896.8147</td>\n",
       "      <td>-5704.31726</td>\n",
       "      <td>7910.8805</td>\n",
       "      <td>14.0658</td>\n",
       "    </tr>\n",
       "  </tbody>\n",
       "</table>"
      ],
      "text/plain": [
       "<IPython.core.display.HTML object>"
      ]
     },
     "metadata": {},
     "output_type": "display_data"
    }
   ],
   "source": [
    "display(HTML(dfSch.head().to_html()))\n",
    "display(HTML(dfSch.tail().to_html()))"
   ]
  },
  {
   "cell_type": "markdown",
   "metadata": {},
   "source": [
    "The final conclusion is as follows:"
   ]
  },
  {
   "cell_type": "code",
   "execution_count": 51,
   "metadata": {},
   "outputs": [],
   "source": [
    "# to compare different bond and tax rate scenarios\n",
    "drops = ['AddPayment','Bond','IncomeNoInter','IncomeWithInter',\n",
    "         'InitRent','ReqPayment','TaxNoInter','TaxWithInter','Total Rent','Interest Rate']\n",
    "df = dfSum.drop(drops,axis=1)\n",
    "df = df[['Num Payments','TaxRate','BondBenefit','Benefit/Rent %']]\n",
    "# display(HTML(df.to_html(index=False)))"
   ]
  },
  {
   "cell_type": "markdown",
   "metadata": {},
   "source": [
    "The following table shows the savings (BondBenefit) by claiming the interest back from tax:"
   ]
  },
  {
   "cell_type": "code",
   "execution_count": 52,
   "metadata": {},
   "outputs": [
    {
     "data": {
      "text/html": [
       "<table border=\"1\" class=\"dataframe\">\n",
       "  <thead>\n",
       "    <tr>\n",
       "      <th></th>\n",
       "      <th colspan=\"3\" halign=\"left\">BondBenefit</th>\n",
       "    </tr>\n",
       "    <tr>\n",
       "      <th>TaxRate</th>\n",
       "      <th>0.20</th>\n",
       "      <th>0.33</th>\n",
       "      <th>0.42</th>\n",
       "    </tr>\n",
       "    <tr>\n",
       "      <th>Num Payments</th>\n",
       "      <th></th>\n",
       "      <th></th>\n",
       "      <th></th>\n",
       "    </tr>\n",
       "  </thead>\n",
       "  <tbody>\n",
       "    <tr>\n",
       "      <th>49.0</th>\n",
       "      <td>19448.202</td>\n",
       "      <td>32089.5333</td>\n",
       "      <td>40841.2242</td>\n",
       "    </tr>\n",
       "    <tr>\n",
       "      <th>60.0</th>\n",
       "      <td>24550.118</td>\n",
       "      <td>40507.6947</td>\n",
       "      <td>51555.2478</td>\n",
       "    </tr>\n",
       "    <tr>\n",
       "      <th>240.0</th>\n",
       "      <td>115934.172</td>\n",
       "      <td>191291.3838</td>\n",
       "      <td>243461.7612</td>\n",
       "    </tr>\n",
       "  </tbody>\n",
       "</table>"
      ],
      "text/plain": [
       "<IPython.core.display.HTML object>"
      ]
     },
     "metadata": {},
     "output_type": "display_data"
    }
   ],
   "source": [
    "dfp = pd.pivot_table(df, index=['Num Payments'],values=['BondBenefit'],columns=['TaxRate'])\n",
    "display(HTML(dfp.to_html(index=True)))\n"
   ]
  },
  {
   "cell_type": "markdown",
   "metadata": {},
   "source": [
    "It seems that for bond periods of around 4 to 5 years, the savings benefit is only significant at high tax rates: the cost of setting up the bond may consume a substantial portion of the actual savings. As expected, at higher tax rates the income benefit is more. The savings expressed as percentage of rental income before tax and interest is not very high.\n",
    "\n",
    "However, this calculation is not completely accurate:\n",
    "1. To repay the bond over five years you need to pay a significant additional amount. There is a cost to this additional payment not accounted for this simple calculation.\n",
    "1. The time value of money is not included here."
   ]
  },
  {
   "cell_type": "markdown",
   "metadata": {},
   "source": [
    "## Bond Repayment Studies\n",
    "\n",
    "Define a few standard utility functions"
   ]
  },
  {
   "cell_type": "code",
   "execution_count": 53,
   "metadata": {},
   "outputs": [],
   "source": [
    "def plot_balance(scenarios):\n",
    "    \"\"\"Plot the remaining balance of all scenarios\n",
    "    \"\"\"\n",
    "    fig, ax = plt.subplots(1, 1)\n",
    "    for scenario in scenarios.keys():\n",
    "        schedules[scenario].plot(x='Month', y='End Balance', label=f'{scenario}', ax=ax)\n",
    "    plt.title(\"Repayment Timelines\");\n",
    "    plt.ylabel(\"Balance\");"
   ]
  },
  {
   "cell_type": "code",
   "execution_count": 54,
   "metadata": {},
   "outputs": [],
   "source": [
    "def plot_annual_interest(schedule, stats):\n",
    "    \"\"\"Plot the annual interest of all scenarios\n",
    "    \"\"\"\n",
    "    ys = {}\n",
    "    labels = {}\n",
    "    for scenario in scenarios.keys():\n",
    "        ys[scenario],labels[scenario] = annual_interest(schedules[scenario], stats[scenario])\n",
    "\n",
    "    dfai = pd.concat([ys[scenario] for scenario in ys.keys()], axis=1)\n",
    "    # print(dfai)\n",
    "\n",
    "    figsize(7,5)\n",
    "    fig, ax = plt.subplots(1, 1)\n",
    "    dfai.plot(kind=\"bar\", ax=ax)\n",
    "\n",
    "    plt.legend([labels[scenario] for scenario in labels.keys()], loc=1, prop={'size':10})\n",
    "    plt.title(\"Interest Payments\");"
   ]
  },
  {
   "cell_type": "code",
   "execution_count": 55,
   "metadata": {},
   "outputs": [],
   "source": [
    "def annual_interest(schedule, stats):\n",
    "    \"\"\"Create a dataframe with annual interest totals, and a descriptive label\n",
    "    \"\"\"\n",
    "    annint = schedule.set_index('Month')['Interest'].resample(\"A\").sum().reset_index()\n",
    "    annint[\"Year\"] = annint[\"Month\"].dt.year\n",
    "    annint.set_index('Year', inplace=True)\n",
    "    annint.drop('Month', 1, inplace=True)\n",
    "    label=\"{} years at {}% with additional payment of {:.0f}\".format(stats['Years'], stats['Interest Rate']*100, stats['AddPayment'])\n",
    "    return annint, label\n",
    "\n"
   ]
  },
  {
   "cell_type": "code",
   "execution_count": 56,
   "metadata": {},
   "outputs": [],
   "source": [
    "def calc_scenarios(scenarios,numAnnPayments=12,paymentSign=1):\n",
    "    \"\"\"Given a scenario dictionary calculate bond schedules and statistics\n",
    "    \"\"\"\n",
    "    schedules = {}\n",
    "    stats = {}\n",
    "    \n",
    "    for scenario in scenarios.keys():\n",
    "        if 'reqPayment' not in scenarios[scenario].keys():\n",
    "            scenarios[scenario]['reqPayment'] = \\\n",
    "                paymentSign * round(np.pmt(scenarios[scenario]['intr'] / numAnnPayments, \n",
    "                              scenarios[scenario]['years'] * numAnnPayments, \n",
    "                              scenarios[scenario]['princ']), 2);\n",
    "       \n",
    "        schedules[scenario], stats[scenario] = amortisation_table(\n",
    "                        scenarios[scenario]['princ'], \n",
    "                        scenarios[scenario]['intr'], \n",
    "                        scenarios[scenario]['years'], \n",
    "                        scenarios[scenario]['reqPayment'], \n",
    "                        scenarios[scenario]['addPayment'],\n",
    "                        numAnnPayments=12\n",
    "                    );\n",
    "    return schedules,stats\n"
   ]
  },
  {
   "cell_type": "markdown",
   "metadata": {},
   "source": [
    "### Fixed scenario, different additional payments\n",
    "\n",
    "This calculation shows how the bond/mortgage term can be shortened by adding a fixed percentage (0%, 2%, 10%, 20%, or 30%) to the required payment.  By increasing the payment the term is shortened significantly and the total money paid is much reduced."
   ]
  },
  {
   "cell_type": "code",
   "execution_count": 57,
   "metadata": {},
   "outputs": [],
   "source": [
    "scenarios = {\n",
    "    '0.04%, add=0%, 20 years':{'princ':1000000,'intr':0.09,'addPayment':0,'years':20},\n",
    "    '0.04%, add=2%, 20 years':{'princ':1000000,'intr':0.09,'addPayment':0.02j,'years':20},\n",
    "    '0.04%, add=10%, 20 years':{'princ':1000000,'intr':0.09,'addPayment':0.1j,'years':20},\n",
    "    '0.04%, add=20%, 20 years':{'princ':1000000,'intr':0.09,'addPayment':0.2j,'years':20},\n",
    "    '0.04%, add=30%, 20 years':{'princ':1000000,'intr':0.09,'addPayment':0.3j,'years':20},\n",
    "}\n",
    "        \n",
    "schedules,stats = calc_scenarios(scenarios) "
   ]
  },
  {
   "cell_type": "code",
   "execution_count": 61,
   "metadata": {},
   "outputs": [
    {
     "data": {
      "text/html": [
       "<table border=\"1\" class=\"dataframe\">\n",
       "  <thead>\n",
       "    <tr style=\"text-align: right;\">\n",
       "      <th></th>\n",
       "      <th>Principal</th>\n",
       "      <th>Payoff Date</th>\n",
       "      <th>Num Payments</th>\n",
       "      <th>Interest Rate</th>\n",
       "      <th>Years</th>\n",
       "      <th>ReqPayment</th>\n",
       "      <th>AddPayment</th>\n",
       "      <th>Addpayrate</th>\n",
       "      <th>Total Interest</th>\n",
       "      <th>Additional % payment</th>\n",
       "      <th>TotalPaid/Principal</th>\n",
       "    </tr>\n",
       "  </thead>\n",
       "  <tbody>\n",
       "    <tr>\n",
       "      <th>0</th>\n",
       "      <td>1000000</td>\n",
       "      <td>2019-12-01</td>\n",
       "      <td>240</td>\n",
       "      <td>0.09</td>\n",
       "      <td>20.00000</td>\n",
       "      <td>-8997.26</td>\n",
       "      <td>0.0000</td>\n",
       "      <td>0</td>\n",
       "      <td>-1159342.10</td>\n",
       "      <td>-0.0</td>\n",
       "      <td>2.15934</td>\n",
       "    </tr>\n",
       "    <tr>\n",
       "      <th>1</th>\n",
       "      <td>1000000</td>\n",
       "      <td>2018-12-01</td>\n",
       "      <td>228</td>\n",
       "      <td>0.09</td>\n",
       "      <td>19.00000</td>\n",
       "      <td>-8997.26</td>\n",
       "      <td>-179.9452</td>\n",
       "      <td>0</td>\n",
       "      <td>-1087467.23</td>\n",
       "      <td>2.0</td>\n",
       "      <td>2.08747</td>\n",
       "    </tr>\n",
       "    <tr>\n",
       "      <th>2</th>\n",
       "      <td>1000000</td>\n",
       "      <td>2015-10-01</td>\n",
       "      <td>190</td>\n",
       "      <td>0.09</td>\n",
       "      <td>15.83333</td>\n",
       "      <td>-8997.26</td>\n",
       "      <td>-899.7260</td>\n",
       "      <td>0</td>\n",
       "      <td>-878228.77</td>\n",
       "      <td>10.0</td>\n",
       "      <td>1.87823</td>\n",
       "    </tr>\n",
       "    <tr>\n",
       "      <th>3</th>\n",
       "      <td>1000000</td>\n",
       "      <td>2013-03-01</td>\n",
       "      <td>159</td>\n",
       "      <td>0.09</td>\n",
       "      <td>13.25000</td>\n",
       "      <td>-8997.26</td>\n",
       "      <td>-1799.4520</td>\n",
       "      <td>0</td>\n",
       "      <td>-714178.37</td>\n",
       "      <td>20.0</td>\n",
       "      <td>1.71418</td>\n",
       "    </tr>\n",
       "    <tr>\n",
       "      <th>4</th>\n",
       "      <td>1000000</td>\n",
       "      <td>2011-06-01</td>\n",
       "      <td>138</td>\n",
       "      <td>0.09</td>\n",
       "      <td>11.50000</td>\n",
       "      <td>-8997.26</td>\n",
       "      <td>-2699.1780</td>\n",
       "      <td>0</td>\n",
       "      <td>-604582.36</td>\n",
       "      <td>30.0</td>\n",
       "      <td>1.60458</td>\n",
       "    </tr>\n",
       "  </tbody>\n",
       "</table>"
      ],
      "text/plain": [
       "<IPython.core.display.HTML object>"
      ]
     },
     "metadata": {},
     "output_type": "display_data"
    }
   ],
   "source": [
    "dfstats = pd.DataFrame([stats[key] for key in stats.keys()])\n",
    "dfstats['Years'] = dfstats['Num Payments'] / 12\n",
    "dfstats['Additional % payment'] = 100 * dfstats['AddPayment'] / dfstats['ReqPayment']\n",
    "dfstats['TotalPaid/Principal'] = 1 - dfstats['Total Interest'] / dfstats['Principal']\n",
    "display(HTML(dfstats.to_html()))"
   ]
  },
  {
   "cell_type": "markdown",
   "metadata": {},
   "source": [
    "Notice how the term of the contract dramatically shortens if a fixed additional payment is made. If you pay 30% extra over and above the required payment, the term shortens from 20 years to just under 12 years."
   ]
  },
  {
   "cell_type": "code",
   "execution_count": 63,
   "metadata": {},
   "outputs": [
    {
     "data": {
      "image/png": "[encoded data removed]",
      "text/plain": [
       "<matplotlib.figure.Figure at 0x96396a0>"
      ]
     },
     "metadata": {},
     "output_type": "display_data"
    }
   ],
   "source": [
    "fig, ax = plt.subplots(1, 1)\n",
    "dfstats.plot(x='Additional % payment', y='Years', ax=ax)\n",
    "plt.title(\"Effect of fixed additional payment on term\");\n",
    "plt.ylabel(\"Term duration [years]\");\n"
   ]
  },
  {
   "cell_type": "markdown",
   "metadata": {},
   "source": [
    "The next graph shows the total money repaid on the contract as a function of additional payment.  \n",
    "\n",
    "If no additional payment is made, the total amount paid back over the full term of the contract is 2.16 times the initial loan principal amount.\n",
    "\n",
    "Notice how the interest dramatically reduces if a fixed additional payment is made. \n",
    "If you pay 30% extra over and above the required payment, the total amount paid back over the full term of the contract is 1.6 times the initial loan principal amount."
   ]
  },
  {
   "cell_type": "code",
   "execution_count": 66,
   "metadata": {},
   "outputs": [
    {
     "data": {
      "image/png": "[encoded data removed]",
      "text/plain": [
       "<matplotlib.figure.Figure at 0xa2d8d30>"
      ]
     },
     "metadata": {},
     "output_type": "display_data"
    }
   ],
   "source": [
    "fig, ax = plt.subplots(1, 1)\n",
    "dfstats.plot(x='Additional % payment', y='TotalPaid/Principal', ax=ax)\n",
    "plt.title(\"Effect of fixed additional payment on total money paid\");\n",
    "plt.ylabel(\"Total money paid / principal\");\n"
   ]
  },
  {
   "cell_type": "code",
   "execution_count": 67,
   "metadata": {
    "collapsed": true
   },
   "outputs": [
    {
     "data": {
      "image/png": "[encoded data removed]",
      "text/plain": [
       "<matplotlib.figure.Figure at 0xa3282b0>"
      ]
     },
     "metadata": {},
     "output_type": "display_data"
    }
   ],
   "source": [
    "plot_balance(scenarios)"
   ]
  },
  {
   "cell_type": "code",
   "execution_count": 68,
   "metadata": {
    "collapsed": true
   },
   "outputs": [
    {
     "data": {
      "image/png": "[encoded data removed]",
      "text/plain": [
       "<matplotlib.figure.Figure at 0x9f66908>"
      ]
     },
     "metadata": {},
     "output_type": "display_data"
    }
   ],
   "source": [
    "plot_annual_interest(schedules, stats)   "
   ]
  },
  {
   "cell_type": "markdown",
   "metadata": {},
   "source": [
    "## Moving funds between bonds for miminal interest\n",
    "\n",
    "### The scenario\n",
    "\n",
    "Suppose I need to raise some money to buy a property but a mortgage bond is not optimal because the money must be paid back in a short time.  It was shown above that for shorter-term loans, the cost of obtaining the bond minimises the tax savings benefit.\n",
    "\n",
    "There are three existing mortgage bonds against which money can be drawn against. Two of these properties raise rent income, hence the interest can be claimed against tax.  The third property mortgage has the lowest interest rate but the interest cannot be claimed against tax. The final objective is to repay all three mortgage bonds in four to five years. How much money must be drawn from the three different mortgage bonds to raise the new money for the lowest total cost?  Finally, to repay all three bonds in the required time, how much additional payments must be made in each mortgage bond?\n",
    "\n",
    "For simplicity we assume that the additional down payment funds are free (no costs or losses in other investments).\n",
    "\n",
    "This is a classical minimisation problem, which can be solved by many different techniques.\n"
   ]
  },
  {
   "cell_type": "code",
   "execution_count": null,
   "metadata": {},
   "outputs": [],
   "source": []
  },
  {
   "cell_type": "code",
   "execution_count": null,
   "metadata": {},
   "outputs": [],
   "source": []
  },
  {
   "cell_type": "code",
   "execution_count": 37,
   "metadata": {},
   "outputs": [
    {
     "data": {
      "text/plain": [
       "-20758.355226353873"
      ]
     },
     "execution_count": 37,
     "metadata": {},
     "output_type": "execute_result"
    }
   ],
   "source": [
    "np.pmt(rate=0.09/12, nper=5*12, pv=1000000, fv=0, when='end')"
   ]
  },
  {
   "cell_type": "code",
   "execution_count": null,
   "metadata": {},
   "outputs": [],
   "source": []
  },
  {
   "cell_type": "code",
   "execution_count": null,
   "metadata": {},
   "outputs": [],
   "source": []
  },
  {
   "cell_type": "code",
   "execution_count": null,
   "metadata": {},
   "outputs": [],
   "source": []
  },
  {
   "cell_type": "markdown",
   "metadata": {},
   "source": [
    "## Retirement Fund Depletion"
   ]
  },
  {
   "cell_type": "markdown",
   "metadata": {},
   "source": [
    "to be completed\n",
    "\n",
    "\n",
    "DCF:  \n",
    "https://www.investopedia.com/terms/d/dcf.asp  \n",
    "https://www.wallstreetprep.com/knowledge/dcf-model-training-6-steps-building-dcf-model-excel/  \n",
    "http://kaushik316-blog.logdown.com/posts/1651749-stock-valuation-with-python  \n",
    "https://stackoverflow.com/questions/35849994/financial-modelling-with-pandas-dataframe  \n",
    "\n"
   ]
  },
  {
   "cell_type": "code",
   "execution_count": null,
   "metadata": {},
   "outputs": [],
   "source": []
  },
  {
   "cell_type": "code",
   "execution_count": null,
   "metadata": {},
   "outputs": [],
   "source": []
  }
 ],
 "metadata": {
  "kernelspec": {
   "display_name": "Python 3",
   "language": "python",
   "name": "python3"
  },
  "language_info": {
   "codemirror_mode": {
    "name": "ipython",
    "version": 3
   },
   "file_extension": ".py",
   "mimetype": "text/x-python",
   "name": "python",
   "nbconvert_exporter": "python",
   "pygments_lexer": "ipython3",
   "version": "3.6.1"
  }
 },
 "nbformat": 4,
 "nbformat_minor": 2
}
