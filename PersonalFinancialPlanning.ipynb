{
 "cells": [
  {
   "cell_type": "markdown",
   "metadata": {},
   "source": [
    "# Personal Financial Planning"
   ]
  },
  {
   "cell_type": "code",
   "execution_count": 258,
   "metadata": {},
   "outputs": [],
   "source": [
    "import numpy as np\n",
    "import pandas as pd\n",
    "from datetime import date\n",
    "from collections import OrderedDict\n",
    "from dateutil.relativedelta import *\n",
    "import matplotlib.pyplot as plt\n",
    "from IPython.core.pylabtools import figsize\n",
    "from IPython.core.display import display, HTML\n",
    "\n",
    "# pd.set_option('expand_frame_repr', False)\n",
    "pd.set_option('display.max_rows', 500)\n",
    "pd.set_option('display.max_columns', 500)\n",
    "pd.set_option('display.width', 1000)\n",
    "pd.set_option('precision',5)\n",
    "pd.set_option('display.max_colwidth',100)\n",
    "pd.options.mode.chained_assignment = None  # default='warn'\n",
    "\n",
    "%matplotlib inline\n",
    "plt.style.use('ggplot')"
   ]
  },
  {
   "cell_type": "markdown",
   "metadata": {},
   "source": [
    "## References\n",
    "\n",
    "<http://pbpython.com/amortization-model-revised.html>  \n",
    "<https://docs.scipy.org/doc/numpy-1.13.0/reference/routines.financial.html>  \n",
    "<http://www.financialmodellinghandbook.com/2014/03/15/sign-conventions/>  \n",
    "<https://cleffinance.blogspot.com/2012/01/pv-pmt-when-to-put-negative.html>  \n",
    "\n",
    "\n",
    "<https://jeffknupp.com/blog/2013/04/07/improve-your-python-yield-and-generators-explained/>  \n",
    "<http://inmachineswetrust.com/posts/understanding-generators/#cell3>  \n",
    "<https://github.com/NelisW/PythonNotesToSelf/blob/master/Generators.ipynb>\n",
    "\n",
    "\n"
   ]
  },
  {
   "cell_type": "markdown",
   "metadata": {},
   "source": [
    "## Introduction\n",
    "\n",
    "\n",
    "**A note on dates:**  The default start date in this notebook is 2000-01-01, mainly because it is easy to calculate the term remaining from a round number.  The date 0000-01-01 is not allowed in the Python code, so I start with the year 2000."
   ]
  },
  {
   "cell_type": "markdown",
   "metadata": {},
   "source": [
    "## Simple Financial Calculations\n",
    "\n",
    "The sign of a financial value is often confusing: some are positive others are negative. \n",
    "\n",
    "* When money is taken out from your pocket (outflows, you pay): use a negative sign.  \n",
    "* When money is given to you (inflows, pay to you), use a positive sign.\n",
    "\n",
    "When you borrow money, the capital principal is flowing in, it must be positice. The interest and payment due is flowing out, it must be negative.\n",
    "\n",
    "When you withdraw from an investment, the capital flowed out when making the investment, hence it must be negative.\n",
    "The withdrawal is flowing in, it must be positive."
   ]
  },
  {
   "cell_type": "code",
   "execution_count": 259,
   "metadata": {},
   "outputs": [],
   "source": [
    "Interest_Rate = 0.09\n",
    "Years = 20\n",
    "numAnnPayments = 12\n",
    "Principal = 1000000\n",
    "start_date = (date(2000,1,1))"
   ]
  },
  {
   "cell_type": "markdown",
   "metadata": {},
   "source": [
    "How large a monthly payment is required to repay bond?"
   ]
  },
  {
   "cell_type": "code",
   "execution_count": 260,
   "metadata": {},
   "outputs": [
    {
     "name": "stdout",
     "output_type": "stream",
     "text": [
      "Payment required -8997.259558501702\n"
     ]
    }
   ],
   "source": [
    "pmt = np.pmt(Interest_Rate/numAnnPayments, Years*numAnnPayments, Principal)\n",
    "print(f'Payment required {pmt}')"
   ]
  },
  {
   "cell_type": "markdown",
   "metadata": {},
   "source": [
    "How much interest or capital is paid in a specific period (a month in this case)"
   ]
  },
  {
   "cell_type": "code",
   "execution_count": 261,
   "metadata": {},
   "outputs": [
    {
     "name": "stdout",
     "output_type": "stream",
     "text": [
      "Interest payment -66.97711830150335, capital repayment -8930.282440200199\n"
     ]
    }
   ],
   "source": [
    "# Period/month for which to calculate\n",
    "per = 240\n",
    "\n",
    "# Calculate the interest\n",
    "ipmt = np.ipmt(Interest_Rate/numAnnPayments, per, Years*numAnnPayments, Principal)\n",
    "\n",
    "# Calculate the principal\n",
    "ppmt = np.ppmt(Interest_Rate/numAnnPayments, per, Years*numAnnPayments, Principal)\n",
    "\n",
    "print(f'Interest payment {ipmt}, capital repayment {ppmt}')\n"
   ]
  },
  {
   "cell_type": "markdown",
   "metadata": {},
   "source": [
    "## Time Value of Money\n",
    "\n",
    "Inflation erodes the buying power of money over time.  As long as your salary keeps track, or exceeds, of inflation, the erosion effect might not be very noticeable. However, if your salary increases slower than inflation, your buying power decreases with time.\n",
    "\n",
    "From the table below it is evident that the value of money halves in 11.5 years if the inflation rate is 6%."
   ]
  },
  {
   "cell_type": "code",
   "execution_count": 262,
   "metadata": {},
   "outputs": [
    {
     "data": {
      "text/html": [
       "<div>\n",
       "<style scoped>\n",
       "    .dataframe tbody tr th:only-of-type {\n",
       "        vertical-align: middle;\n",
       "    }\n",
       "\n",
       "    .dataframe tbody tr th {\n",
       "        vertical-align: top;\n",
       "    }\n",
       "\n",
       "    .dataframe thead th {\n",
       "        text-align: right;\n",
       "    }\n",
       "</style>\n",
       "<table border=\"1\" class=\"dataframe\">\n",
       "  <thead>\n",
       "    <tr style=\"text-align: right;\">\n",
       "      <th></th>\n",
       "      <th>Inflation %</th>\n",
       "      <th>Years-to-half</th>\n",
       "    </tr>\n",
       "  </thead>\n",
       "  <tbody>\n",
       "    <tr>\n",
       "      <th>0</th>\n",
       "      <td>3.0</td>\n",
       "      <td>23.13378</td>\n",
       "    </tr>\n",
       "    <tr>\n",
       "      <th>1</th>\n",
       "      <td>4.0</td>\n",
       "      <td>17.35754</td>\n",
       "    </tr>\n",
       "    <tr>\n",
       "      <th>2</th>\n",
       "      <td>5.0</td>\n",
       "      <td>13.89180</td>\n",
       "    </tr>\n",
       "    <tr>\n",
       "      <th>3</th>\n",
       "      <td>6.0</td>\n",
       "      <td>11.58131</td>\n",
       "    </tr>\n",
       "    <tr>\n",
       "      <th>4</th>\n",
       "      <td>7.0</td>\n",
       "      <td>9.93096</td>\n",
       "    </tr>\n",
       "    <tr>\n",
       "      <th>5</th>\n",
       "      <td>8.0</td>\n",
       "      <td>8.69319</td>\n",
       "    </tr>\n",
       "    <tr>\n",
       "      <th>6</th>\n",
       "      <td>9.0</td>\n",
       "      <td>7.73048</td>\n",
       "    </tr>\n",
       "    <tr>\n",
       "      <th>7</th>\n",
       "      <td>10.0</td>\n",
       "      <td>6.96031</td>\n",
       "    </tr>\n",
       "    <tr>\n",
       "      <th>8</th>\n",
       "      <td>11.0</td>\n",
       "      <td>6.33018</td>\n",
       "    </tr>\n",
       "    <tr>\n",
       "      <th>9</th>\n",
       "      <td>12.0</td>\n",
       "      <td>5.80506</td>\n",
       "    </tr>\n",
       "    <tr>\n",
       "      <th>10</th>\n",
       "      <td>13.0</td>\n",
       "      <td>5.36073</td>\n",
       "    </tr>\n",
       "    <tr>\n",
       "      <th>11</th>\n",
       "      <td>14.0</td>\n",
       "      <td>4.97988</td>\n",
       "    </tr>\n",
       "    <tr>\n",
       "      <th>12</th>\n",
       "      <td>15.0</td>\n",
       "      <td>4.64980</td>\n",
       "    </tr>\n",
       "  </tbody>\n",
       "</table>\n",
       "</div>"
      ],
      "text/plain": [
       "    Inflation %  Years-to-half\n",
       "0           3.0       23.13378\n",
       "1           4.0       17.35754\n",
       "2           5.0       13.89180\n",
       "3           6.0       11.58131\n",
       "4           7.0        9.93096\n",
       "5           8.0        8.69319\n",
       "6           9.0        7.73048\n",
       "7          10.0        6.96031\n",
       "8          11.0        6.33018\n",
       "9          12.0        5.80506\n",
       "10         13.0        5.36073\n",
       "11         14.0        4.97988\n",
       "12         15.0        4.64980"
      ]
     },
     "execution_count": 262,
     "metadata": {},
     "output_type": "execute_result"
    }
   ],
   "source": [
    "df = pd.DataFrame()\n",
    "df['Inflation %'] =  np.linspace(3,15,13)\n",
    "df['Years-to-half'] = -np.log(0.5)/np.log(1+df['Inflation %']/(100*12))/12\n",
    "df"
   ]
  },
  {
   "cell_type": "code",
   "execution_count": 263,
   "metadata": {},
   "outputs": [
    {
     "data": {
      "image/png": "[encoded data removed]",
      "text/plain": [
       "<matplotlib.figure.Figure at 0x726e0f0>"
      ]
     },
     "metadata": {},
     "output_type": "display_data"
    }
   ],
   "source": [
    "figsize(10,6)\n",
    "fig, ax = plt.subplots(1, 1)\n",
    "df.plot(x='Inflation %', y='Years-to-half', label=f'', ax=ax)\n",
    "plt.title(\"Time to 50% of value\");\n",
    "plt.ylabel(\"Years\");"
   ]
  },
  {
   "cell_type": "markdown",
   "metadata": {},
   "source": [
    "Suppose it is possible to freeze the time value of money, to always remain at unity.  With the time value of money frozen, we can evaluate the value of asset growth and costs in a manner decoupled from the erosion effect of inflation: we evaluate the investment or cost in terms of  true buying power.  The money value would always have constant buying power irrespective of time into the future.\n",
    "\n",
    "Freezing the time value of money is readily done by considering any costs or growth relative to the inflation rate. If the inflation rate is 6% and an investment realises 8% growth, the real growth (corrected for inflation) is 2%.  Hence the effect of inflation on time value of money can be removed by considering all costs and growth relative to inflation: just subtract inflation rate.\n"
   ]
  },
  {
   "cell_type": "markdown",
   "metadata": {},
   "source": [
    "## Bond/Mortgage Amortisation Model\n",
    "\n",
    "This model and code is taken from http://pbpython.com/amortization-model-revised.html. Moffit was looking for a way to do amortisation  calculations in Pandas without loops, but ended up using a generator function to do the looping.  The generator does a complete set of loops and then provides the answer to a Pandas DataFrame.   The power of Pandas is therefore not available during the loop, but it is available afterwards for analysis and plotting.  Moffit's original code is heavily refactored and cleaned up here. \n",
    "\n",
    "The algorithm to be executed at every time interval (e.g. every month) is as follows:\n",
    "\n",
    "1. Calculate the interest on the balance, rounded to two decimals.\n",
    "1. Calculate the payment as the smaller of the outstanding balance or the contractual payment amount (to account for a smaller payment in the last cycle).\n",
    "1. Calculate the additional payment as the smaller of the outstanding balance or the fixed additional payment amount (to account for a smaller payment in the last cycle).\n",
    "1. Calculate the new balance by adding the interest and subtracting the two payments (but account for the signs of the financial values).\n",
    "1. Calculate some housekeeping values like the date and payment cycle number.\n",
    "\n",
    "It should be evident that the interest is calculated compound at each payment cycle, hence it adjusts at every payment cycle. \n",
    "\n",
    "The `amortise` function below is a Python generator function that provides iterative results for each time interval.  This generator is used to populate a Pandas DataFrame for subsequent anaysis."
   ]
  },
  {
   "cell_type": "code",
   "execution_count": 264,
   "metadata": {
    "collapsed": true
   },
   "outputs": [],
   "source": [
    "def amortise(principal, interest_rate, years, reqpayment, addpayment, start_date, numAnnPayments):\n",
    "    \"\"\"\n",
    "    Calculate the amortization schedule given the loan details.\n",
    "\n",
    "    :param principal: Amount borrowed\n",
    "    :param interest_rate: The annual interest rate for this loan\n",
    "    :param years: Number of years for the loan\n",
    "    :param reqpayment: Payment amount per period\n",
    "    :param addpayment: Additional payments to be made each period.\n",
    "    :param start_date: Start date for the loan.\n",
    "    :param numAnnPayments: Number of payments in a year.\n",
    "\n",
    "    :return: \n",
    "        schedule: Amortization schedule as an Ordered Dictionary\n",
    "    \"\"\"\n",
    "\n",
    "    # initialize the variables to keep track of the periods and running balances\n",
    "    p = 1\n",
    "    beg_balance = principal\n",
    "    end_balance = principal\n",
    "   \n",
    "    while end_balance > 0:\n",
    "        \n",
    "        # Recalculate the interest based on the current balance\n",
    "        interest = - round(((interest_rate/numAnnPayments) * beg_balance), 2)\n",
    "        \n",
    "        # Determine payment based on whether or not this period will pay off the loan\n",
    "        reqpayment = - min(-reqpayment, beg_balance - interest)\n",
    "        \n",
    "        # Ensure additional payment gets adjusted if the loan is being paid off\n",
    "        addpayment = - min(-addpayment, beg_balance - interest + reqpayment)\n",
    "        \n",
    "        end_balance = beg_balance - interest  + reqpayment  + addpayment\n",
    "\n",
    "        yield OrderedDict([('Month',start_date),\n",
    "                           ('Period', p),\n",
    "                           ('Begin Balance', beg_balance),\n",
    "                           ('ReqPayment', reqpayment),\n",
    "                           ('Principal', principal),\n",
    "                           ('Interest', interest),\n",
    "                           ('AddPayment', addpayment),\n",
    "                           ('End Balance', end_balance)])\n",
    "        \n",
    "        # Increment the counter, balance and date\n",
    "        p += 1\n",
    "        start_date += relativedelta(months=1)\n",
    "        beg_balance = end_balance\n"
   ]
  },
  {
   "cell_type": "markdown",
   "metadata": {},
   "source": [
    "Confirm that the `amortize` function is a generator:"
   ]
  },
  {
   "cell_type": "code",
   "execution_count": 265,
   "metadata": {},
   "outputs": [
    {
     "data": {
      "text/plain": [
       "<generator object amortise at 0x000000000A3E0BA0>"
      ]
     },
     "execution_count": 265,
     "metadata": {},
     "output_type": "execute_result"
    }
   ],
   "source": [
    "amortise(principal=10000, interest_rate=.03, years=5, reqpayment=-400, addpayment=0, start_date=date(2000, 1,1), numAnnPayments=12)"
   ]
  },
  {
   "cell_type": "markdown",
   "metadata": {},
   "source": [
    "Next create a wrapper function to use `amortize` to fill a Pandas DataFrame.  This function primarily cleans up the table and provides summary stats so it is easy to compare various scenarios.  See the function docstring for the parameters and conventions to be used.\n",
    "\n"
   ]
  },
  {
   "cell_type": "code",
   "execution_count": 266,
   "metadata": {
    "collapsed": true
   },
   "outputs": [],
   "source": [
    "def amortisation_table(principal, interest_rate, years,reqpayment,\n",
    "                       addpayment=0, numAnnPayments=12, start_date=(date(2000,1,1))):\n",
    "    \"\"\"\n",
    "    Calculate the amortization schedule given the loan details as well as summary stats for the loan\n",
    "\n",
    "    :param principal: Amount borrowed (positive)\n",
    "    :param interest_rate: The *annual* interest rate for this loan (positive)\n",
    "    :param years: Number of years for the loan (positive)\n",
    "    :param reqpayment: minimum required payment to meet the term requirements (negative)\n",
    "    :param numAnnPayments (optional): Number of payments in a year. Default 12.\n",
    "    :param addpayment (optional): Additional payments to be made each period as percentage of required payment. Default 0. (negative)\n",
    "    :param start_date (optional): Start date. Default 2000-01-01 if none provided\n",
    "\n",
    "    :return: \n",
    "        schedule: Amortization schedule as a pandas dataframe\n",
    "        summary: Pandas dataframe that summarizes the payoff information\n",
    "    \"\"\"\n",
    "    \n",
    "    if addpayment != 0:\n",
    "        addpayment = reqpayment * addpayment / 100\n",
    "    \n",
    "    # Generate the schedule \n",
    "    schedule = pd.DataFrame(amortise(principal, interest_rate, years, reqpayment,\n",
    "                                     addpayment, start_date, numAnnPayments))\n",
    "    # reorder the columns\n",
    "    schedule = schedule[[\"Period\", \"Month\", \"Begin Balance\", \"ReqPayment\",\"AddPayment\",\n",
    "                         \"Interest\", \"End Balance\"]]\n",
    "    \n",
    "    # Convert to a pandas datetime object to make subsequent calcs easier\n",
    "    schedule[\"Month\"] = pd.to_datetime(schedule[\"Month\"])\n",
    "    \n",
    "    #Create a summary statistics table\n",
    "    payoff_date = schedule[\"Month\"].iloc[-1]\n",
    "    stats = pd.Series([principal,payoff_date, schedule[\"Period\"].count(), interest_rate,\n",
    "                       years, reqpayment, addpayment,\n",
    "                       schedule[\"Interest\"].sum()],\n",
    "                       index=[\"Principal\",\"Payoff Date\", \"Num Payments\", \"Interest Rate\", \"Years\", \n",
    "                             \"ReqPayment\", \"AddPayment\", \"Total Interest\"])\n",
    "    \n",
    "    return schedule, stats"
   ]
  },
  {
   "cell_type": "markdown",
   "metadata": {},
   "source": [
    "Example showing how to call the function"
   ]
  },
  {
   "cell_type": "code",
   "execution_count": 267,
   "metadata": {},
   "outputs": [],
   "source": [
    "principal = 1000000\n",
    "interest_rate = 0.09\n",
    "years = 20\n",
    "numAnnPayments = 12\n",
    "reqpayment = round(np.pmt(interest_rate/numAnnPayments, years*numAnnPayments, principal), 2)\n",
    "\n",
    "df, stats = amortisation_table(\n",
    "    principal=principal, \n",
    "    interest_rate=interest_rate, \n",
    "    years=30, \n",
    "    reqpayment = reqpayment,\n",
    "    addpayment=2,\n",
    "    numAnnPayments=numAnnPayments, \n",
    "    start_date=date(2000, 1,1))"
   ]
  },
  {
   "cell_type": "markdown",
   "metadata": {},
   "source": [
    "The `stats` DataFrame provide a summary of the total contract, showing the key values, including the required payment, additional payment (if provided) and the total interest over the full term of the contract.  Note that the principal value is positive (inflow) and the payments and interest are negative (outflow)."
   ]
  },
  {
   "cell_type": "code",
   "execution_count": 268,
   "metadata": {},
   "outputs": [
    {
     "data": {
      "text/plain": [
       "Principal                     1000000\n",
       "Payoff Date       2018-12-01 00:00:00\n",
       "Num Payments                      228\n",
       "Interest Rate                    0.09\n",
       "Years                              30\n",
       "ReqPayment                    -8997.3\n",
       "AddPayment                    -179.95\n",
       "Total Interest            -1.0875e+06\n",
       "dtype: object"
      ]
     },
     "execution_count": 268,
     "metadata": {},
     "output_type": "execute_result"
    }
   ],
   "source": [
    "stats"
   ]
  },
  {
   "cell_type": "markdown",
   "metadata": {},
   "source": [
    "The following table shows the first few and the last few cycles of the schedule. Note that in the first month 83% of the payment is interest: only 17% of the payment is applied towards reducing the loan amount.  Towards the end of the term the interest reduces to a small percentage."
   ]
  },
  {
   "cell_type": "code",
   "execution_count": 269,
   "metadata": {},
   "outputs": [
    {
     "data": {
      "text/html": [
       "<table border=\"1\" class=\"dataframe\">\n",
       "  <thead>\n",
       "    <tr style=\"text-align: right;\">\n",
       "      <th></th>\n",
       "      <th>Period</th>\n",
       "      <th>Month</th>\n",
       "      <th>Begin Balance</th>\n",
       "      <th>ReqPayment</th>\n",
       "      <th>AddPayment</th>\n",
       "      <th>Interest</th>\n",
       "      <th>End Balance</th>\n",
       "      <th>IntPercent</th>\n",
       "    </tr>\n",
       "  </thead>\n",
       "  <tbody>\n",
       "    <tr>\n",
       "      <th>0</th>\n",
       "      <td>1</td>\n",
       "      <td>2000-01-01</td>\n",
       "      <td>1000000.0000</td>\n",
       "      <td>-8997.26</td>\n",
       "      <td>-179.9452</td>\n",
       "      <td>-7500.00</td>\n",
       "      <td>998322.7948</td>\n",
       "      <td>83.35871</td>\n",
       "    </tr>\n",
       "    <tr>\n",
       "      <th>1</th>\n",
       "      <td>2</td>\n",
       "      <td>2000-02-01</td>\n",
       "      <td>998322.7948</td>\n",
       "      <td>-8997.26</td>\n",
       "      <td>-179.9452</td>\n",
       "      <td>-7487.42</td>\n",
       "      <td>996633.0096</td>\n",
       "      <td>83.21889</td>\n",
       "    </tr>\n",
       "    <tr>\n",
       "      <th>2</th>\n",
       "      <td>3</td>\n",
       "      <td>2000-03-01</td>\n",
       "      <td>996633.0096</td>\n",
       "      <td>-8997.26</td>\n",
       "      <td>-179.9452</td>\n",
       "      <td>-7474.75</td>\n",
       "      <td>994930.5544</td>\n",
       "      <td>83.07807</td>\n",
       "    </tr>\n",
       "    <tr>\n",
       "      <th>3</th>\n",
       "      <td>4</td>\n",
       "      <td>2000-04-01</td>\n",
       "      <td>994930.5544</td>\n",
       "      <td>-8997.26</td>\n",
       "      <td>-179.9452</td>\n",
       "      <td>-7461.98</td>\n",
       "      <td>993215.3292</td>\n",
       "      <td>82.93614</td>\n",
       "    </tr>\n",
       "    <tr>\n",
       "      <th>4</th>\n",
       "      <td>5</td>\n",
       "      <td>2000-05-01</td>\n",
       "      <td>993215.3292</td>\n",
       "      <td>-8997.26</td>\n",
       "      <td>-179.9452</td>\n",
       "      <td>-7449.11</td>\n",
       "      <td>991487.2340</td>\n",
       "      <td>82.79309</td>\n",
       "    </tr>\n",
       "  </tbody>\n",
       "</table>"
      ],
      "text/plain": [
       "<IPython.core.display.HTML object>"
      ]
     },
     "metadata": {},
     "output_type": "display_data"
    },
    {
     "data": {
      "text/html": [
       "<table border=\"1\" class=\"dataframe\">\n",
       "  <thead>\n",
       "    <tr style=\"text-align: right;\">\n",
       "      <th></th>\n",
       "      <th>Period</th>\n",
       "      <th>Month</th>\n",
       "      <th>Begin Balance</th>\n",
       "      <th>ReqPayment</th>\n",
       "      <th>AddPayment</th>\n",
       "      <th>Interest</th>\n",
       "      <th>End Balance</th>\n",
       "      <th>IntPercent</th>\n",
       "    </tr>\n",
       "  </thead>\n",
       "  <tbody>\n",
       "    <tr>\n",
       "      <th>223</th>\n",
       "      <td>224</td>\n",
       "      <td>2018-08-01</td>\n",
       "      <td>40116.8204</td>\n",
       "      <td>-8997.2600</td>\n",
       "      <td>-179.9452</td>\n",
       "      <td>-300.88</td>\n",
       "      <td>31240.4952</td>\n",
       "      <td>3.34413</td>\n",
       "    </tr>\n",
       "    <tr>\n",
       "      <th>224</th>\n",
       "      <td>225</td>\n",
       "      <td>2018-09-01</td>\n",
       "      <td>31240.4952</td>\n",
       "      <td>-8997.2600</td>\n",
       "      <td>-179.9452</td>\n",
       "      <td>-234.30</td>\n",
       "      <td>22297.5900</td>\n",
       "      <td>2.60413</td>\n",
       "    </tr>\n",
       "    <tr>\n",
       "      <th>225</th>\n",
       "      <td>226</td>\n",
       "      <td>2018-10-01</td>\n",
       "      <td>22297.5900</td>\n",
       "      <td>-8997.2600</td>\n",
       "      <td>-179.9452</td>\n",
       "      <td>-167.23</td>\n",
       "      <td>13287.6148</td>\n",
       "      <td>1.85868</td>\n",
       "    </tr>\n",
       "    <tr>\n",
       "      <th>226</th>\n",
       "      <td>227</td>\n",
       "      <td>2018-11-01</td>\n",
       "      <td>13287.6148</td>\n",
       "      <td>-8997.2600</td>\n",
       "      <td>-179.9452</td>\n",
       "      <td>-99.66</td>\n",
       "      <td>4210.0696</td>\n",
       "      <td>1.10767</td>\n",
       "    </tr>\n",
       "    <tr>\n",
       "      <th>227</th>\n",
       "      <td>228</td>\n",
       "      <td>2018-12-01</td>\n",
       "      <td>4210.0696</td>\n",
       "      <td>-4241.6496</td>\n",
       "      <td>-0.0000</td>\n",
       "      <td>-31.58</td>\n",
       "      <td>0.0000</td>\n",
       "      <td>0.74452</td>\n",
       "    </tr>\n",
       "  </tbody>\n",
       "</table>"
      ],
      "text/plain": [
       "<IPython.core.display.HTML object>"
      ]
     },
     "metadata": {},
     "output_type": "display_data"
    }
   ],
   "source": [
    "df['IntPercent'] = 100 * df['Interest'] / df['ReqPayment']\n",
    "display(HTML(df.head().to_html()))\n",
    "display(HTML(df.tail().to_html()))\n"
   ]
  },
  {
   "cell_type": "markdown",
   "metadata": {},
   "source": [
    "## Interest on Bond vs Set-Up Costs\n",
    "\n",
    "Is it worth borrowing money for an investment property with the objective of writing interest off against tax?\n",
    "\n",
    "This model increases the rent from a starting value only once per year.\n",
    "\n",
    "In this model, change the number of years from 5 to 20 and observe the effect.\n",
    "\n",
    "This analysis presently ignores the effect of time value of money.  \n",
    "\n"
   ]
  },
  {
   "cell_type": "code",
   "execution_count": 303,
   "metadata": {},
   "outputs": [],
   "source": [
    "# bond values\n",
    "principal = 500000\n",
    "interest_rate = 0.09\n",
    "years = 5\n",
    "numAnnPayments = 12\n",
    "reqpayment = round(np.pmt(interest_rate/numAnnPayments, years*numAnnPayments, principal), 2)\n",
    "\n",
    "# tax rate and rental income \n",
    "taxrate = 0.33\n",
    "rentpmonth = 4500\n",
    "increasepyear = 0.06"
   ]
  },
  {
   "cell_type": "code",
   "execution_count": 304,
   "metadata": {},
   "outputs": [],
   "source": [
    "# to calculate the mortgage \n",
    "\n",
    "df, stats = amortisation_table(\n",
    "    principal=principal, \n",
    "    interest_rate=interest_rate, \n",
    "    years=years, \n",
    "    reqpayment = reqpayment,\n",
    "    addpayment=0,\n",
    "    numAnnPayments=numAnnPayments, \n",
    "    start_date=date(2000, 1,1))"
   ]
  },
  {
   "cell_type": "code",
   "execution_count": 305,
   "metadata": {},
   "outputs": [
    {
     "data": {
      "text/plain": [
       "Principal                      500000\n",
       "Payoff Date       2004-12-01 00:00:00\n",
       "Num Payments                       60\n",
       "Interest Rate                    0.09\n",
       "Years                               5\n",
       "ReqPayment                     -10379\n",
       "AddPayment                          0\n",
       "Total Interest            -1.2275e+05\n",
       "dtype: object"
      ]
     },
     "execution_count": 305,
     "metadata": {},
     "output_type": "execute_result"
    }
   ],
   "source": [
    "stats"
   ]
  },
  {
   "cell_type": "markdown",
   "metadata": {},
   "source": [
    "The `renttable` function calculates the rent increasing once per year (not every month) at the stated rate."
   ]
  },
  {
   "cell_type": "code",
   "execution_count": 306,
   "metadata": {},
   "outputs": [],
   "source": [
    "# to calculate the rent income into a DataFrame\n",
    "def renttable(rent, increasepyear, numcycles,date):\n",
    "\n",
    "    p = 1\n",
    "    currentyear = date.year\n",
    "\n",
    "    while p < numcycles + 1:      \n",
    "        yield OrderedDict([('Month',date),('Period', p),('Rent', rent)])  \n",
    "        # Increment the counter, balance and date\n",
    "        p += 1\n",
    "        date += relativedelta(months=1)\n",
    "        # only increase the rent once per year\n",
    "        if date.year != currentyear:\n",
    "            currentyear = date.year\n",
    "            rent *= 1 + increasepyear\n",
    "                           \n",
    "\n",
    "def rent_income(rentpmonth, increasepyear, numcycles, start_date=(date(2000,1,1))):\n",
    "    \n",
    "    # Generate the rent income schedule \n",
    "    rischedule = pd.DataFrame(renttable(rentpmonth, increasepyear, numcycles,start_date))\n",
    "    \n",
    "    # Convert to a pandas datetime object to make subsequent calcs easier\n",
    "    rischedule[\"Month\"] = pd.to_datetime(rischedule[\"Month\"])\n",
    "\n",
    "    return rischedule"
   ]
  },
  {
   "cell_type": "code",
   "execution_count": 307,
   "metadata": {},
   "outputs": [],
   "source": [
    "# to evaluate the tax benefits\n",
    "\n",
    "numcycles = stats['Num Payments']\n",
    "rischedule = rent_income(rentpmonth=rentpmonth, increasepyear=increasepyear, numcycles=numcycles)\n",
    "# Now merge the bond table with the rent income table\n",
    "dfc = df.copy().drop([\"ReqPayment\",\"AddPayment\",\"Begin Balance\"],axis=1)\n",
    "dfc = dfc.merge(rischedule.drop([\"Month\"],axis=1), on='Period')\n",
    "\n",
    "# tax and net income if **NO** bond present\n",
    "dfc['TaxNoInter'] = - taxrate * (dfc['Rent'])\n",
    "# can't get tax back\n",
    "dfc['TaxNoInter'][dfc['TaxNoInter'] > 0] = 0\n",
    "dfc['IncomeNoInter'] = dfc['Rent'] + dfc['TaxNoInter']\n",
    "\n",
    "# tax and net income if bond present\n",
    "dfc['TaxWithInter'] = - taxrate * (dfc['Rent'] + dfc['Interest'])\n",
    "# can't get tax back\n",
    "dfc['TaxWithInter'][dfc['TaxWithInter'] > 0] = 0\n",
    "dfc['IncomeWithInter'] = dfc['Rent'] + dfc['TaxWithInter']\n",
    "\n",
    "# net benefit\n",
    "dfc['BondBenefit'] = dfc['IncomeWithInter'] - dfc['IncomeNoInter']\n",
    "\n",
    "#Create a summary statistics table\n",
    "nistats = pd.Series([rentpmonth, dfc[\"Period\"].count(), increasepyear,taxrate,\n",
    "                     dfc[\"Rent\"].sum(),\n",
    "                     dfc[\"TaxNoInter\"].sum(),\n",
    "                     dfc[\"IncomeNoInter\"].sum(),\n",
    "                     dfc[\"TaxWithInter\"].sum(),\n",
    "                     dfc[\"IncomeWithInter\"].sum(),\n",
    "                     dfc[\"BondBenefit\"].sum(),\n",
    "                     100 * dfc[\"BondBenefit\"].sum()/dfc[\"Rent\"].sum(),\n",
    "                    ],\n",
    "                   index=[\"InitRent\", \"Num Payments\", \"RentIncrease\", \"TaxRate\",\n",
    "                          \"Total Rent\",\n",
    "                          \"TaxNoInter\",\n",
    "                          \"IncomeNoInter\",\n",
    "                          \"TaxWithInter\",\n",
    "                          \"IncomeWithInter\",\n",
    "                          \"BondBenefit\",\n",
    "                          \"Benefit/Rent %\",\n",
    "                         ])\n",
    "\n"
   ]
  },
  {
   "cell_type": "code",
   "execution_count": 309,
   "metadata": {},
   "outputs": [],
   "source": [
    "if False:\n",
    "    fig, ax = plt.subplots(1, 1)\n",
    "    # for scenario in scenarios.keys():\n",
    "    #     schedules[scenario].plot(x='Month', y='End Balance', label=f'{scenario}', ax=ax)\n",
    "    dfc.plot(x='Month',y='Rent', label='Rent', ax=ax)    \n",
    "    dfc.plot(x='Month',y='Interest', label='Interest', ax=ax)    \n",
    "    dfc.plot(x='Month',y='TaxNoInter', label='TaxNoInter', ax=ax)    \n",
    "    dfc.plot(x='Month',y='TaxWithInter', label='TaxWithInter', ax=ax)    \n",
    "    plt.title(\"Repayment Timelines\");\n",
    "    plt.ylabel(\"Value\");\n",
    "    plt.xlabel(\"Time\");\n"
   ]
  },
  {
   "cell_type": "code",
   "execution_count": 283,
   "metadata": {},
   "outputs": [
    {
     "data": {
      "text/html": [
       "<table border=\"1\" class=\"dataframe\">\n",
       "  <thead>\n",
       "    <tr style=\"text-align: right;\">\n",
       "      <th></th>\n",
       "      <th>Period</th>\n",
       "      <th>Interest</th>\n",
       "      <th>End Balance</th>\n",
       "      <th>Rent</th>\n",
       "      <th>TaxNoInter</th>\n",
       "      <th>IncomeNoInter</th>\n",
       "      <th>TaxWithInter</th>\n",
       "      <th>IncomeWithInter</th>\n",
       "      <th>BondBenefit</th>\n",
       "    </tr>\n",
       "  </thead>\n",
       "  <tbody>\n",
       "    <tr>\n",
       "      <th>0</th>\n",
       "      <td>1</td>\n",
       "      <td>-3750.00</td>\n",
       "      <td>499251.37</td>\n",
       "      <td>4500.0</td>\n",
       "      <td>-1485.0</td>\n",
       "      <td>3015.0</td>\n",
       "      <td>-247.5000</td>\n",
       "      <td>4252.5000</td>\n",
       "      <td>1237.5000</td>\n",
       "    </tr>\n",
       "    <tr>\n",
       "      <th>1</th>\n",
       "      <td>2</td>\n",
       "      <td>-3744.39</td>\n",
       "      <td>498497.13</td>\n",
       "      <td>4500.0</td>\n",
       "      <td>-1485.0</td>\n",
       "      <td>3015.0</td>\n",
       "      <td>-249.3513</td>\n",
       "      <td>4250.6487</td>\n",
       "      <td>1235.6487</td>\n",
       "    </tr>\n",
       "    <tr>\n",
       "      <th>2</th>\n",
       "      <td>3</td>\n",
       "      <td>-3738.73</td>\n",
       "      <td>497737.23</td>\n",
       "      <td>4500.0</td>\n",
       "      <td>-1485.0</td>\n",
       "      <td>3015.0</td>\n",
       "      <td>-251.2191</td>\n",
       "      <td>4248.7809</td>\n",
       "      <td>1233.7809</td>\n",
       "    </tr>\n",
       "    <tr>\n",
       "      <th>3</th>\n",
       "      <td>4</td>\n",
       "      <td>-3733.03</td>\n",
       "      <td>496971.63</td>\n",
       "      <td>4500.0</td>\n",
       "      <td>-1485.0</td>\n",
       "      <td>3015.0</td>\n",
       "      <td>-253.1001</td>\n",
       "      <td>4246.8999</td>\n",
       "      <td>1231.8999</td>\n",
       "    </tr>\n",
       "    <tr>\n",
       "      <th>4</th>\n",
       "      <td>5</td>\n",
       "      <td>-3727.29</td>\n",
       "      <td>496200.29</td>\n",
       "      <td>4500.0</td>\n",
       "      <td>-1485.0</td>\n",
       "      <td>3015.0</td>\n",
       "      <td>-254.9943</td>\n",
       "      <td>4245.0057</td>\n",
       "      <td>1230.0057</td>\n",
       "    </tr>\n",
       "  </tbody>\n",
       "</table>"
      ],
      "text/plain": [
       "<IPython.core.display.HTML object>"
      ]
     },
     "metadata": {},
     "output_type": "display_data"
    },
    {
     "data": {
      "text/html": [
       "<table border=\"1\" class=\"dataframe\">\n",
       "  <thead>\n",
       "    <tr style=\"text-align: right;\">\n",
       "      <th></th>\n",
       "      <th>Period</th>\n",
       "      <th>Interest</th>\n",
       "      <th>End Balance</th>\n",
       "      <th>Rent</th>\n",
       "      <th>TaxNoInter</th>\n",
       "      <th>IncomeNoInter</th>\n",
       "      <th>TaxWithInter</th>\n",
       "      <th>IncomeWithInter</th>\n",
       "      <th>BondBenefit</th>\n",
       "    </tr>\n",
       "  </thead>\n",
       "  <tbody>\n",
       "    <tr>\n",
       "      <th>235</th>\n",
       "      <td>236</td>\n",
       "      <td>-164.97</td>\n",
       "      <td>17661.78</td>\n",
       "      <td>13615.19776</td>\n",
       "      <td>-4493.01526</td>\n",
       "      <td>9122.1825</td>\n",
       "      <td>-4438.57516</td>\n",
       "      <td>9176.6226</td>\n",
       "      <td>54.4401</td>\n",
       "    </tr>\n",
       "    <tr>\n",
       "      <th>236</th>\n",
       "      <td>237</td>\n",
       "      <td>-132.46</td>\n",
       "      <td>13295.61</td>\n",
       "      <td>13615.19776</td>\n",
       "      <td>-4493.01526</td>\n",
       "      <td>9122.1825</td>\n",
       "      <td>-4449.30346</td>\n",
       "      <td>9165.8943</td>\n",
       "      <td>43.7118</td>\n",
       "    </tr>\n",
       "    <tr>\n",
       "      <th>237</th>\n",
       "      <td>238</td>\n",
       "      <td>-99.72</td>\n",
       "      <td>8896.70</td>\n",
       "      <td>13615.19776</td>\n",
       "      <td>-4493.01526</td>\n",
       "      <td>9122.1825</td>\n",
       "      <td>-4460.10766</td>\n",
       "      <td>9155.0901</td>\n",
       "      <td>32.9076</td>\n",
       "    </tr>\n",
       "    <tr>\n",
       "      <th>238</th>\n",
       "      <td>239</td>\n",
       "      <td>-66.73</td>\n",
       "      <td>4464.80</td>\n",
       "      <td>13615.19776</td>\n",
       "      <td>-4493.01526</td>\n",
       "      <td>9122.1825</td>\n",
       "      <td>-4470.99436</td>\n",
       "      <td>9144.2034</td>\n",
       "      <td>22.0209</td>\n",
       "    </tr>\n",
       "    <tr>\n",
       "      <th>239</th>\n",
       "      <td>240</td>\n",
       "      <td>-33.49</td>\n",
       "      <td>0.00</td>\n",
       "      <td>13615.19776</td>\n",
       "      <td>-4493.01526</td>\n",
       "      <td>9122.1825</td>\n",
       "      <td>-4481.96356</td>\n",
       "      <td>9133.2342</td>\n",
       "      <td>11.0517</td>\n",
       "    </tr>\n",
       "  </tbody>\n",
       "</table>"
      ],
      "text/plain": [
       "<IPython.core.display.HTML object>"
      ]
     },
     "metadata": {},
     "output_type": "display_data"
    },
    {
     "name": "stdout",
     "output_type": "stream",
     "text": [
      "InitRent           4.50000e+03\n",
      "Num Payments       2.40000e+02\n",
      "RentIncrease       6.00000e-02\n",
      "TaxRate            3.30000e-01\n",
      "Total Rent         1.98642e+06\n",
      "TaxNoInter        -6.55519e+05\n",
      "IncomeNoInter      1.33090e+06\n",
      "TaxWithInter      -4.64228e+05\n",
      "IncomeWithInter    1.52219e+06\n",
      "BondBenefit        1.91291e+05\n",
      "Benefit/Rent %     9.62995e+00\n",
      "dtype: float64\n"
     ]
    }
   ],
   "source": [
    "display(HTML(dfc.head().to_html()))\n",
    "display(HTML(dfc.tail().to_html()))\n",
    "print(nistats)"
   ]
  },
  {
   "cell_type": "markdown",
   "metadata": {},
   "source": [
    "Compare different scenarios:\n",
    "\n",
    "|Term|Tax rate|Savings|Saving/Rent|\n",
    "|---|---|---|\n",
    "|5 |20% | 24550|8.05%|\n",
    "|5 |33% | 40507|13.3%|\n",
    "|20 |20% | 115934|5.83%|\n",
    "|20 |33% | 191291|9.62%|\n",
    "\n",
    "It seems that for bond periods of around 5 years, the cash benefit is not significant: the cost of setting up the bond may consume a substantial portion of the actual savings. As expected, at higher tax rates the income benefit is more. The savings expressed as percentage of rental income before tax and interest is not very high.\n",
    "\n",
    "\n",
    "However, this calculation is not completely accurate:\n",
    "1. To repay the bond over five years you need to pay a significant additional amount. There is a cost to this additional payment not accounted for this simple calculation.\n",
    "1. The time value of money is not included here."
   ]
  },
  {
   "cell_type": "code",
   "execution_count": null,
   "metadata": {},
   "outputs": [],
   "source": [
    "\n"
   ]
  },
  {
   "cell_type": "markdown",
   "metadata": {},
   "source": [
    "## Bond Repayment Studies\n",
    "\n",
    "Define a few standard utility functions"
   ]
  },
  {
   "cell_type": "code",
   "execution_count": 275,
   "metadata": {},
   "outputs": [],
   "source": [
    "def plot_balance(scenarios):\n",
    "    \"\"\"Plot the remaining balance of all scenarios\n",
    "    \"\"\"\n",
    "    fig, ax = plt.subplots(1, 1)\n",
    "    for scenario in scenarios.keys():\n",
    "        schedules[scenario].plot(x='Month', y='End Balance', label=f'{scenario}', ax=ax)\n",
    "    plt.title(\"Repayment Timelines\");\n",
    "    plt.ylabel(\"Balance\");"
   ]
  },
  {
   "cell_type": "code",
   "execution_count": 276,
   "metadata": {},
   "outputs": [],
   "source": [
    "def plot_annual_interest(schedule, stats):\n",
    "    \"\"\"Plot the annual interest of all scenarios\n",
    "    \"\"\"\n",
    "    ys = {}\n",
    "    labels = {}\n",
    "    for scenario in scenarios.keys():\n",
    "        ys[scenario],labels[scenario] = annual_interest(schedules[scenario], stats[scenario])\n",
    "\n",
    "    dfai = pd.concat([ys[scenario] for scenario in ys.keys()], axis=1)\n",
    "    # print(dfai)\n",
    "\n",
    "    figsize(7,5)\n",
    "    fig, ax = plt.subplots(1, 1)\n",
    "    dfai.plot(kind=\"bar\", ax=ax)\n",
    "\n",
    "    plt.legend([labels[scenario] for scenario in labels.keys()], loc=1, prop={'size':10})\n",
    "    plt.title(\"Interest Payments\");"
   ]
  },
  {
   "cell_type": "code",
   "execution_count": 277,
   "metadata": {},
   "outputs": [],
   "source": [
    "def annual_interest(schedule, stats):\n",
    "    \"\"\"Create a dataframe with annual interest totals, and a descriptive label\n",
    "    \"\"\"\n",
    "    annint = schedule.set_index('Month')['Interest'].resample(\"A\").sum().reset_index()\n",
    "    annint[\"Year\"] = annint[\"Month\"].dt.year\n",
    "    annint.set_index('Year', inplace=True)\n",
    "    annint.drop('Month', 1, inplace=True)\n",
    "    label=\"{} years at {}% with additional payment of {:.0f}\".format(stats['Years'], stats['Interest Rate']*100, stats['AddPayment'])\n",
    "    return annint, label\n",
    "\n"
   ]
  },
  {
   "cell_type": "code",
   "execution_count": 278,
   "metadata": {},
   "outputs": [],
   "source": [
    "def calc_scenarios(scenarios,numAnnPayments=12,paymentSign=1):\n",
    "    \"\"\"Given a scenario dictionary calculate bond schedules and statistics\n",
    "    \"\"\"\n",
    "    schedules = {}\n",
    "    stats = {}\n",
    "    \n",
    "    for scenario in scenarios.keys():\n",
    "        if 'reqPayment' not in scenarios[scenario].keys():\n",
    "            scenarios[scenario]['reqPayment'] = \\\n",
    "                paymentSign * round(np.pmt(scenarios[scenario]['intr'] / numAnnPayments, \n",
    "                              scenarios[scenario]['years'] * numAnnPayments, \n",
    "                              scenarios[scenario]['princ']), 2);\n",
    "       \n",
    "        schedules[scenario], stats[scenario] = amortisation_table(\n",
    "                        scenarios[scenario]['princ'], \n",
    "                        scenarios[scenario]['intr'], \n",
    "                        scenarios[scenario]['years'], \n",
    "                        scenarios[scenario]['reqPayment'], \n",
    "                        scenarios[scenario]['addPayment'],\n",
    "                        numAnnPayments=12\n",
    "                    );\n",
    "    return schedules,stats\n"
   ]
  },
  {
   "cell_type": "markdown",
   "metadata": {},
   "source": [
    "### Fixed scenario, different additional payments\n",
    "\n",
    "This calculation shows how the bond/mortgage term can be shortened by adding a fixed percentage (0%, 2%, 10% or 20%) to the required payment.  By increasing the payment the term is shortened significantly and the total money paid is much reduced."
   ]
  },
  {
   "cell_type": "code",
   "execution_count": 279,
   "metadata": {},
   "outputs": [],
   "source": [
    "scenarios = {\n",
    "    '0.04%, add=0%, 20 years':{'princ':1000000,'intr':0.09,'addPayment':0,'years':20},\n",
    "    '0.04%, add=2%, 20 years':{'princ':1000000,'intr':0.09,'addPayment':2,'years':20},\n",
    "    '0.04%, add=10%, 20 years':{'princ':1000000,'intr':0.09,'addPayment':10,'years':20},\n",
    "    '0.04%, add=20%, 20 years':{'princ':1000000,'intr':0.09,'addPayment':20,'years':20},\n",
    "    '0.04%, add=30%, 20 years':{'princ':1000000,'intr':0.09,'addPayment':30,'years':20},\n",
    "}\n",
    "        \n",
    "schedules,stats = calc_scenarios(scenarios) "
   ]
  },
  {
   "cell_type": "code",
   "execution_count": 280,
   "metadata": {},
   "outputs": [
    {
     "data": {
      "text/html": [
       "<table border=\"1\" class=\"dataframe\">\n",
       "  <thead>\n",
       "    <tr style=\"text-align: right;\">\n",
       "      <th></th>\n",
       "      <th>Principal</th>\n",
       "      <th>Payoff Date</th>\n",
       "      <th>Num Payments</th>\n",
       "      <th>Interest Rate</th>\n",
       "      <th>Years</th>\n",
       "      <th>ReqPayment</th>\n",
       "      <th>AddPayment</th>\n",
       "      <th>Total Interest</th>\n",
       "      <th>Additional % payment</th>\n",
       "      <th>Total money paid</th>\n",
       "    </tr>\n",
       "  </thead>\n",
       "  <tbody>\n",
       "    <tr>\n",
       "      <th>0</th>\n",
       "      <td>1000000</td>\n",
       "      <td>2019-12-01</td>\n",
       "      <td>240</td>\n",
       "      <td>0.09</td>\n",
       "      <td>20.00000</td>\n",
       "      <td>-8997.26</td>\n",
       "      <td>0.0000</td>\n",
       "      <td>-1159342.10</td>\n",
       "      <td>-0.0</td>\n",
       "      <td>2.15934</td>\n",
       "    </tr>\n",
       "    <tr>\n",
       "      <th>1</th>\n",
       "      <td>1000000</td>\n",
       "      <td>2018-12-01</td>\n",
       "      <td>228</td>\n",
       "      <td>0.09</td>\n",
       "      <td>19.00000</td>\n",
       "      <td>-8997.26</td>\n",
       "      <td>-179.9452</td>\n",
       "      <td>-1087467.23</td>\n",
       "      <td>2.0</td>\n",
       "      <td>2.08747</td>\n",
       "    </tr>\n",
       "    <tr>\n",
       "      <th>2</th>\n",
       "      <td>1000000</td>\n",
       "      <td>2015-10-01</td>\n",
       "      <td>190</td>\n",
       "      <td>0.09</td>\n",
       "      <td>15.83333</td>\n",
       "      <td>-8997.26</td>\n",
       "      <td>-899.7260</td>\n",
       "      <td>-878228.77</td>\n",
       "      <td>10.0</td>\n",
       "      <td>1.87823</td>\n",
       "    </tr>\n",
       "    <tr>\n",
       "      <th>3</th>\n",
       "      <td>1000000</td>\n",
       "      <td>2013-03-01</td>\n",
       "      <td>159</td>\n",
       "      <td>0.09</td>\n",
       "      <td>13.25000</td>\n",
       "      <td>-8997.26</td>\n",
       "      <td>-1799.4520</td>\n",
       "      <td>-714178.37</td>\n",
       "      <td>20.0</td>\n",
       "      <td>1.71418</td>\n",
       "    </tr>\n",
       "    <tr>\n",
       "      <th>4</th>\n",
       "      <td>1000000</td>\n",
       "      <td>2011-06-01</td>\n",
       "      <td>138</td>\n",
       "      <td>0.09</td>\n",
       "      <td>11.50000</td>\n",
       "      <td>-8997.26</td>\n",
       "      <td>-2699.1780</td>\n",
       "      <td>-604582.36</td>\n",
       "      <td>30.0</td>\n",
       "      <td>1.60458</td>\n",
       "    </tr>\n",
       "  </tbody>\n",
       "</table>"
      ],
      "text/plain": [
       "<IPython.core.display.HTML object>"
      ]
     },
     "metadata": {},
     "output_type": "display_data"
    }
   ],
   "source": [
    "dfstats = pd.DataFrame([stats[key] for key in stats.keys()])\n",
    "dfstats['Years'] = dfstats['Num Payments'] / 12\n",
    "dfstats['Additional % payment'] = 100 * dfstats['AddPayment'] / dfstats['ReqPayment']\n",
    "dfstats['Total money paid'] = 1 - dfstats['Total Interest'] / dfstats['Principal']\n",
    "display(HTML(dfstats.to_html()))"
   ]
  },
  {
   "cell_type": "markdown",
   "metadata": {},
   "source": [
    "Notice how the term of the contract dramatically shortens if a fixed additional payment is made. If you pay 30% extra over and above the required payment, the term shortens from 20 years to just under 12 years."
   ]
  },
  {
   "cell_type": "code",
   "execution_count": 281,
   "metadata": {},
   "outputs": [
    {
     "data": {
      "image/png": "[encoded data removed]",
      "text/plain": [
       "<matplotlib.figure.Figure at 0xa686c88>"
      ]
     },
     "metadata": {},
     "output_type": "display_data"
    }
   ],
   "source": [
    "fig, ax = plt.subplots(1, 1)\n",
    "dfstats.plot(x='Additional % payment', y='Years', ax=ax)\n",
    "plt.title(\"Effect of fixed additional payment on term\");\n",
    "plt.ylabel(\"Term duration [years]\");\n"
   ]
  },
  {
   "cell_type": "markdown",
   "metadata": {},
   "source": [
    "The next graph shows the total money repaid on the contract as a function of additional payment.  \n",
    "\n",
    "If no additional payment is made, the total amount paid back over the full term of the contract is 2.16 times the initial loan principal amount.\n",
    "\n",
    "Notice how the interest dramatically reduces if a fixed additional payment is made. \n",
    "If you pay 30% extra over and above the required payment, the total amount paid back over the full term of the contract is 1.6 times the initial loan principal amount."
   ]
  },
  {
   "cell_type": "code",
   "execution_count": 282,
   "metadata": {},
   "outputs": [
    {
     "data": {
      "image/png": "[encoded data removed]",
      "text/plain": [
       "<matplotlib.figure.Figure at 0xa6a79b0>"
      ]
     },
     "metadata": {},
     "output_type": "display_data"
    }
   ],
   "source": [
    "fig, ax = plt.subplots(1, 1)\n",
    "dfstats.plot(x='Additional % payment', y='Total money paid', ax=ax)\n",
    "plt.title(\"Effect of fixed additional payment on total money paid\");\n",
    "plt.ylabel(\"Total money paid / principal\");\n"
   ]
  },
  {
   "cell_type": "code",
   "execution_count": 21,
   "metadata": {
    "collapsed": true
   },
   "outputs": [
    {
     "data": {
      "image/png": "[encoded data removed]",
      "text/plain": [
       "<matplotlib.figure.Figure at 0x9b2f588>"
      ]
     },
     "metadata": {},
     "output_type": "display_data"
    }
   ],
   "source": [
    "plot_balance(scenarios)"
   ]
  },
  {
   "cell_type": "code",
   "execution_count": 22,
   "metadata": {
    "collapsed": true
   },
   "outputs": [
    {
     "data": {
      "image/png": "[encoded data removed]",
      "text/plain": [
       "<matplotlib.figure.Figure at 0x9ec6a90>"
      ]
     },
     "metadata": {},
     "output_type": "display_data"
    }
   ],
   "source": [
    "plot_annual_interest(schedules, stats)   "
   ]
  },
  {
   "cell_type": "markdown",
   "metadata": {},
   "source": [
    "## Retirement Fund Depletion"
   ]
  },
  {
   "cell_type": "markdown",
   "metadata": {},
   "source": [
    "to be completed\n",
    "\n",
    "\n",
    "DCF:  \n",
    "https://www.investopedia.com/terms/d/dcf.asp  \n",
    "https://www.wallstreetprep.com/knowledge/dcf-model-training-6-steps-building-dcf-model-excel/  \n",
    "http://kaushik316-blog.logdown.com/posts/1651749-stock-valuation-with-python  \n",
    "https://stackoverflow.com/questions/35849994/financial-modelling-with-pandas-dataframe  \n",
    "\n"
   ]
  },
  {
   "cell_type": "code",
   "execution_count": 23,
   "metadata": {},
   "outputs": [],
   "source": [
    "# def amortize(principal, interest_rate, years, reqpayment, addpayment, start_date, annual_payments):\n",
    "#     \"\"\"\n",
    "#     Calculate the amortization schedule given the loan details.\n",
    "\n",
    "#     :param principal: Amount borrowed\n",
    "#     :param interest_rate: The annual interest rate for this loan\n",
    "#     :param years: Number of years for the loan\n",
    "#     :param reqpayment: Payment amount per period\n",
    "#     :param addpayment: Additional payments to be made each period.\n",
    "#     :param start_date: Start date for the loan.\n",
    "#     :param annual_payments: Number of payments in a year.\n",
    "\n",
    "#     :return: \n",
    "#         schedule: Amortization schedule as an Ordered Dictionary\n",
    "#     \"\"\"\n",
    "\n",
    "#     # initialize the variables to keep track of the periods and running balances\n",
    "#     p = 1\n",
    "#     beg_balance = principal\n",
    "#     end_balance = principal\n",
    "   \n",
    "#     while end_balance > 0:\n",
    "        \n",
    "#         # Recalculate the interest based on the current balance\n",
    "#         interest = - round(((interest_rate/annual_payments) * beg_balance), 2)\n",
    "        \n",
    "#         # Determine payment based on whether or not this period will pay off the loan\n",
    "#         reqpayment = - min(-reqpayment, beg_balance - interest)\n",
    "        \n",
    "#         # Ensure additional payment gets adjusted if the loan is being paid off\n",
    "#         addpayment = - min(-addpayment, beg_balance - interest + reqpayment)\n",
    "        \n",
    "#         end_balance = beg_balance - interest  + reqpayment  + addpayment\n",
    "\n",
    "#         yield OrderedDict([('Month',start_date),\n",
    "#                            ('Period', p),\n",
    "#                            ('Begin Balance', beg_balance),\n",
    "#                            ('ReqPayment', reqpayment),\n",
    "#                            ('Principal', principal),\n",
    "#                            ('Interest', interest),\n",
    "#                            ('AddPayment', addpayment),\n",
    "#                            ('End Balance', end_balance)])\n",
    "        \n",
    "#         # Increment the counter, balance and date\n",
    "#         p += 1\n",
    "#         start_date += relativedelta(months=1)\n",
    "#         beg_balance = end_balance\n"
   ]
  },
  {
   "cell_type": "code",
   "execution_count": null,
   "metadata": {},
   "outputs": [],
   "source": []
  },
  {
   "cell_type": "code",
   "execution_count": null,
   "metadata": {},
   "outputs": [],
   "source": []
  }
 ],
 "metadata": {
  "kernelspec": {
   "display_name": "Python 3",
   "language": "python",
   "name": "python3"
  },
  "language_info": {
   "codemirror_mode": {
    "name": "ipython",
    "version": 3
   },
   "file_extension": ".py",
   "mimetype": "text/x-python",
   "name": "python",
   "nbconvert_exporter": "python",
   "pygments_lexer": "ipython3",
   "version": "3.6.1"
  }
 },
 "nbformat": 4,
 "nbformat_minor": 2
}
