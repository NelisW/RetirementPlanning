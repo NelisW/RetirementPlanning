{
 "cells": [
  {
   "cell_type": "markdown",
   "metadata": {},
   "source": [
    "# Personal Financial Planning"
   ]
  },
  {
   "cell_type": "code",
   "execution_count": 1,
   "metadata": {},
   "outputs": [],
   "source": [
    "import os\n",
    "import sys\n",
    "import numpy as np\n",
    "import pandas as pd\n",
    "from datetime import date\n",
    "from collections import OrderedDict\n",
    "from dateutil.relativedelta import *\n",
    "import matplotlib.pyplot as plt\n",
    "from IPython.core.pylabtools import figsize\n",
    "from IPython.core.display import display, HTML\n",
    "\n",
    "persfin = os.path.join(\"./\",\"persfin\")\n",
    "sys.path = [persfin]+sys.path\n",
    "\n",
    "import fingenerators as fingen\n",
    "import utilityfuns as ufun\n",
    "import rentalfuns as rfun\n",
    "\n",
    "\n",
    "# pd.set_option('expand_frame_repr', False)\n",
    "pd.set_option('display.max_rows', 500)\n",
    "pd.set_option('display.max_columns', 500)\n",
    "pd.set_option('display.width', 1000)\n",
    "pd.set_option('precision',5)\n",
    "pd.set_option('display.max_colwidth',100)\n",
    "pd.options.mode.chained_assignment = None  # default='warn'\n",
    "\n",
    "%matplotlib inline\n",
    "plt.style.use('ggplot')"
   ]
  },
  {
   "cell_type": "markdown",
   "metadata": {},
   "source": [
    "## References\n",
    "\n",
    "<https://docs.scipy.org/doc/numpy-1.13.0/reference/routines.financial.html>  \n",
    "<http://pbpython.com/amortization-model-revised.html>  \n",
    "<http://www.financialmodellinghandbook.com/2014/03/15/sign-conventions/>  \n",
    "<https://cleffinance.blogspot.com/2012/01/pv-pmt-when-to-put-negative.html>  \n",
    "\n",
    "\n",
    "<https://jeffknupp.com/blog/2013/04/07/improve-your-python-yield-and-generators-explained/>  \n",
    "<http://inmachineswetrust.com/posts/understanding-generators/#cell3>  \n",
    "<https://github.com/NelisW/PythonNotesToSelf/blob/master/Generators.ipynb>\n",
    "\n",
    "\n",
    "Discounted Cash Flow (DCF):  \n",
    "https://www.investopedia.com/terms/d/dcf.asp  \n",
    "https://www.wallstreetprep.com/knowledge/dcf-model-training-6-steps-building-dcf-model-excel/  \n",
    "http://kaushik316-blog.logdown.com/posts/1651749-stock-valuation-with-python  \n",
    "https://stackoverflow.com/questions/35849994/financial-modelling-with-pandas-dataframe  \n",
    "\n",
    "Retirement advice\n",
    "https://www.investopedia.com/terms/f/four-percent-rule.asp  \n",
    "\n"
   ]
  },
  {
   "cell_type": "markdown",
   "metadata": {},
   "source": [
    "## Introduction\n",
    "\n",
    "This notebook is a collection of calculations attempting to understand the positive (growth) and negative elements (cost and risk) in investments. It is not even considering dealing on the equity markets or other sophisticated financial instruments, but rather investigating small, longer-term, personal-scale  investments.\n",
    "\n",
    "**A note on dates:**  The default start date in this notebook is 2000-01-01, mainly because it is easy to calculate the term remaining from a round number.  The date 0000-01-01 is not allowed in the Python code, so I start with the year 2000.\n",
    "\n",
    "In South Africa we use ZAR (R) as monetary unit but I do not use the notation, simply because the same calculations apply irrespective of the monetary unit. South African inflation historically varied between 4% and 6% pa, managed by the central bank to target of 6% max.  Our mortgage bond loan interest rate vary from 8.5% to 10% depending on the age of the bond and the client's risk profile.  Numbers in your country will be different, adapt these calculations as necessary for your environment.\n",
    "\n",
    "Terminology: \n",
    "\n",
    "A *mortgage* is a loan (usually secured by a bond) where the purpose of the loan is to purchase a fixed asset in the name of the borrower, but where the lender has the right to seize the asset if the borrower defaults on payment. The lender's right to seize falls away once the loan is fully repaid.\n",
    "\n",
    "A *bond* is is a long term load agreement (by contract or certificate) whereby one party undertakes to repay the principal amount of the loan with interest by an agreed date. The term 'bond' is used in this document to imply a bond with a schedule of regular payments, usually monthly. In this notebook the terms bond and mortgage are use mostly equivalently.\n"
   ]
  },
  {
   "cell_type": "markdown",
   "metadata": {},
   "source": [
    "## Simple Financial Calculations\n",
    "\n",
    "The sign of a financial value is often confusing: some are positive others are negative. \n",
    "\n",
    "* When money is taken out from your pocket (outflows, you pay): use a negative sign.  \n",
    "* When money is given to you (inflows, pay to you), use a positive sign.\n",
    "\n",
    "When you borrow money, the capital principal is flowing in, it must be positice. The interest and payment due is flowing out, it must be negative.\n",
    "\n",
    "When you withdraw from an investment, the capital flowed out when making the investment, hence it must be negative.\n",
    "The withdrawal is flowing in, it must be positive."
   ]
  },
  {
   "cell_type": "markdown",
   "metadata": {},
   "source": [
    "Python's `numpy` package provides basic financial functions:\n",
    "1. How large a monthly payment is required to repay bond?\n",
    "1. How much interest or capital is paid in a specific period (a month in this case)?\n"
   ]
  },
  {
   "cell_type": "code",
   "execution_count": 2,
   "metadata": {},
   "outputs": [
    {
     "name": "stdout",
     "output_type": "stream",
     "text": [
      "Payment required -8997.26 to pay back loan plus interest in 20 years\n",
      "In month   0 interest payment -7511.15, capital repayment -1486.11\n",
      "In month 240 interest payment -66.98, capital repayment -8930.28\n",
      "Payment required -20758.36 to pay back loan plus interest in 5 years\n"
     ]
    }
   ],
   "source": [
    "# to calculate example bond repayment values\n",
    "Interest_Rate = 0.09\n",
    "BondYears = 20\n",
    "cyclesPerAnnum = 12\n",
    "Principal = 1000000\n",
    "start_date = (date(2000,1,1))\n",
    "\n",
    "pmt = np.pmt(Interest_Rate/cyclesPerAnnum, BondYears*cyclesPerAnnum, Principal)\n",
    "print(f'Payment required {pmt:.2f} to pay back loan plus interest in {BondYears} years')\n",
    "\n",
    "# Period/month for which to calculate\n",
    "for per in [0,BondYears*cyclesPerAnnum]:\n",
    "    # Calculate the interest for this period\n",
    "    ipmt = np.ipmt(Interest_Rate/cyclesPerAnnum, per, BondYears*cyclesPerAnnum, Principal)\n",
    "    # Calculate the principal\n",
    "    ppmt = np.ppmt(Interest_Rate/cyclesPerAnnum, per, BondYears*cyclesPerAnnum, Principal)\n",
    "    print(f'In month {per:3d} interest payment {ipmt:6.2f}, capital repayment {ppmt:6.2f}')\n",
    "\n",
    "BondYears = 5\n",
    "pmt = np.pmt(Interest_Rate/cyclesPerAnnum, BondYears*cyclesPerAnnum, Principal)\n",
    "print(f'Payment required {pmt:.2f} to pay back loan plus interest in {BondYears} years')"
   ]
  },
  {
   "cell_type": "markdown",
   "metadata": {},
   "source": [
    "Someone once said that if you invest 33000 on the day of the child's birth, that should provide sufficient to retire at the age of 65. Let's test this.\n",
    "Growth of a fixed amount to grow for some years, compounded monthly at interest rates of 1 to 10% above inflation.\n",
    "The effect of inflation is removed by considering the investment interest rate minus the inflation rate.\n",
    "Also, following the 4% rule, we divide the end value byi 25 to get the annual pension.\n",
    "Looking at these numbers, it seems you have to sustain (inflation + 9% to 10%) over the full 65 years to reach at least a miminal or reasonable pension. Let us also ask how much money should you invest at 4% above inflation at birth to reach monthly pension of 50000 at age 65? You need to invest more than a million (assuming no additional payments)."
   ]
  },
  {
   "cell_type": "code",
   "execution_count": 3,
   "metadata": {},
   "outputs": [
    {
     "data": {
      "text/html": [
       "<table border=\"1\" class=\"dataframe\">\n",
       "  <thead>\n",
       "    <tr>\n",
       "      <th></th>\n",
       "      <th colspan=\"2\" halign=\"left\">Monthly pension</th>\n",
       "    </tr>\n",
       "    <tr>\n",
       "      <th>Initial</th>\n",
       "      <th>-1100000</th>\n",
       "      <th>-33000</th>\n",
       "    </tr>\n",
       "    <tr>\n",
       "      <th>Interest above inflation %</th>\n",
       "      <th></th>\n",
       "      <th></th>\n",
       "    </tr>\n",
       "  </thead>\n",
       "  <tbody>\n",
       "    <tr>\n",
       "      <th>1.0</th>\n",
       "      <td>-7.02175e+03</td>\n",
       "      <td>-210.65246</td>\n",
       "    </tr>\n",
       "    <tr>\n",
       "      <th>2.0</th>\n",
       "      <td>-1.34395e+04</td>\n",
       "      <td>-403.18610</td>\n",
       "    </tr>\n",
       "    <tr>\n",
       "      <th>3.0</th>\n",
       "      <td>-2.57092e+04</td>\n",
       "      <td>-771.27649</td>\n",
       "    </tr>\n",
       "    <tr>\n",
       "      <th>4.0</th>\n",
       "      <td>-4.91541e+04</td>\n",
       "      <td>-1474.62152</td>\n",
       "    </tr>\n",
       "    <tr>\n",
       "      <th>5.0</th>\n",
       "      <td>-9.39282e+04</td>\n",
       "      <td>-2817.84667</td>\n",
       "    </tr>\n",
       "    <tr>\n",
       "      <th>6.0</th>\n",
       "      <td>-1.79391e+05</td>\n",
       "      <td>-5381.71698</td>\n",
       "    </tr>\n",
       "    <tr>\n",
       "      <th>7.0</th>\n",
       "      <td>-3.42429e+05</td>\n",
       "      <td>-10272.86176</td>\n",
       "    </tr>\n",
       "    <tr>\n",
       "      <th>8.0</th>\n",
       "      <td>-6.53293e+05</td>\n",
       "      <td>-19598.80132</td>\n",
       "    </tr>\n",
       "    <tr>\n",
       "      <th>9.0</th>\n",
       "      <td>-1.24570e+06</td>\n",
       "      <td>-37371.06198</td>\n",
       "    </tr>\n",
       "    <tr>\n",
       "      <th>10.0</th>\n",
       "      <td>-2.37404e+06</td>\n",
       "      <td>-71221.25380</td>\n",
       "    </tr>\n",
       "  </tbody>\n",
       "</table>"
      ],
      "text/plain": [
       "<IPython.core.display.HTML object>"
      ]
     },
     "metadata": {},
     "output_type": "display_data"
    }
   ],
   "source": [
    "# to see how much money will accrue over 65 years from birth\n",
    "years = 65\n",
    "monthsperyear = 12\n",
    "presentValues = [-33000, -1100000]\n",
    "\n",
    "dfSum = pd.DataFrame()\n",
    "\n",
    "for presentValue in presentValues:\n",
    "    df = pd.DataFrame()\n",
    "    df['Interest above inflation %'] =  pd.Series(np.linspace(1,10,10)).transpose()\n",
    "    df['Future value'] =  np.fv(df['Interest above inflation %']/(monthsperyear*100),\n",
    "                            nper=years*monthsperyear, pmt=0, pv=-presentValue)\n",
    "    df['Monthly pension'] = df['Future value'] / (25 * 12)\n",
    "    df['Initial'] = presentValue\n",
    "    \n",
    "    dfSum = dfSum.append(df)\n",
    "\n",
    "dfxp = pd.pivot_table(dfSum, index=['Interest above inflation %'],values=['Monthly pension'],\n",
    "                      columns=['Initial'])\n",
    "display(HTML(dfxp.to_html()))\n"
   ]
  },
  {
   "cell_type": "markdown",
   "metadata": {},
   "source": [
    "## Compound interest conversions\n",
    "\n",
    "http://umanitoba.ca/faculties/management/acctfin/stangeland/9.220/old/ratecon2.doc\n",
    "\n",
    "The future value $F$ of a compounded interest present value $P$  is\n",
    "$$\n",
    "F = P \\left(\n",
    "1+\\frac{i^{<m>}}{m}\n",
    "\\right)^m\n",
    "$$\n",
    "where $m$ is the number of accumulations and $i^{<m>}$ is the annual-expressed interest, with the understanding that it will be compounded $m$ times per year.\n",
    "\n",
    "To convert between different compounding intervals note that the present value and future values must be the same, hence\n",
    "\n",
    "$$\n",
    "\\left(\n",
    "1+\\frac{i^{<n>}}{n}\n",
    "\\right)^n =  \\left(\n",
    "1+\\frac{i^{<m>}}{m}\n",
    "\\right)^m\n",
    "$$\n",
    "\n",
    "$$\n",
    "i^{<n>}\n",
    " =  \n",
    "n\\left[\\left(\n",
    "1+\\frac{i^{<m>}}{m}\n",
    "\\right)^{\\frac{m}{n}}-1\\right]\n",
    "$$"
   ]
  },
  {
   "cell_type": "markdown",
   "metadata": {},
   "source": [
    "This function is implemented as `utilityfuns.convertcompounded(n,m,imc,returnstr=False)` in the `persfin` module."
   ]
  },
  {
   "cell_type": "markdown",
   "metadata": {},
   "source": [
    "The effective annual rate for a stated rate of 7.5% per year compounded quarterly:\n",
    "$n=1$ and $m=4$, hence\n"
   ]
  },
  {
   "cell_type": "code",
   "execution_count": 4,
   "metadata": {},
   "outputs": [
    {
     "name": "stdout",
     "output_type": "stream",
     "text": [
      "Effective x1 rate of 0.075 compounded x4 is 0.07713586578369158\n"
     ]
    }
   ],
   "source": [
    "# to calculate effective rate for annual rate compounded quarterly\n",
    "print(ufun.convertcompounded(1,4,0.075,True))"
   ]
  },
  {
   "cell_type": "markdown",
   "metadata": {},
   "source": [
    "Fund managers take a commission as percentage of the *investment balance*.  One company, Coronation quote rates of up to 2% or even 3% on the investment value, compounded daily. What is the effect of daily compounding?  The difference may seem small but on large amounts of money, this difference can result a significant sum of money."
   ]
  },
  {
   "cell_type": "code",
   "execution_count": 5,
   "metadata": {},
   "outputs": [
    {
     "name": "stdout",
     "output_type": "stream",
     "text": [
      "Effective x1 rate of 0.02 compounded x365.25 is 0.02020078141545234\n",
      "Effective x1 rate of 0.03 compounded x365.25 is 0.030453264469993968\n"
     ]
    }
   ],
   "source": [
    "# to calculate the effective rate for annual rate compounded daily\n",
    "print(ufun.convertcompounded(1,365.25,0.02, True))\n",
    "print(ufun.convertcompounded(1,365.25,0.03, True))"
   ]
  },
  {
   "cell_type": "code",
   "execution_count": 6,
   "metadata": {},
   "outputs": [
    {
     "name": "stdout",
     "output_type": "stream",
     "text": [
      "Effective x1 rate of 0.095 compounded x365.25 is 0.09964527177314153\n",
      "Effective x1 rate of 0.095 compounded x12 is 0.09924758408100764\n",
      "\n",
      "Effective x1 rate of 0.06 compounded x365.25 is 0.06183131426116972\n",
      "Effective x1 rate of 0.06 compounded x12 is 0.06167781186449828\n",
      "Effective x365.25 rate of 0.06 compounded x1 is 0.05827355623654029\n",
      "Effective x12 rate of 0.06 compounded x1 is 0.05841060678411658\n"
     ]
    }
   ],
   "source": [
    "# to investigate compounding in various directions\n",
    "print(ufun.convertcompounded(1,365.25,0.095,True))\n",
    "print(ufun.convertcompounded(1,12,0.095, True))\n",
    "print('')\n",
    "print(ufun.convertcompounded(1,365.25,0.06, True))\n",
    "print(ufun.convertcompounded(1,12,0.06, True))\n",
    "print(ufun.convertcompounded(365.25,1,0.06, True))\n",
    "print(ufun.convertcompounded(12,1,0.06, True))\n"
   ]
  },
  {
   "cell_type": "markdown",
   "metadata": {},
   "source": [
    "## Time Value of Money\n",
    "\n",
    "Inflation erodes the buying power of money over time.  As long as your salary keeps track, or exceeds, of inflation, the erosion effect might not be very noticeable. However, if your salary increases slower than inflation, your buying power decreases with time.\n",
    "\n",
    "From the table below (assuming compounded annually) it is evident that the value of money halves in 11.5 years if the inflation rate is 6%."
   ]
  },
  {
   "cell_type": "code",
   "execution_count": 7,
   "metadata": {},
   "outputs": [
    {
     "data": {
      "text/html": [
       "<table border=\"1\" class=\"dataframe\">\n",
       "  <thead>\n",
       "    <tr style=\"text-align: right;\">\n",
       "      <th></th>\n",
       "      <th>Inflation %</th>\n",
       "      <th>Years-to-half</th>\n",
       "    </tr>\n",
       "  </thead>\n",
       "  <tbody>\n",
       "    <tr>\n",
       "      <th>0</th>\n",
       "      <td>3.0</td>\n",
       "      <td>23.13378</td>\n",
       "    </tr>\n",
       "    <tr>\n",
       "      <th>1</th>\n",
       "      <td>4.0</td>\n",
       "      <td>17.35754</td>\n",
       "    </tr>\n",
       "    <tr>\n",
       "      <th>2</th>\n",
       "      <td>5.0</td>\n",
       "      <td>13.89180</td>\n",
       "    </tr>\n",
       "    <tr>\n",
       "      <th>3</th>\n",
       "      <td>6.0</td>\n",
       "      <td>11.58131</td>\n",
       "    </tr>\n",
       "    <tr>\n",
       "      <th>4</th>\n",
       "      <td>7.0</td>\n",
       "      <td>9.93096</td>\n",
       "    </tr>\n",
       "    <tr>\n",
       "      <th>5</th>\n",
       "      <td>8.0</td>\n",
       "      <td>8.69319</td>\n",
       "    </tr>\n",
       "    <tr>\n",
       "      <th>6</th>\n",
       "      <td>9.0</td>\n",
       "      <td>7.73048</td>\n",
       "    </tr>\n",
       "    <tr>\n",
       "      <th>7</th>\n",
       "      <td>10.0</td>\n",
       "      <td>6.96031</td>\n",
       "    </tr>\n",
       "    <tr>\n",
       "      <th>8</th>\n",
       "      <td>11.0</td>\n",
       "      <td>6.33018</td>\n",
       "    </tr>\n",
       "    <tr>\n",
       "      <th>9</th>\n",
       "      <td>12.0</td>\n",
       "      <td>5.80506</td>\n",
       "    </tr>\n",
       "    <tr>\n",
       "      <th>10</th>\n",
       "      <td>13.0</td>\n",
       "      <td>5.36073</td>\n",
       "    </tr>\n",
       "    <tr>\n",
       "      <th>11</th>\n",
       "      <td>14.0</td>\n",
       "      <td>4.97988</td>\n",
       "    </tr>\n",
       "    <tr>\n",
       "      <th>12</th>\n",
       "      <td>15.0</td>\n",
       "      <td>4.64980</td>\n",
       "    </tr>\n",
       "  </tbody>\n",
       "</table>"
      ],
      "text/plain": [
       "<IPython.core.display.HTML object>"
      ]
     },
     "metadata": {},
     "output_type": "display_data"
    },
    {
     "data": {
      "image/png": "[encoded data removed]",
      "text/plain": [
       "<Figure size 720x432 with 1 Axes>"
      ]
     },
     "metadata": {
      "needs_background": "light"
     },
     "output_type": "display_data"
    }
   ],
   "source": [
    "# to calculate the time value of money for different inflation rates\n",
    "df = pd.DataFrame()\n",
    "df['Inflation %'] =  np.linspace(3,15,13)\n",
    "df['Years-to-half'] = -np.log(0.5)/np.log(1+df['Inflation %']/(100*12))/12\n",
    "display(HTML(df.to_html(index=True)))\n",
    "\n",
    "figsize(10,6)\n",
    "fig, ax = plt.subplots(1, 1)\n",
    "df.plot(x='Inflation %', y='Years-to-half', label=f'', ax=ax)\n",
    "plt.title(\"Time to 50% of value\");\n",
    "plt.ylabel(\"Years\");"
   ]
  },
  {
   "cell_type": "markdown",
   "metadata": {},
   "source": [
    "## Mortgage Bond Amortisation \n",
    "\n",
    "See the `01-Mortgage-Amortisation` notebook.\n"
   ]
  },
  {
   "cell_type": "code",
   "execution_count": null,
   "metadata": {},
   "outputs": [],
   "source": []
  },
  {
   "cell_type": "code",
   "execution_count": null,
   "metadata": {},
   "outputs": [],
   "source": []
  },
  {
   "cell_type": "code",
   "execution_count": null,
   "metadata": {},
   "outputs": [],
   "source": []
  },
  {
   "cell_type": "code",
   "execution_count": null,
   "metadata": {},
   "outputs": [],
   "source": []
  },
  {
   "cell_type": "code",
   "execution_count": null,
   "metadata": {},
   "outputs": [],
   "source": []
  },
  {
   "cell_type": "code",
   "execution_count": null,
   "metadata": {},
   "outputs": [],
   "source": []
  },
  {
   "cell_type": "code",
   "execution_count": null,
   "metadata": {},
   "outputs": [],
   "source": []
  },
  {
   "cell_type": "code",
   "execution_count": null,
   "metadata": {},
   "outputs": [],
   "source": []
  },
  {
   "cell_type": "code",
   "execution_count": null,
   "metadata": {},
   "outputs": [],
   "source": []
  },
  {
   "cell_type": "code",
   "execution_count": null,
   "metadata": {},
   "outputs": [],
   "source": []
  },
  {
   "cell_type": "code",
   "execution_count": null,
   "metadata": {},
   "outputs": [],
   "source": []
  },
  {
   "cell_type": "code",
   "execution_count": null,
   "metadata": {},
   "outputs": [],
   "source": []
  },
  {
   "cell_type": "code",
   "execution_count": null,
   "metadata": {},
   "outputs": [],
   "source": []
  },
  {
   "cell_type": "code",
   "execution_count": null,
   "metadata": {},
   "outputs": [],
   "source": []
  },
  {
   "cell_type": "markdown",
   "metadata": {},
   "source": [
    "## Rental Property Analysis\n",
    "\n",
    "Study the cash flow over some extended period `calcyears` when buying a property against a bonded loan for the purpose of renting it out. The loan can be fully repaid in `bondyears`, before the end of the extended study period. Hence in the initial `bondyears` the loan requires interest payment (as a cost against the property) and after the `bondyears` period, the interest is zero, with the property returning a positive inflow of cash.  The intent is to determine the effect of bond duration on the total cash flow over the extended period.\n",
    "\n",
    "Given the loan amount, interest rate and other parameters, an additional payment is required to repay the loan at the end of the `bondyears` period. Hence, in the initial years the investment is cash flow negative as the loan is repaid.  The investment should become cash flow positive after the loan in repaid.  The question remains: over the extended analysis period, **what was the net cumulative cash flow?**  The smaller (or more negative) the net cumulative cash flow is, the poorer investment is.\n",
    "\n",
    "For simplicity we assume that the additional loan down payment funds are free (no costs or losses in removing the funds from other investments).\n",
    "We also assume that the tax is payable every month, whereas in real life, the tax is only payable on predetermined dates (once or twice per year).\n",
    "The model allows for annual increase in rental income, rates and taxes, renting agency fees and levies. The tax benefit is also applied.\n",
    "\n",
    "The model assumes that the rental income is paid towards depleting the bond (not removed as personal income).\n",
    "\n",
    "The costs include: \n",
    "1. bond interest, cost of the loan, expressed as a percentage on outstanding balance.\n",
    "1. maintenance, fix and maintain the property, expressed as percentage of rental income. Reasonable values should be 2% to 10% depending on the condition of the property. \n",
    "If it is a full-title property there should be no levies, but this maintenance cost should be higher.\n",
    "If it is a sectional-title property there should be higher levies, but this maintenance cost should be lower, because much of the maintenance is already included in the levy.\n",
    "1. renting agents fee (if applicable), expressed as percentage of rental income. It is convenient to use an agency to find renters and manage the rent agreement. Normally this is 7% to 10% of the rent.\n",
    "1. levies (if applicable), if the property is part of a sectional title scheme.  This can also be used to include any costs to maintain buildings, gardens, etc.\n",
    "1. Local government statutory rates and taxes.\n",
    "1. risk of less than 100% occupancy, defaulting rent payments, damage to property, other other expenses arising from poor tenant behaviour.\n",
    "\n",
    "**Note** the time value of money is not accounted for here, hence the situation is actually worse than what this analysis shows: we use expensive money to repay the loan early and earn cheap money positive cash flow later.\n",
    "\n",
    "**Note** this analysis only considers the rental income and costs against this income.  The **capital growth is not considered at all in the present analysis**, it will be added later.\n",
    "\n",
    "The calculation is as follows:\n",
    "\n",
    "![](images/bond-optimisation.png)\n"
   ]
  },
  {
   "cell_type": "code",
   "execution_count": null,
   "metadata": {},
   "outputs": [],
   "source": []
  },
  {
   "cell_type": "markdown",
   "metadata": {},
   "source": [
    "**Note** The parameters used in the following investigation are not optimal in the sense that the rent income is poor relative to the cost of the property.\n",
    "It may be possible to get half of this rent income (3000) for some properties costing a quarter of the value considered here (250k).\n",
    "\n",
    "\n",
    "\n",
    "The parameters used in the analysis are as follows:"
   ]
  },
  {
   "cell_type": "code",
   "execution_count": 8,
   "metadata": {},
   "outputs": [],
   "source": [
    "principal = 1000000\n",
    "interest_rate = 0.097\n",
    "bondyears = 5\n",
    "calcyears = 20\n",
    "rentpmonth = 7000\n",
    "rentpermonthInc = 0.06\n",
    "agentPcnt = 0.08\n",
    "maintPcnt = 0.03\n",
    "riskPcnt = 0.01\n",
    "levy = -600\n",
    "ratesnt = -600\n",
    "levyInc = 0.06\n",
    "ratesntInc = 0.06\n",
    "taxrate = 0.33\n",
    "\n",
    "dfc,istats = rfun.rentalProperty(principal=principal,interest_rate=interest_rate,\n",
    "                bondyears=bondyears,calcyears=calcyears,rentpmonth=rentpmonth,rentpermonthInc=rentpermonthInc,\n",
    "                agentPcnt=agentPcnt,levy=levy,ratesnt=ratesnt,levyInc=levyInc,\n",
    "                ratesntInc=ratesntInc,maintPcnt=maintPcnt,taxrate=taxrate,riskPcnt=riskPcnt,doplot=False)"
   ]
  },
  {
   "cell_type": "code",
   "execution_count": 9,
   "metadata": {},
   "outputs": [
    {
     "data": {
      "text/html": [
       "<table border=\"1\" class=\"dataframe\">\n",
       "  <thead>\n",
       "    <tr style=\"text-align: right;\">\n",
       "      <th></th>\n",
       "      <th>0</th>\n",
       "    </tr>\n",
       "  </thead>\n",
       "  <tbody>\n",
       "    <tr>\n",
       "      <th>Bond</th>\n",
       "      <td>1000000</td>\n",
       "    </tr>\n",
       "    <tr>\n",
       "      <th>Interest Rate</th>\n",
       "      <td>0.097</td>\n",
       "    </tr>\n",
       "    <tr>\n",
       "      <th>BondYears</th>\n",
       "      <td>5</td>\n",
       "    </tr>\n",
       "    <tr>\n",
       "      <th>ReqPaymentMonth</th>\n",
       "      <td>-21100</td>\n",
       "    </tr>\n",
       "    <tr>\n",
       "      <th>TotalInterest</th>\n",
       "      <td>-2.6598e+05</td>\n",
       "    </tr>\n",
       "    <tr>\n",
       "      <th>CumCashFlow</th>\n",
       "      <td>20033</td>\n",
       "    </tr>\n",
       "    <tr>\n",
       "      <th>Num Payments</th>\n",
       "      <td>241</td>\n",
       "    </tr>\n",
       "    <tr>\n",
       "      <th>CalcYears</th>\n",
       "      <td>20</td>\n",
       "    </tr>\n",
       "    <tr>\n",
       "      <th>InitRent</th>\n",
       "      <td>7000</td>\n",
       "    </tr>\n",
       "    <tr>\n",
       "      <th>RentIncrease</th>\n",
       "      <td>0.06</td>\n",
       "    </tr>\n",
       "    <tr>\n",
       "      <th>InitLevy</th>\n",
       "      <td>-600</td>\n",
       "    </tr>\n",
       "    <tr>\n",
       "      <th>LevyIncrease</th>\n",
       "      <td>0.06</td>\n",
       "    </tr>\n",
       "    <tr>\n",
       "      <th>InitR&amp;T</th>\n",
       "      <td>-600</td>\n",
       "    </tr>\n",
       "    <tr>\n",
       "      <th>R&amp;TIncrease</th>\n",
       "      <td>0.06</td>\n",
       "    </tr>\n",
       "    <tr>\n",
       "      <th>TaxRate</th>\n",
       "      <td>0.33</td>\n",
       "    </tr>\n",
       "    <tr>\n",
       "      <th>AgentPcnt</th>\n",
       "      <td>0.08</td>\n",
       "    </tr>\n",
       "    <tr>\n",
       "      <th>Maint</th>\n",
       "      <td>-93373</td>\n",
       "    </tr>\n",
       "    <tr>\n",
       "      <th>MaintPcnt</th>\n",
       "      <td>0.03</td>\n",
       "    </tr>\n",
       "    <tr>\n",
       "      <th>Risk</th>\n",
       "      <td>-31124</td>\n",
       "    </tr>\n",
       "    <tr>\n",
       "      <th>RiskPcnt</th>\n",
       "      <td>0.01</td>\n",
       "    </tr>\n",
       "    <tr>\n",
       "      <th>Total Rent</th>\n",
       "      <td>3.1124e+06</td>\n",
       "    </tr>\n",
       "    <tr>\n",
       "      <th>Tax</th>\n",
       "      <td>-6.5338e+05</td>\n",
       "    </tr>\n",
       "    <tr>\n",
       "      <th>Income</th>\n",
       "      <td>1.286e+06</td>\n",
       "    </tr>\n",
       "    <tr>\n",
       "      <th>RentAfterCostsB4TaxFrac</th>\n",
       "      <td>0.62311</td>\n",
       "    </tr>\n",
       "    <tr>\n",
       "      <th>ID</th>\n",
       "      <td></td>\n",
       "    </tr>\n",
       "  </tbody>\n",
       "</table>"
      ],
      "text/plain": [
       "<IPython.core.display.HTML object>"
      ]
     },
     "metadata": {},
     "output_type": "display_data"
    }
   ],
   "source": [
    "display(HTML(istats.to_frame().to_html(index=True)))"
   ]
  },
  {
   "cell_type": "markdown",
   "metadata": {},
   "source": [
    "### Monthly cash flow\n",
    "\n",
    "The cash flow time line shows that  high costs (agent fees, maintenance, levies, rates & taxes) destroy the investment potential of property.  For effective investment return, you must bring down the costs dramatically.\n",
    "\n",
    "The net monthly cash flow is negative while the bond is repaid, but positive afterwards.\n",
    "\n",
    "Initially, the net rent after cost (including interest, but excluding payments against the principal) is negative, because the loan interest is very high. \n",
    "\n"
   ]
  },
  {
   "cell_type": "code",
   "execution_count": 10,
   "metadata": {},
   "outputs": [
    {
     "data": {
      "image/png": "[encoded data removed]",
      "text/plain": [
       "<Figure size 864x576 with 1 Axes>"
      ]
     },
     "metadata": {
      "needs_background": "light"
     },
     "output_type": "display_data"
    }
   ],
   "source": [
    "rfun.plotrentalpropcashflowtimeline(dfc)"
   ]
  },
  {
   "cell_type": "markdown",
   "metadata": {},
   "source": [
    "Define the effective rent income as the fraction of the net rent income (after costs) to the gross rent income. With zero cost the effective rent income should be 1. Any costs will reduce this income to smaller than 1. We answer the question:  after costs, what is the net inflow from the investment?\n",
    "\n",
    "In this graph, costs are defined as all outflows against the rental property, including bonded loan interest, agent's fees, levies, rates and taxes and maintenance.\n",
    "This value does not include income tax in the hands of the investor or the down payment against the loan capital or principal. \n",
    "\n",
    "In the graph below the loan is repaid after five years and the interest is zero.\n",
    "\n",
    "The graph title shows the mean value over the extended period of study. This value include the initial negative cash flow (interest), but excludes income tax and loan capital repayment.\n"
   ]
  },
  {
   "cell_type": "code",
   "execution_count": 11,
   "metadata": {},
   "outputs": [
    {
     "data": {
      "image/png": "[encoded data removed]",
      "text/plain": [
       "<Figure size 864x576 with 1 Axes>"
      ]
     },
     "metadata": {
      "needs_background": "light"
     },
     "output_type": "display_data"
    }
   ],
   "source": [
    "rfun.plotrentalpropeffectiverent(dfc)    "
   ]
  },
  {
   "cell_type": "markdown",
   "metadata": {},
   "source": [
    "### Effect of income tax and  bonded loan duration \n",
    "\n",
    "Next investigate the effect of mortgage bond duration and tax rate on net cumulative cash flow over an extended period.\n",
    "If you buy a property, which mortgage bond duration will give the best net cash flow over an extended period?   \n",
    "How much does the cash flow differ for different bond  durations?  \n",
    "\n",
    "The model considers the cumulative cash flow over a 20-year duration, of which the bond duration is the first $n$ years.  The principal amount, interest rate, the rent and all other costs are the same in all cases, only the bond payment duration varies."
   ]
  },
  {
   "cell_type": "code",
   "execution_count": 14,
   "metadata": {},
   "outputs": [],
   "source": [
    "principal = 1000000\n",
    "interest_rate = 0.097\n",
    "calcyears = 20\n",
    "rentpmonth = 7000\n",
    "rentpermonthInc = 0.06\n",
    "agentPcnt = 0.08\n",
    "maintPcnt = 0.03\n",
    "riskPcnt = 0.01\n",
    "levy = -600\n",
    "ratesnt = -600\n",
    "levyInc = 0.06\n",
    "ratesntInc = 0.06\n",
    "\n",
    "dfSum = pd.DataFrame()\n",
    "\n",
    "for bondyears in [3, 4,5,7,10,20]:\n",
    "    for taxrate in [0.2, 0.33, 0.42]:\n",
    "        dfc,istats = rfun.rentalProperty(principal=principal,interest_rate=interest_rate,\n",
    "                bondyears=bondyears,calcyears=calcyears,rentpmonth=rentpmonth,rentpermonthInc=rentpermonthInc,\n",
    "                agentPcnt=agentPcnt,levy=levy,ratesnt=ratesnt,levyInc=levyInc,\n",
    "                ratesntInc=ratesntInc,maintPcnt=maintPcnt,taxrate=taxrate,riskPcnt=riskPcnt,doplot=False)\n",
    "\n",
    "        # append all summaries into single df\n",
    "        dfSum = dfSum.append(istats,ignore_index=True)\n",
    "\n"
   ]
  },
  {
   "cell_type": "markdown",
   "metadata": {},
   "source": [
    "The table below shows the scenario parameters for the results shown further down below:"
   ]
  },
  {
   "cell_type": "code",
   "execution_count": 15,
   "metadata": {},
   "outputs": [
    {
     "data": {
      "text/html": [
       "<table border=\"1\" class=\"dataframe\">\n",
       "  <thead>\n",
       "    <tr style=\"text-align: right;\">\n",
       "      <th></th>\n",
       "      <th>0</th>\n",
       "    </tr>\n",
       "  </thead>\n",
       "  <tbody>\n",
       "    <tr>\n",
       "      <th>Bond</th>\n",
       "      <td>1000000</td>\n",
       "    </tr>\n",
       "    <tr>\n",
       "      <th>Interest Rate</th>\n",
       "      <td>0.097</td>\n",
       "    </tr>\n",
       "    <tr>\n",
       "      <th>CalcYears</th>\n",
       "      <td>20</td>\n",
       "    </tr>\n",
       "    <tr>\n",
       "      <th>InitRent</th>\n",
       "      <td>7000</td>\n",
       "    </tr>\n",
       "    <tr>\n",
       "      <th>RentIncrease</th>\n",
       "      <td>0.06</td>\n",
       "    </tr>\n",
       "    <tr>\n",
       "      <th>InitLevy</th>\n",
       "      <td>-600</td>\n",
       "    </tr>\n",
       "    <tr>\n",
       "      <th>LevyIncrease</th>\n",
       "      <td>0.06</td>\n",
       "    </tr>\n",
       "    <tr>\n",
       "      <th>InitR&amp;T</th>\n",
       "      <td>-600</td>\n",
       "    </tr>\n",
       "    <tr>\n",
       "      <th>R&amp;TIncrease</th>\n",
       "      <td>0.06</td>\n",
       "    </tr>\n",
       "    <tr>\n",
       "      <th>AgentPcnt</th>\n",
       "      <td>0.08</td>\n",
       "    </tr>\n",
       "    <tr>\n",
       "      <th>MaintPcnt</th>\n",
       "      <td>0.03</td>\n",
       "    </tr>\n",
       "    <tr>\n",
       "      <th>RiskPcnt</th>\n",
       "      <td>0.01</td>\n",
       "    </tr>\n",
       "  </tbody>\n",
       "</table>"
      ],
      "text/plain": [
       "<IPython.core.display.HTML object>"
      ]
     },
     "metadata": {},
     "output_type": "display_data"
    }
   ],
   "source": [
    "istatsfiltex = istats[['Bond','Interest Rate','CalcYears','InitRent','RentIncrease','InitLevy',\n",
    "                    'LevyIncrease','InitR&T','R&TIncrease','AgentPcnt','MaintPcnt','RiskPcnt']]\n",
    "display(HTML(istatsfiltex.to_frame().to_html(index=True)))"
   ]
  },
  {
   "cell_type": "markdown",
   "metadata": {},
   "source": [
    "###  Net cumulative cash flow\n",
    "\n",
    "The table shows the net cumulative cash flow (sum of cash flow over the extended period `CalcYears` od 20 years) as a function of bond pay-back period and tax rate.\n",
    "\n",
    "It is clear that a 42% tax rate requires that the bond be paid off in three years in order to achieve a  positive net cumulative cash flow *only after 20 years*.\n",
    "In this case the investment has only paid back the loan money but has not yet given any other income.\n",
    "\n",
    "At a 20% tax rate the investment provides positive net cumulative cash flow after 20 years for a bond paid off in less than seven years.\n",
    "At this tax rate, if you repaid the bond in four years, the investment will return about 400k net cash flow after 20 years.\n",
    "\n",
    "At a 33% tax rate the investment provides positive net cumulative cash flow after 20 years for a bond paid off in less than four years.\n",
    "\n",
    "Tax and *all* of the other 'cost' items contribute to this performance: the conclusion is that all costs must be minimised to make the investment worthwhile in terms of net cumulative cash flow after 20 years.\n"
   ]
  },
  {
   "cell_type": "code",
   "execution_count": 16,
   "metadata": {},
   "outputs": [
    {
     "data": {
      "text/html": [
       "<table border=\"1\" class=\"dataframe\">\n",
       "  <thead>\n",
       "    <tr>\n",
       "      <th></th>\n",
       "      <th colspan=\"3\" halign=\"left\">CumCashFlow</th>\n",
       "    </tr>\n",
       "    <tr>\n",
       "      <th>TaxRate</th>\n",
       "      <th>0.20</th>\n",
       "      <th>0.33</th>\n",
       "      <th>0.42</th>\n",
       "    </tr>\n",
       "    <tr>\n",
       "      <th>BondYears</th>\n",
       "      <th></th>\n",
       "      <th></th>\n",
       "      <th></th>\n",
       "    </tr>\n",
       "  </thead>\n",
       "  <tbody>\n",
       "    <tr>\n",
       "      <th>3.0</th>\n",
       "      <td>4.77538e+05</td>\n",
       "      <td>2.07958e+05</td>\n",
       "      <td>2.13256e+04</td>\n",
       "    </tr>\n",
       "    <tr>\n",
       "      <th>4.0</th>\n",
       "      <td>3.78918e+05</td>\n",
       "      <td>1.15363e+05</td>\n",
       "      <td>-6.70971e+04</td>\n",
       "    </tr>\n",
       "    <tr>\n",
       "      <th>5.0</th>\n",
       "      <td>2.77427e+05</td>\n",
       "      <td>2.00327e+04</td>\n",
       "      <td>-1.58163e+05</td>\n",
       "    </tr>\n",
       "    <tr>\n",
       "      <th>7.0</th>\n",
       "      <td>6.65617e+04</td>\n",
       "      <td>-1.77707e+05</td>\n",
       "      <td>-3.46816e+05</td>\n",
       "    </tr>\n",
       "    <tr>\n",
       "      <th>10.0</th>\n",
       "      <td>-2.69652e+05</td>\n",
       "      <td>-4.92704e+05</td>\n",
       "      <td>-6.47125e+05</td>\n",
       "    </tr>\n",
       "    <tr>\n",
       "      <th>20.0</th>\n",
       "      <td>-1.54556e+06</td>\n",
       "      <td>-1.68456e+06</td>\n",
       "      <td>-1.78079e+06</td>\n",
       "    </tr>\n",
       "  </tbody>\n",
       "</table>"
      ],
      "text/plain": [
       "<IPython.core.display.HTML object>"
      ]
     },
     "metadata": {},
     "output_type": "display_data"
    }
   ],
   "source": [
    "dft = pd.pivot_table(dfSum, index=['BondYears'],values=['CumCashFlow'],columns=['TaxRate'])\n",
    "display(HTML(dft.to_html(index=True)))\n"
   ]
  },
  {
   "cell_type": "markdown",
   "metadata": {},
   "source": [
    "### Effective rent after cost before tax\n",
    "\n",
    "The following table shows the net rent income after costs (including interest) before income tax (also excluding the repayment of the loan capital).\n",
    "\n",
    "It is evident for the property considered here, the longer term loan durations spends most of the rental income to repay the bond.\n",
    "\n",
    "The data in the table is shown further down in graph format, when comparing with alternative investment options."
   ]
  },
  {
   "cell_type": "code",
   "execution_count": 17,
   "metadata": {},
   "outputs": [
    {
     "data": {
      "text/html": [
       "<table border=\"1\" class=\"dataframe\">\n",
       "  <thead>\n",
       "    <tr>\n",
       "      <th></th>\n",
       "      <th colspan=\"3\" halign=\"left\">RentAfterCostsB4TaxFrac</th>\n",
       "    </tr>\n",
       "    <tr>\n",
       "      <th>TaxRate</th>\n",
       "      <th>0.20</th>\n",
       "      <th>0.33</th>\n",
       "      <th>0.42</th>\n",
       "    </tr>\n",
       "    <tr>\n",
       "      <th>BondYears</th>\n",
       "      <th></th>\n",
       "      <th></th>\n",
       "      <th></th>\n",
       "    </tr>\n",
       "  </thead>\n",
       "  <tbody>\n",
       "    <tr>\n",
       "      <th>3.0</th>\n",
       "      <td>0.65827</td>\n",
       "      <td>0.65827</td>\n",
       "      <td>0.65827</td>\n",
       "    </tr>\n",
       "    <tr>\n",
       "      <th>4.0</th>\n",
       "      <td>0.64094</td>\n",
       "      <td>0.64094</td>\n",
       "      <td>0.64094</td>\n",
       "    </tr>\n",
       "    <tr>\n",
       "      <th>5.0</th>\n",
       "      <td>0.62311</td>\n",
       "      <td>0.62311</td>\n",
       "      <td>0.62311</td>\n",
       "    </tr>\n",
       "    <tr>\n",
       "      <th>7.0</th>\n",
       "      <td>0.58599</td>\n",
       "      <td>0.58599</td>\n",
       "      <td>0.58599</td>\n",
       "    </tr>\n",
       "    <tr>\n",
       "      <th>10.0</th>\n",
       "      <td>0.52674</td>\n",
       "      <td>0.52674</td>\n",
       "      <td>0.52674</td>\n",
       "    </tr>\n",
       "    <tr>\n",
       "      <th>20.0</th>\n",
       "      <td>0.30100</td>\n",
       "      <td>0.30100</td>\n",
       "      <td>0.30100</td>\n",
       "    </tr>\n",
       "  </tbody>\n",
       "</table>"
      ],
      "text/plain": [
       "<IPython.core.display.HTML object>"
      ]
     },
     "metadata": {},
     "output_type": "display_data"
    }
   ],
   "source": [
    "dfer = pd.pivot_table(dfSum, index=['BondYears'],values=['RentAfterCostsB4TaxFrac'],columns=['TaxRate'])\n",
    "display(HTML(dfer.to_html(index=True)))"
   ]
  },
  {
   "cell_type": "markdown",
   "metadata": {},
   "source": [
    "### Alternative, lower cost investment analysis\n",
    "\n",
    "Consider less expensive property with lower rental income, but where the rent is relatively higher compared to the price of the property.\n",
    "\n",
    "Consider a property at a quarter of the purchase cost of the property considered above, but where the property raises 3000 rental income.\n",
    "In order to keep the same loan amount, four properties are bought and considered as a collective in this analysis.\n",
    "\n",
    "The risk of damages in cheaper properties is higher than for the more expensive investment.  \n",
    "How much higher must the risk be for similar returns as on the expensive property?\n",
    "We consider a reasonable risk value 10% of rent, and the threshold value (26% for these scenarios) where the more expensive property is the better investment.\n"
   ]
  },
  {
   "cell_type": "code",
   "execution_count": 19,
   "metadata": {},
   "outputs": [],
   "source": [
    "principal = 4 * 250000\n",
    "interest_rate = 0.097\n",
    "calcyears = 20\n",
    "rentpmonth = 4 * 3000\n",
    "rentpermonthInc = 0.06\n",
    "agentPcnt = 0.08\n",
    "maintPcnt = 0.03\n",
    "riskPcnts = [0.1, 0.26]\n",
    "levy = -4 * 400\n",
    "ratesnt = -4 * 250\n",
    "levyInc = 0.06\n",
    "ratesntInc = 0.06\n",
    "\n",
    "dfSum2 = pd.DataFrame()\n",
    "\n",
    "for riskPcnt in riskPcnts:\n",
    "    for bondyears in [3, 4,5,7,10,20]:\n",
    "        for taxrate in [0.2, 0.33, 0.42]:\n",
    "            dfc,istats = rfun.rentalProperty(principal=principal,interest_rate=interest_rate,\n",
    "                    bondyears=bondyears,calcyears=calcyears,rentpmonth=rentpmonth,rentpermonthInc=rentpermonthInc,\n",
    "                    agentPcnt=agentPcnt,levy=levy,ratesnt=ratesnt,levyInc=levyInc,\n",
    "                    ratesntInc=ratesntInc,maintPcnt=maintPcnt,taxrate=taxrate,riskPcnt=riskPcnt,doplot=False)\n",
    "\n",
    "            # append all summaries into single df\n",
    "            dfSum2 = dfSum2.append(istats,ignore_index=True)\n"
   ]
  },
  {
   "cell_type": "code",
   "execution_count": 20,
   "metadata": {},
   "outputs": [
    {
     "data": {
      "text/html": [
       "<table border=\"1\" class=\"dataframe\">\n",
       "  <thead>\n",
       "    <tr style=\"text-align: right;\">\n",
       "      <th></th>\n",
       "      <th>0</th>\n",
       "    </tr>\n",
       "  </thead>\n",
       "  <tbody>\n",
       "    <tr>\n",
       "      <th>Bond</th>\n",
       "      <td>1000000</td>\n",
       "    </tr>\n",
       "    <tr>\n",
       "      <th>Interest Rate</th>\n",
       "      <td>0.097</td>\n",
       "    </tr>\n",
       "    <tr>\n",
       "      <th>CalcYears</th>\n",
       "      <td>20</td>\n",
       "    </tr>\n",
       "    <tr>\n",
       "      <th>InitRent</th>\n",
       "      <td>12000</td>\n",
       "    </tr>\n",
       "    <tr>\n",
       "      <th>RentIncrease</th>\n",
       "      <td>0.06</td>\n",
       "    </tr>\n",
       "    <tr>\n",
       "      <th>InitLevy</th>\n",
       "      <td>-1600</td>\n",
       "    </tr>\n",
       "    <tr>\n",
       "      <th>LevyIncrease</th>\n",
       "      <td>0.06</td>\n",
       "    </tr>\n",
       "    <tr>\n",
       "      <th>InitR&amp;T</th>\n",
       "      <td>-1000</td>\n",
       "    </tr>\n",
       "    <tr>\n",
       "      <th>R&amp;TIncrease</th>\n",
       "      <td>0.06</td>\n",
       "    </tr>\n",
       "    <tr>\n",
       "      <th>AgentPcnt</th>\n",
       "      <td>0.08</td>\n",
       "    </tr>\n",
       "    <tr>\n",
       "      <th>MaintPcnt</th>\n",
       "      <td>0.03</td>\n",
       "    </tr>\n",
       "  </tbody>\n",
       "</table>"
      ],
      "text/plain": [
       "<IPython.core.display.HTML object>"
      ]
     },
     "metadata": {},
     "output_type": "display_data"
    }
   ],
   "source": [
    "istatsfilt = istats[['Bond','Interest Rate','CalcYears','InitRent','RentIncrease','InitLevy',\n",
    "                    'LevyIncrease','InitR&T','R&TIncrease','AgentPcnt','MaintPcnt']]\n",
    "display(HTML(istatsfilt.to_frame().to_html(index=True)))"
   ]
  },
  {
   "cell_type": "code",
   "execution_count": 21,
   "metadata": {},
   "outputs": [],
   "source": [
    "dftc = {}\n",
    "for i,riskPcnt in enumerate(riskPcnts):\n",
    "    dftc[i] = pd.pivot_table(dfSum2.loc[dfSum2['RiskPcnt']==riskPcnts[i]], \n",
    "                             index=['BondYears'],values=['CumCashFlow'],columns=['TaxRate'])\n",
    "#     display(HTML(dftc[i].to_html(index=True)))\n"
   ]
  },
  {
   "cell_type": "code",
   "execution_count": 22,
   "metadata": {},
   "outputs": [
    {
     "data": {
      "image/png": "[encoded data removed]",
      "text/plain": [
       "<Figure size 1296x576 with 3 Axes>"
      ]
     },
     "metadata": {
      "needs_background": "light"
     },
     "output_type": "display_data"
    }
   ],
   "source": [
    "import matplotlib.pyplot as plt\n",
    "figsize(18,8)\n",
    "fig, axes = plt.subplots(nrows=1, ncols=3)\n",
    "dft.reset_index().plot(x='BondYears',y='CumCashFlow',  ax=axes[0],ylim=[-2e6,2e6])    \n",
    "axes[0].set_ylabel(\"Net cumulative cash flow\");\n",
    "axes[0].set_title(f\"Expensive property risk={istatsfiltex['RiskPcnt']}\");\n",
    "\n",
    "for i,riskPcnt in enumerate(riskPcnts):\n",
    "    dftc[i].reset_index().plot(x='BondYears',y='CumCashFlow',  ax=axes[i+1],ylim=[-2e6,2e6])      \n",
    "    axes[i+1].set_title(f\"Cheap property, risk={riskPcnt}\");"
   ]
  },
  {
   "cell_type": "markdown",
   "metadata": {},
   "source": [
    "The above analysis shows that for the scenarios considered, if the risk is higher than 26% of rent, the more expensive property is the better investment.\n",
    "This is however, quite a high risk, it should be lower in a well managed portfolio.\n",
    "\n",
    "The graphs show that at 10% risk, the less expensive property performs somewhat more than twice as good as the more expensive property.\n",
    "\n",
    "In conclusion, if you are able and willing to manage the risks down low, the less expensive properties are considerable better investments than the more expensive property.\n",
    "If the risks are higher or you don't want the trouble of managing risk and trouble the more expensive property still remains an option (less attractive though), especially if you do not operate the properties as a large scale business.\n",
    "\n",
    "Finally, it seems that unless you tightly manage the costs and risks the cost of a rental investment, in terms of rental income only (ignoring capital growth) is of the same order as the costs of managed investments such as unit trusts (managed investments). If the management fee of a  unit trust is around 2% of fund value, the investor loses about 40% of the potential growth of the investment (details to follow).\n",
    "\n",
    "\n",
    "Keep in mind that capital growth is not yet factored into this analysis."
   ]
  },
  {
   "cell_type": "markdown",
   "metadata": {},
   "source": [
    "## Moving funds between bonds \n",
    "\n",
    "### The scenario\n",
    "\n",
    "Suppose I need to raise some money to buy a third property but a mortgage bond is not desired because the money must be paid back in a short time.  It was shown above that for shorter-term loans, the statutory and legal costs of obtaining the bond minimise the tax savings benefit on interest.\n",
    "\n",
    "There are two existing mortgage bonds against which money can be drawn against (known as Access Bonds). The funds available for withdrawal in the access bond is equal to the *additional* money previously deposited (using the loan account as a 'savings' account).\n",
    "The two properties under bond raise rent income, hence the interest can be claimed against tax.  The final objective is to repay the mortgage bonds in four years. How much money must be drawn from the different mortgage bonds to raise the new money for the lowest total cost? To repay all three bonds in the required time, how much additional payment must be made in each mortgage bond?\n",
    "\n",
    "This is a classical minimisation problem, which can be solved by many different techniques.  The present calculation manually allocated the required 'new' funds to the two existing bonds up to the limit these bonds can supply.\n",
    "\n",
    "The parameters for the three properties are shown in the dictionary below.  The principal amount for property PropertyV is made equal to 0 in order to make the functions work, but essentially is zero, hence also with zero interest costs."
   ]
  },
  {
   "cell_type": "code",
   "execution_count": null,
   "metadata": {},
   "outputs": [],
   "source": [
    "\n",
    "sources = {\n",
    "'PropertyK':{'principal':950000, 'interest_rate':0.0915,'rentpmonth':11395,'agentPcnt':0.12,'levy':0,'ratesnt':837,} ,   \n",
    "'PropertyB':{'principal':610000, 'interest_rate':0.097,'rentpmonth':6500,'agentPcnt':0.09,'levy':983,'ratesnt':653,} ,   \n",
    "'PropertyV':{'principal':1, 'interest_rate':0.001,'rentpmonth':7000,'agentPcnt':0.09,'levy':585,'ratesnt':650,}    \n",
    "}\n",
    "\n",
    "bondyears = 4\n",
    "calcyears = 4\n",
    "rentpermonthInc = 0.06\n",
    "maintPcnt = 0.03\n",
    "riskPcnts = 0.02\n",
    "levyInc = 0.06\n",
    "ratesntInc = 0.06\n",
    "taxs = [0.2, 0.33, 0.42]\n",
    "taxselect = 1\n",
    "\n",
    "dfSum = pd.DataFrame()\n",
    "df = pd.DataFrame()\n",
    "\n",
    "for i,key in enumerate(sources.keys()):\n",
    "    s = sources[key]\n",
    "    for taxrate in taxs:\n",
    "        dfc,istats = rentalProperty(principal=s['principal'],interest_rate=s['interest_rate'],\n",
    "                bondyears=bondyears,calcyears=calcyears,rentpmonth=s['rentpmonth'],rentpermonthInc=rentpermonthInc,\n",
    "                agentPcnt=s['agentPcnt'],levy=s['levy'],ratesnt=s['ratesnt'],levyInc=levyInc,\n",
    "                ratesntInc=ratesntInc,maintPcnt=maintPcnt,taxrate=taxrate,riskPcnt=riskPcnt,doplot=False,\n",
    "                ID=key)\n",
    "        \n",
    "        df = df.append(dfc,sort=True)\n",
    "        dfSum = dfSum.append(istats,ignore_index=True)"
   ]
  },
  {
   "cell_type": "code",
   "execution_count": null,
   "metadata": {},
   "outputs": [],
   "source": [
    "dfs = df.loc[(df['Principal'] == sources['PropertyK']['principal']) & (df['TaxRate'] == taxs[taxselect])]\n",
    "plotrentalpropcashflowtimeline(dfs)"
   ]
  },
  {
   "cell_type": "code",
   "execution_count": null,
   "metadata": {},
   "outputs": [],
   "source": [
    "dfs = df.loc[(df['Principal'] == sources['PropertyB']['principal']) & (df['TaxRate'] == taxs[taxselect])]\n",
    "plotrentalpropcashflowtimeline(dfs)"
   ]
  },
  {
   "cell_type": "code",
   "execution_count": null,
   "metadata": {},
   "outputs": [],
   "source": [
    "dfs = df.loc[(df['Principal'] == sources['PropertyV']['principal']) & (df['TaxRate'] == taxs[taxselect])]\n",
    "plotrentalpropcashflowtimeline(dfs)"
   ]
  },
  {
   "cell_type": "code",
   "execution_count": null,
   "metadata": {},
   "outputs": [],
   "source": [
    "\n",
    "#calculate the sum of all cash flow values available for each month\n",
    "# do this for one value of tax rate\n",
    "dfsum = pd.pivot_table(df.loc[df['TaxRate'] == taxs[taxselect]], \n",
    "                             index=['Month'],values=['CashFlow'],aggfunc=np.sum)\n",
    "dfsum.reset_index(level=0, inplace=True)\n",
    "\n",
    "display(HTML(dfsum.head().to_html(index=True)))\n",
    "\n",
    "figsize(12,8)\n",
    "fig, axes = plt.subplots(nrows=1, ncols=1)\n",
    "dfsum.plot(x='Month',y='CashFlow',  ax=axes)    \n",
    "axes.set_ylabel(\"Payment\");\n",
    "axes.set_title(\"Total payment required on the two bonded loans\");"
   ]
  },
  {
   "cell_type": "markdown",
   "metadata": {},
   "source": [
    "## Investment Growth"
   ]
  },
  {
   "cell_type": "code",
   "execution_count": null,
   "metadata": {},
   "outputs": [],
   "source": [
    "def investmentgrowth(initialvalue, growthrate, termyears, addpayment=0, addpaymentrate=0, \n",
    "                     costBalPcnt=0, start_date=(date(2000,1,1)), cyclesPerAnnum=12,ID=''):\n",
    "    \"\"\"\n",
    "    Calculate the amortization schedule given the loan details.\n",
    "\n",
    "    :param initialvalue: Initial value paid into the investment\n",
    "    :param growthrate: The annual growth rate for this investment\n",
    "    :param termyears: Number of years for the investment\n",
    "    :param addpayment: Additional investment amount per period\n",
    "    :param addpaymentrate: growth in the additional investment compounded annually \n",
    "    :param costBalPcnt: managment cost as percentage on balance\n",
    "    :param start_date: Start date for the loan.\n",
    "    :param cyclesPerAnnum: Number of investment payment cycles in a year.\n",
    "    :param ID: String ID for this calculation.\n",
    "\n",
    "    :return: \n",
    "        schedule: investment schedule as an Ordered Dictionary\n",
    "    \"\"\"\n",
    "\n",
    "    # initialize the variables to keep track of the periods and running balances\n",
    "    p = 1\n",
    "    beg_balance = initialvalue\n",
    "    end_balance = initialvalue\n",
    "    currentyear = start_date.year\n",
    "\n",
    "    while p < termyears * cyclesPerAnnum:\n",
    "        \n",
    "        # Recalculate the growth based on the current balance\n",
    "        growth = - beg_balance * growthrate / cyclesPerAnnum\n",
    "        \n",
    "        # cost on balance\n",
    "        costBal = beg_balance * costBalPcnt / cyclesPerAnnum\n",
    "        \n",
    "        # total costs\n",
    "        costs = costBal\n",
    "        \n",
    "        end_balance = beg_balance - growth + addpayment - costs\n",
    "\n",
    "        yield OrderedDict([('Month',start_date),\n",
    "                           ('Period', p),\n",
    "                           ('Begin Balance', beg_balance),\n",
    "                           ('InitialVal', initialvalue),\n",
    "                           ('GrowthRate', growthrate),\n",
    "                           ('Growth', growth),\n",
    "                           ('AddPayment', addpayment),\n",
    "                           ('AddPayRate', addpaymentrate),\n",
    "                           ('CostBalance',costBal),\n",
    "                           ('End Balance', end_balance),\n",
    "                           ('ID', ID),\n",
    "                          ])\n",
    "        \n",
    "        # Increment the counter, balance and date\n",
    "        p += 1\n",
    "        if cyclesPerAnnum == 12:\n",
    "            start_date += relativedelta(months=1)\n",
    "        elif  cyclesPerAnnum == 365.25:\n",
    "            start_date += relativedelta(days=1)\n",
    "        else:\n",
    "            print(f'Unknown cyclesPerAnnum = {cyclesPerAnnum}')\n",
    "            return None\n",
    "        beg_balance = end_balance\n",
    "        \n",
    "        # only increase the additional payment once per year\n",
    "        if start_date.year != currentyear:\n",
    "            currentyear = start_date.year\n",
    "            addpayment *= 1 + addpaymentrate"
   ]
  },
  {
   "cell_type": "code",
   "execution_count": null,
   "metadata": {},
   "outputs": [],
   "source": [
    "def investment_table(initialvalue, growthrate, termyears, addpayment=0, addpaymentrate=0, costBalPcnt=0,\n",
    "                     start_date=(date(2000,1,1)), cyclesPerAnnum=12,ID=''):\n",
    "    \"\"\"\n",
    "    Calculate the amortization schedule given the loan details as well as summary stats for the loan\n",
    "\n",
    "    :param initialvalue: Initial value paid into the investment\n",
    "    :param growthrate: The annual growth rate for this investment\n",
    "    :param termyears: Number of years for the investment\n",
    "    :param addpayment: Additional investment amount per period\n",
    "    :param addpaymentrate: growth in the additional investment compounded annually \n",
    "    :param costBalPcnt: managment cost as percentage on balance\n",
    "    :param start_date: Start date for the loan.\n",
    "    :param cyclesPerAnnum: Number of investment payments in a year.\n",
    "    :param ID: String ID for this calculation.\n",
    "\n",
    "    :return: \n",
    "        schedule: investment schedule as a pandas dataframe\n",
    "        summary: Pandas dataframe that summarizes the investment\n",
    "    \"\"\"\n",
    "    \n",
    "    # Generate the schedule \n",
    "    schedule = pd.DataFrame(investmentgrowth(initialvalue=initialvalue, growthrate=growthrate, \n",
    "                                termyears=termyears,addpayment=addpayment, addpaymentrate=addpaymentrate, \n",
    "                                             costBalPcnt=costBalPcnt,start_date=start_date, \n",
    "                                             cyclesPerAnnum=cyclesPerAnnum,ID=ID))\n",
    "    \n",
    "    # reorder the columns\n",
    "    schedule = schedule[['Period','Month','Begin Balance','InitialVal','GrowthRate','Growth',\n",
    "                         'AddPayment','AddPayRate','End Balance','ID']]\n",
    "\n",
    "    # Convert to a pandas datetime object to make subsequent calcs easier\n",
    "    schedule[\"Month\"] = pd.to_datetime(schedule[\"Month\"])\n",
    "    \n",
    "    #Create a summary statistics table\n",
    "    endBalance = schedule.iloc[-1][\"End Balance\"]\n",
    "    stats = pd.Series([ID,initialvalue,growthrate,\n",
    "                       termyears,addpayment,addpaymentrate,\n",
    "                       endBalance,costBalPcnt],\n",
    "                       index=['ID','InitialVal','GrowthRate',\n",
    "                              'Years','AddPayment','AddPayRate',\n",
    "                              'EndBalance','CostBalPcnt'])\n",
    "    \n",
    "    return schedule, stats"
   ]
  },
  {
   "cell_type": "markdown",
   "metadata": {},
   "source": [
    "### The True Cost of Commission on Value of Investments\n",
    "\n",
    "From \n",
    "https://www.coronation.com/personal/new-investor/about-unit-trusts/:  \n",
    "\"A unit trust (also known as a ‘fund’) pools money from many investors to invest in assets like shares, bonds and property. Instead of having to pick individual investments yourself, a unit trust offers you exposure to a range of assets, which are selected and managed by investment professionals. Each fund is divided into equal units. The price of each of these units is based on the value of all the investments in the fund. As an investor, you own a number of units in a fund. Over time, the price of these units will track the value of the underlying investments. \n",
    "Coronation does not charge any initial or upfront fees to invest in our unit trust funds. Your full investment amount is invested to purchase units. Our unit trusts charge an annual management fee which is calculated daily. Certain funds may charge a performance fee which is accrued daily and paid monthly for all funds, except the Coronation Optimum Growth fund which is paid annually on 30 September. For more information, please view our Fee Schedule in the forms section on Coronation.co.za. \"\n",
    "The Coronation schedule lists fees of 0.85% to 1.25%, and in some funds even 3% (Domestic long term Top 20). Other fund managers have similar fees.\n",
    "\n",
    "When comparing these fees to the investment value, the term Total Expense Ratio (TER) is often used.\n",
    "From <https://www.investopedia.com/terms/t/ter.asp>  \n",
    "\"The total expense ratio (TER) is a measure of the total costs associated with managing and operating an investment fund, such as a mutual fund. These costs consist primarily of management fees and additional expenses, such as trading fees, legal fees, auditor fees and other operational expenses. The total cost of the fund is divided by the fund's total assets to arrive at a percentage amount, which represents the TER. TER is also known as the 'net expense ratio' or 'after reimbursement expense ratio'.\"\n",
    "\n",
    "\n",
    "The fund manager takes this fee on a daily basis (compounded) irrespective of the performance of the investment. The investment grows slower because of the investment commission. If the investment is not growing positively, the investment loses money at these daily compounded rates. "
   ]
  },
  {
   "cell_type": "markdown",
   "metadata": {},
   "source": [
    "Consider the effect of a percentage cost on the value of an investment to the long term value.\n",
    "The scenarios considered here are for an initial investment followed by either no further investment or a fixed monthly investment.\n",
    "Different values for management commission are considered where zero commission is the baseline for best possible growth."
   ]
  },
  {
   "cell_type": "code",
   "execution_count": null,
   "metadata": {},
   "outputs": [],
   "source": [
    "initialvalue = 1000\n",
    "growthrate = 0.06\n",
    "termyears = 30\n",
    "addpayments = [0,100]\n",
    "addpaymentrate = 0.\n",
    "costBalPcnts = [0.0, 0.01, 0.015, 0.02, 0.03]\n",
    "cyclesPerAnnum = 12\n",
    "\n",
    "dfSum = pd.DataFrame()\n",
    "\n",
    "for addpayment in addpayments:\n",
    "    for costBalPcnt in costBalPcnts:\n",
    "        schedule, stats = investment_table(initialvalue, growthrate, termyears, addpayment=addpayment, \n",
    "                                   addpaymentrate=addpaymentrate,costBalPcnt=costBalPcnt,ID='',\n",
    "                                  cyclesPerAnnum=cyclesPerAnnum)\n",
    "        \n",
    "        # append all summaries into single df\n",
    "        dfSum = dfSum.append(stats,ignore_index=True)\n"
   ]
  },
  {
   "cell_type": "code",
   "execution_count": null,
   "metadata": {},
   "outputs": [],
   "source": [
    "pd.pivot_table(dfSum, index=['CostBalPcnt'],values=['EndBalance'],columns=['AddPayment'])"
   ]
  },
  {
   "cell_type": "markdown",
   "metadata": {},
   "source": [
    "Normalise the fund value by the scenario where there is zero costs. When the investment is measured against this baseline, the true cost of the commission becomes apparent."
   ]
  },
  {
   "cell_type": "code",
   "execution_count": null,
   "metadata": {},
   "outputs": [],
   "source": [
    "# calculate a normalised end balance for the different scenarios\n",
    "dfSum['EndBalanceN'] = np.nan\n",
    "AddPaymentU = dfSum['AddPayment'].unique()\n",
    "for addpayment in addpayments:\n",
    "    normval = dfSum.loc[(dfSum['CostBalPcnt'] == 0) & (dfSum['AddPayment'] == addpayment)]['EndBalance'].values[0]\n",
    "    dfSum.loc[dfSum['AddPayment'] == addpayment,'EndBalanceN'] = (dfSum.loc[dfSum['AddPayment'] == addpayment,'EndBalance'])/normval\n"
   ]
  },
  {
   "cell_type": "code",
   "execution_count": null,
   "metadata": {},
   "outputs": [],
   "source": [
    "pd.pivot_table(dfSum, index=['CostBalPcnt'],values=['EndBalanceN'],columns=['AddPayment'])"
   ]
  },
  {
   "cell_type": "markdown",
   "metadata": {},
   "source": [
    "The table says the following:\n",
    "    \n",
    "1. If a lump sum only is invested with no future payments:\n",
    "    1. a commission of 1% consumes 25% of the total investment value.\n",
    "    1. a commission of 2% consumes 45% of the total investment value.\n",
    "    1. a commission of 3% consumes 60% of the total investment value.\n",
    "\n",
    "\n",
    "1. If a lump sum only is invested followed up with monthly future payments:\n",
    "    1. a commission of 1% consumes 18% of the total investment value.\n",
    "    1. a commission of 2% consumes 32% of the total investment value.\n",
    "    1. a commission of 3% consumes 43% of the total investment value.\n"
   ]
  },
  {
   "cell_type": "markdown",
   "metadata": {},
   "source": [
    "----------------------------------------------"
   ]
  },
  {
   "cell_type": "markdown",
   "metadata": {},
   "source": [
    "## Retirement Fund Depletion"
   ]
  },
  {
   "cell_type": "markdown",
   "metadata": {},
   "source": [
    "A key question when it comes to retirement, is 'how long will the money last?'\n",
    "The answer to this question depends on very many factors including predictable and unpredictable factors\n",
    "Unpredictable factors include new investment opportunities and risks such as ill health, market crashes and crime. The answer also depends somewhat on (uncontrollable) factors that can be estimated or at least modelled by making reasonable assumptions.  These factors include investment growth and inflation, which we can use in models to predict outcomes, given the occurrence of these factors.  These assumptions can be long term averages (assuming stationary conditions) or can be variable on the time line, our modelling must just be able to handle these assumptions.\n",
    "\n",
    "### Four Percent Rule\n",
    "\n",
    "Fund managers currently advise that you do not with draw more than 4% to 5% per year of your total investment portfolio, in order to outlive your retirement funds. This is known as the [four percent rule](https://www.investopedia.com/terms/f/four-percent-rule.asp). This means that if you saved 1000k, the annual withdrawal should not be more than 40k to 50k. Put differently, you need a portfolio of 25 to 20 times your required annual pension. If you want to retire with 1m per year, you need a portfolio of 25m.\n",
    "The purpose with this analysis is to confirm this advice and to determine the assumptions made in this general advice.\n",
    "\n",
    "The [four percent rule](https://www.investopedia.com/terms/f/four-percent-rule.asp) aims to ensure that you do not run out of money during requirement.  The idea is that investment growth will normally be sufficient to cover a four percent withdrawal from the investments per annum.  This rule is based on 50-year data prior to the mid 1970's in the US\n",
    "\n",
    "This rule is not always valid for all people.  As people grow older or require more medical care the the four percent withdrawal may not sustain until death. If the person has high risk investments too high a withdrawal rate (even four percent) may pose a risk in later years.  Occasional high spending may also erode the investment to prevent long term returns.\n",
    "\n",
    "The analysis below provides some insight into the role of percentage withdrawals on the sustainability of long term retirement.\n",
    "\n",
    "### Time value of money\n",
    "\n",
    "Inflation and investment have the effect of predicting very large numbers in the longer term.  These large numbers are difficult to interpret from the present; we loose the 'feel' of what money really is worth.\n",
    "\n",
    "Suppose it is possible to freeze the time value of money, to always retain a constant buying power.  With the time value of money frozen, we can evaluate the value of asset growth and costs in a manner decoupled from the erosion effect of inflation: we evaluate the investment or cost in terms of  true buying power.  The money value would always have constant buying power irrespective of time into the future.\n",
    "\n",
    "The underlying principle used here is similar to the financial tool called Discounted Cash Flow (DCF) except that the target calculation here is to determine the time when the investment will be depleted given constant monthly withdrawal that probably exceeds the monthly growth, eating away into the investment capital.\n",
    "\n",
    "Freezing the time value of money is readily done by considering any costs or growth relative to the inflation rate. Simply subtract the inflation rate from investment growth and from cost growth.  \n",
    "If the inflation rate is 6% and an investment realises 8% growth after tax and costs, the real growth (corrected for inflation) is 2%. If medical inflation rises by 9% in a 6% inflation economy, it means that in real terms the medical costs increases by 3% per year.  Hence the effect of inflation on time value of money can be removed by considering all costs and growth relative to inflation: just subtract inflation rate.\n",
    "\n",
    "### Retirement fund depletion: simple model, assuming stationary markets\n",
    "\n",
    "In the (simple) initial study shown below, long term average values are used (constant over the full term duration).  This is quite limiting in that long average are not good predictors, but at least it gives us an idea of what could happen under stationary conditions.  However, there is sufficient evidence that investment returns are not stationary, not even in the longer term. For this purpose a more representative model using actual market movements and Monte Carlo simulations will be developed later.\n",
    "\n",
    "Of course, this a a very simple model, assuming stationary conditions (other than inflation).\n",
    "A more advanced model can have time varying inflation, cost, and investment growth, but the underlying principle would still remain: subtract the inflation rate from the cost and investment growth rates."
   ]
  },
  {
   "cell_type": "markdown",
   "metadata": {},
   "source": [
    "#### Simple model calculation approach\n",
    "\n",
    "Many years ago I modelled a very simple retirement fund depletion model in an Excel [spreadsheet](https://github.com/NelisW/RetirementPlanning/blob/master/Retirement%20Planning.xls) and now will expand on that model in Python/Pandas. The model is as follows:\n",
    "\n",
    "1. Start with an initial investment value, a single number of the investment portfolio total value.\n",
    "\n",
    "1. Iterate on a monthly interval and repeat the following calculation:\n",
    "\n",
    "    1. Withdraw money from the portfolio (pension to live from, medical costs, etc.). \n",
    "\n",
    "    1. Allow the withdrawal amount to rise in the next month by a percentage equal to the actual rise percentage minus the inflation percentage. In other words, allow the withdrawal to rise in real terms, corrected for inflation.  We allow this growth to assure that medical inflation will be covered (medical inflation is generally higher than cost of living inflation).\n",
    "\n",
    "    1. Add a portfolio investment growth amount as expected % growth minus % inflation for the month. In other words add the real growth, corrected for inflation.\n",
    "\n",
    "1. Repeat month by month, until the money runs out.\n",
    "\n",
    "This model is really simple with several failings:\n",
    "\n",
    "1. Inflation and investment growth are not stationary and often vary in contrary motion.\n",
    "\n",
    "2. Different investment classes perform differently, with different risks and different cycles. To simplify growth in into a single number is a gross simplification of the real situation.\n",
    "\n",
    "\n",
    "\n"
   ]
  },
  {
   "cell_type": "markdown",
   "metadata": {},
   "source": [
    "The calculation procedure are similar to the amoritisation, using a generator function to iterate until the investment is depleted or `maxyears` are reached."
   ]
  },
  {
   "cell_type": "code",
   "execution_count": null,
   "metadata": {},
   "outputs": [],
   "source": [
    "def investmovement(initialsum, growthrate, withdrawal, withdrawalrate, \n",
    "                    start_date=(date(2000,1,1)), cyclesPerAnnum=12,ID='',maxyears=55):\n",
    "    \"\"\"\n",
    "    Calculate the retirement investment schedule given the growth and withdrawal rates.\n",
    "\n",
    "    All rates are real rates, corrected for inflation\n",
    "\n",
    "    :param  initialsum:  total portfolio must be positive\n",
    "    :param  growthrate:  rate at which investment grows\n",
    "    :param  withdrawal:  monthly withdrawal at start of retirement\n",
    "    :param  withdrawalrate:  annual rate of increase in withdrawal\n",
    "    :param  start_date:  retirement date\n",
    "    :param  cyclesPerAnnum: normally 12 months per year\n",
    "    :param  ID: identification for this calculation\n",
    "    :param  maxyears: terminate the run after so many years\n",
    "\n",
    "    :return: \n",
    "        schedule: retirement investment schedule as an Ordered Dictionary\n",
    "    \"\"\"\n",
    "\n",
    "    # initialize the variables to keep track of the periods and running balances\n",
    "    p = 1\n",
    "    beg_balance = initialsum\n",
    "    end_balance = initialsum\n",
    "    currentyear = start_date.year\n",
    "\n",
    "    while end_balance < 0 and p <maxyears * cyclesPerAnnum + 2:\n",
    "        \n",
    "        # withdraw money at the beginning of month\n",
    "        if beg_balance > withdrawal:\n",
    "            withdrawal = beg_balance\n",
    "            \n",
    "        beg_balance = beg_balance - withdrawal \n",
    "\n",
    "        # Recalculate the growth based on the current balance\n",
    "        growth =  (growthrate/cyclesPerAnnum) * beg_balance\n",
    "        end_balance = beg_balance + growth\n",
    "        \n",
    "        if np.abs(end_balance) < 1:\n",
    "            end_balance = 0\n",
    "\n",
    "        yield OrderedDict([('Month',start_date),\n",
    "                           ('Period', p),\n",
    "                           ('BeginBalance', beg_balance),\n",
    "                           ('EndBalance', end_balance),\n",
    "                           ('Initialsum', initialsum),\n",
    "                           ('Growth', growth),\n",
    "                           ('GrowthRate', growthrate),\n",
    "                           ('WithdrawalRate', withdrawalrate),\n",
    "                           ('Withdrawal', withdrawal),\n",
    "                           ('ID', ID),\n",
    "                          ])\n",
    "        \n",
    "\n",
    "        # Increment the counter, balance and date\n",
    "        p += 1\n",
    "        \n",
    "        if cyclesPerAnnum == 12:\n",
    "            start_date += relativedelta(months=1)\n",
    "        elif  cyclesPerAnnum == 365.25:\n",
    "            start_date += relativedelta(days=1)\n",
    "        else:\n",
    "            print(f'Unknown cyclesPerAnnum = {cyclesPerAnnum}')\n",
    "            return None\n",
    "\n",
    "        beg_balance = end_balance\n",
    "        \n",
    "        # only increase the withdrawal payment once per year\n",
    "        if start_date.year != currentyear:\n",
    "            currentyear = start_date.year\n",
    "            withdrawal *= 1 + withdrawalrate\n",
    "\n",
    "\n",
    "def investmovement_table(scenario,initialsum, growthrate, withdrawal, withdrawalrate, retire_age=65,\n",
    "                    start_date=(date(2000,1,1)), cyclesPerAnnum=12,ID='',maxyears=55):\n",
    "    \"\"\"\n",
    "    Calculate the retirement investment schedule given the investment and withdrawal details\n",
    "\n",
    "    :param  scenario:  string identifier\n",
    "    :param  initialsum:  total portfolio must be positive\n",
    "    :param  growthrate:  rate at which investment grows\n",
    "    :param  withdrawal:  monthly withdrawal at start of retirement\n",
    "    :param  withdrawalrate:  annual rate of increase in withdrawal\n",
    "    :param  retire_age:  age at the start of fund depletion\n",
    "    :param  start_date:  retirement date\n",
    "    :param  cyclesPerAnnum: normally 12 months per year\n",
    "    :param  ID: identification for this calculation\n",
    "    :param  maxyears: terminate the run after so many years\n",
    "\n",
    "    :return: \n",
    "        schedule: investment schedule as a pandas dataframe\n",
    "        summary: Pandas dataframe that summarizes the payoff information\n",
    "    \"\"\"\n",
    "    \n",
    "    # Generate the schedule \n",
    "    schedule = pd.DataFrame(investmovement(initialsum, growthrate, withdrawal, withdrawalrate,\n",
    "                                           start_date=start_date,ID=ID,maxyears=maxyears))\n",
    "    if schedule.empty:\n",
    "        stats = pd.Series([scenario,0,0,initialsum,0,growthrate,withdrawalrate,withdrawal,ID],\n",
    "                   index=['Scenario','Duration','Age@End','Initialsum','EndBalance','GrowthRate','WithdrawalRate','Withdrawal','ID'])\n",
    "        return None, stats\n",
    "\n",
    "    # reorder the columns\n",
    "    # schedule = schedule[['Month','Period','BeginBalance','Initialsum','GrowthRate','WithdrawalRate','Withdrawal','ID']]\n",
    "    \n",
    "    # Convert to a pandas datetime object to make subsequent calcs easier\n",
    "    schedule[\"Month\"] = pd.to_datetime(schedule[\"Month\"])\n",
    "    \n",
    "    endbalance = schedule[\"EndBalance\"].iloc[-1]\n",
    "    final_date = schedule[\"Month\"].iloc[-1]\n",
    "    final_withdraw = min(schedule[\"Withdrawal\"].iloc[-1],schedule[\"Withdrawal\"].iloc[-2])\n",
    "    duration = ((final_date - pd.to_datetime(start_date))/(12 * np.timedelta64(1, 'M')))\n",
    "    age_end = retire_age + duration\n",
    "    #Create a summary statistics table\n",
    "    stats = pd.Series([scenario,duration,age_end,initialsum,endbalance,growthrate,withdrawalrate,withdrawal,final_withdraw,ID],\n",
    "                       index=['Scenario','Duration','Age@End','Initialsum','EndBalance','GrowthRate','WithdrawalRate','Withdrawal','WithdrawalFinal','ID'])\n",
    "    \n",
    "    return schedule, stats\n",
    "\n",
    "if False:\n",
    "    initialsum = -1000000\n",
    "    growthrate = +.01\n",
    "    withdrawalrate = +.01\n",
    "    withdrawal = -3333\n",
    "    retire_age=65\n",
    "    scenario = 'Test'\n",
    "    maxyears = 30\n",
    "    df, stats = investmovement_table(scenario=scenario,initialsum=initialsum, growthrate=growthrate,\n",
    "                 withdrawal=withdrawal, withdrawalrate=withdrawalrate,retire_age=retire_age,ID='',maxyears=maxyears)\n",
    "\n",
    "    print(df.head(20))\n",
    "    print(df.tail(20))\n",
    "    print(stats)"
   ]
  },
  {
   "cell_type": "markdown",
   "metadata": {},
   "source": [
    "Evaluate a number of scenarios with different investment growth rate and withdrawal growth rate.  Remember that these rates are relative to inflation. The withdrawal growth rate could well be above cost of living inflation, because of medical inflation that increases at old age.  Some advisors estimate medical inflation to be as high as 3% to 5% above inflation.  The present calculation does not provide for medical expense as a separate cost item, it must be factored into the withdrawal growth.\n",
    "\n",
    "The set of scenarios evaluated next are the same as in my previous spreadsheet, serving as a reference against the previous baseline."
   ]
  },
  {
   "cell_type": "code",
   "execution_count": null,
   "metadata": {},
   "outputs": [],
   "source": [
    "def stationaryretirementdepletion(initialsum,retire_age,scenarios,annualwithdrawals,maxyears=55):\n",
    "\n",
    "    dfa = pd.DataFrame()\n",
    "    dfSum = pd.DataFrame()\n",
    "\n",
    "    for annualwithdrawal in  annualwithdrawals:\n",
    "        withdrawal = initialsum * annualwithdrawal / 12\n",
    "\n",
    "        for scenario in scenarios:\n",
    "            growthrate = scenarios[scenario]['growthrate']\n",
    "            withdrawalrate = scenarios[scenario]['withdrawalrate']\n",
    "\n",
    "            df, stats = investmovement_table(scenario=scenario,initialsum=initialsum, growthrate=growthrate,\n",
    "                     withdrawal=withdrawal, withdrawalrate=withdrawalrate,retire_age=retire_age,ID='',maxyears=maxyears)\n",
    "\n",
    "            dfa = dfa.append(df)\n",
    "\n",
    "           # append all summaries into single df\n",
    "            dfSum = dfSum.append(stats,ignore_index=True)\n",
    "\n",
    "    dfSum['Ratio'] = dfSum['Initialsum']/(12 * dfSum['Withdrawal'])\n",
    "    dfSum['Withdrawal0'] = 1 / dfSum['Ratio']\n",
    "    \n",
    "    newbalancename = f'End balance as percentage of initial after {maxyears} years'\n",
    "    dfSum[newbalancename] = dfSum['EndBalance']\n",
    "    \n",
    "    newagename = f'Age at funds depleted or {maxyears} years, retirement at {retire_age}'\n",
    "    dfSum[newagename] = dfSum['Age@End']\n",
    "    \n",
    "    newdurationname = f'Duration till funds depletion or {maxyears} years'\n",
    "    dfSum[newdurationname] = dfSum['Duration']\n",
    "    \n",
    "    withdrawalfinalname = f'Withdrawal in final year of funds depletion or {maxyears} years as a percentage of initial investment'\n",
    "    dfSum[withdrawalfinalname] = dfSum['WithdrawalFinal'] * 12 / initialsum\n",
    "    \n",
    "    dfAgeEnd = pd.pivot_table(dfSum, index=['Withdrawal0','Ratio'],values=[newagename],columns=['Scenario'])\n",
    "    dfDuration = pd.pivot_table(dfSum, index=['Withdrawal0','Ratio'],values=[newdurationname],columns=['Scenario'])\n",
    "    dfMoneyLeft = pd.pivot_table(dfSum, index=['Withdrawal0','Ratio'],values=[newbalancename],columns=['Scenario']) * 100 /  initialsum  \n",
    "    dfFinWithDr = pd.pivot_table(dfSum, index=['Withdrawal0','Ratio'],values=[withdrawalfinalname],columns=['Scenario'])  \n",
    "\n",
    "    return dfSum,dfAgeEnd,dfDuration,dfMoneyLeft,dfFinWithDr,newbalancename,newagename,newdurationname,withdrawalfinalname"
   ]
  },
  {
   "cell_type": "code",
   "execution_count": null,
   "metadata": {},
   "outputs": [],
   "source": [
    "initialsum = -1000000\n",
    "retire_age = 65\n",
    "maxyears = 30\n",
    "\n",
    "scenarios = {\n",
    "    'g-0.02, w0.00':{'growthrate':-0.02, 'withdrawalrate':0.00},\n",
    "    'g-0.02, w0.01':{'growthrate':-0.02, 'withdrawalrate':0.01},\n",
    "    'g0.00, w0.00':{'growthrate':0.00, 'withdrawalrate':0.00},\n",
    "    'g0.00, w0.01':{'growthrate':0.00, 'withdrawalrate':0.01},\n",
    "    'g0.00, w0.02':{'growthrate':0.00, 'withdrawalrate':0.02},\n",
    "    'g0.00, w0.04':{'growthrate':0.00, 'withdrawalrate':0.04},\n",
    "    'g0.02, w0.00':{'growthrate':0.02, 'withdrawalrate':0.00},\n",
    "    'g0.02, w0.01':{'growthrate':0.02, 'withdrawalrate':0.01},\n",
    "    'g0.02, w0.02':{'growthrate':0.02, 'withdrawalrate':0.02},\n",
    "#     'g0.04, w0.0':{'growthrate':0.04, 'withdrawalrate':0.00},\n",
    "#     'g0.10, w0.0':{'growthrate':0.10, 'withdrawalrate':0.00},\n",
    "#     'g0.04, w0.04':{'growthrate':0.04, 'withdrawalrate':0.04},\n",
    "}\n",
    "\n",
    "annualwithdrawals = [0.025, 0.03, 0.04,0.045,0.05,0.06,0.07,0.09,0.12,0.175]\n",
    "\n",
    "dfSum,dfAgeEnd,dfDuration,dfMoneyLeft,dfFinWithDr,newbalancename,newagename,newdurationname,withdrawalfinalname\\\n",
    "        = stationaryretirementdepletion(initialsum,retire_age,scenarios,annualwithdrawals,maxyears=maxyears)"
   ]
  },
  {
   "cell_type": "markdown",
   "metadata": {},
   "source": [
    "In the tables shown below each row represents a different initial withdrawal percentage (i.e., the 'four percent rule') expressed as a percentage of total investment and also as the ratio of investment sum to initial withdrawal.\n",
    "\n",
    "Retiring at age 65, the money will run out at the ages shown in the table below.\n",
    "If you want to retire at age 65, with life expectancy in the table, you need Ratio times the initial annual pension at 65.\n",
    "So, retiring at age 65, with a pension of 1m/year, if you have 25m, it will last until age 85-90, depending on growth and withdrawals.\n",
    "How long the money will last depends on the relative growth of investments vs increasing costs such as medical and other age-related expenses.\n",
    "Medical costs typically grow 3-4% above inflation. However, assuming that some other costs grow less, we can work with a somewhat smaller average cost growth. So your investments must beat medical by at least, say, 2%.\n",
    "\n",
    "The following are not included in the calculation:\n",
    "\n",
    "1. Taxes on investment and personal income tax are not accounted for in these calculations.\n",
    "\n",
    "1. Costs on investments such as broker fees, agent fees and fund manager fees.\n",
    "\n",
    "1. Variations in market growth and inflation, for this calculation these are assumed constant.  It is assumed that market growth and withdrawal growth follows/tracks inflation and that they all move up or down together. This is not the case, because when inflation and investment growth tends to move antithetical.\n",
    "\n",
    "Explanation of the tables below:\n",
    "\n",
    "1. The rows downward shows the initial annual withdrawal (Withdrawal0) in the first year (start of pension) as percentage of total investment amount. This annual withdrawal amount expressed as an amount will then increase at the percentage rate 'w' shown in the various columns.  In other words the pension withdrawal is allowed to grow at some rate relative to inflation.  The value in the Ratio column is the ratio of total investment to the first year's (start of pension) annual withdrawal.\n",
    "\n",
    "1. In the table headings below there are two numbers 'g0.00. w0.00' the 'g' number is annual percentage investment growth (after cost) above inflation and the 'w' number is the annual percentage withdrawal growth above inflation (to account for medical inflation). \n",
    "\n",
    "1. The *first row* is the 'Four percent rule' which means that in the first year of pension 4% or 1/25 of the total investment is withdrawn.  It is clear that if there is zero growth above inflation, and the withdrawal is kept constant at the same percentage (above inflation), the investment should last until the age of 90 (about 25 years).  On the other hand, with a 4% growth above inflation and constant withdrawal rate, the money should last more than 55 years (the simulation terminates at 55 years).\n",
    "\n",
    "\n",
    "1. The *first column* `g0.00, w0.00` represents the scenario with zero annual growth (above inflation) and zero annual withdrawal increase (above inflation). The column shows that as the initial withdrawal increases from the minimum 2.5% to the maximum 17.5% allowed in South Africa, the pension duration shrinks from thirty years to just five and half years!\n"
   ]
  },
  {
   "cell_type": "code",
   "execution_count": null,
   "metadata": {},
   "outputs": [],
   "source": [
    "display(HTML(dfAgeEnd.to_html()))"
   ]
  },
  {
   "cell_type": "markdown",
   "metadata": {},
   "source": [
    "The graph below shows the same information (the age where the funds are depleted) versus the (ratio of assets at retirement to annual income during retirement).\n",
    "\n",
    "These graphs apply to a retirement age of 65 years.  It is much worse for forced retirement at an earlier age.\n",
    "The various lines show growth in medical expenses and in the remaining assets, in real terms (i.e. relative to inflation).\n",
    "Life expectancy for professional people with a healthy lifestyle currently is 92 years --- almost 30 years after retirement.\n",
    "For the above life expectancy one requires total assets between 20 and 25 times your annual withdrawal at retirement.\n",
    "\n",
    "For example, to survive till the age 92, with 1% growth in medical expense, and 2% net growth in invested assets, \n",
    "and to support an equivalent annual withdrawal of 100 000 at retirement, you require 25 times or 2,5m in assets.\n",
    "\n",
    "For a ratio of 22, it is evident that your funds will be depleted 5 years later, if the real growth is 2% instead of 0% (for medical of 1%)."
   ]
  },
  {
   "cell_type": "code",
   "execution_count": null,
   "metadata": {},
   "outputs": [],
   "source": [
    " \n",
    "figsize(16,8)\n",
    "fig, axes = plt.subplots(nrows=1, ncols=2)\n",
    "for scenario in scenarios:\n",
    "    dfSum[dfSum['Scenario']==scenario].plot(x='Withdrawal0',y='Age@End', label=scenario, ax=axes[0])    \n",
    "    dfSum[dfSum['Scenario']==scenario].plot(x='Ratio',y='Age@End', label=scenario, ax=axes[1])    \n",
    "    \n",
    "for i in [0,1]:\n",
    "    axes[i].set_title(f\"Retirement investment depletion from age 65 or {maxyears} years\");\n",
    "    axes[i].set_ylabel(\"Funds depleted at age\");\n",
    "    axes[i].set_ylim([70,maxyears+retire_age])\n",
    "\n",
    "axes[0].set_xlabel(\"Percentage withdrawal\");\n",
    "axes[1].set_xlabel(\"Asset/Annual ratio\");\n",
    "axes[0].set_xlim([0.04,0.18])\n",
    "axes[1].set_xlim([5,25]);\n"
   ]
  },
  {
   "cell_type": "markdown",
   "metadata": {},
   "source": [
    "If the investment growth is the same as the increase in withdrawal rate"
   ]
  },
  {
   "cell_type": "code",
   "execution_count": null,
   "metadata": {},
   "outputs": [],
   "source": [
    "display(HTML(dfDuration.to_html()))"
   ]
  },
  {
   "cell_type": "markdown",
   "metadata": {},
   "source": [
    "The following table shows the money left in the investment for the different scenarios and the durations shown in the previous table.  In this case the only scenario with reserves is the high growth scenario. In all other cases the funds were depleted at the end of the durations shown above."
   ]
  },
  {
   "cell_type": "code",
   "execution_count": null,
   "metadata": {},
   "outputs": [],
   "source": [
    "display(HTML(dfMoneyLeft.to_html()))"
   ]
  },
  {
   "cell_type": "markdown",
   "metadata": {},
   "source": [
    "### Covering increasing medical or other costs\n",
    "\n",
    "We often think of medical costs only as required to repair illness and disease. This is true in younger years, but in elder years a nominally healthy person also incurs considerable expenses in the form of medication and preventative medical care. As the body breaks down, even in healthy people medical costs rise.\n",
    "Medical cost is a given: in sick people it is the cost of caring and repairing, in nominally healthy people it is the cost of maintaining and preventing. Either way, the cost is there.  The cumulative cost of a nominally healthy person living into the nineties may even exceed the cumulative cost of a sick person that lives for a shorter period.\n",
    "\n",
    "Consider the effect of increased withdrawal during the duration of the pension, assuming fund growth equal to inflation (i.e., zero real growth).\n",
    "The following table shows the final year withdrawal, as multiple of the initial withdrawal during the first year of plan, in real terms.\n",
    "Corrected for inflation, how much more money are you withdrawing in the final year for a given withdrawal growth scenario?\n",
    "\n",
    "In this table, the final withdrawal is taken in the final year when the fund is depleted, or at `maxyears` when the simulation stops.\n",
    "\n",
    "The numbers differ significantly for different initial withdrawal percentages; perhaps not surprisingly, because higher withdrawals result in  shorter durations.  What is important here is that for lower initial withdrawals, there is much more headroom for additional expenses in the longer terms.  At high initial withdrawals, there is very little 'extra' money to fund additional expenses.\n",
    "\n",
    "So the lesson here is: keep the initial withdrawal as low as possible to extend the duration of the pension and to allow for more headroom for additional expenses towards the end."
   ]
  },
  {
   "cell_type": "code",
   "execution_count": null,
   "metadata": {},
   "outputs": [],
   "source": [
    "dfx = dfSum[dfSum['Scenario'].isin(['g0.00, w0.00','g0.00, w0.01','g0.00, w0.02','g0.00, w0.04'])][[\n",
    "    'Withdrawal0','WithdrawalFinal','Scenario','Duration',newagename]]\n",
    "dfxp = pd.pivot_table(dfx, index=['Scenario'],values=['WithdrawalFinal'],columns=['Withdrawal0'])\n",
    "dfxp = dfxp / dfxp.iloc[0]\n",
    "display(HTML(dfxp.to_html()))\n",
    "\n",
    "dfxp = pd.pivot_table(dfx, index=['Scenario'],values=['Duration'],columns=['Withdrawal0'])\n",
    "display(HTML(dfxp.to_html()))\n",
    "\n",
    "dfxp = pd.pivot_table(dfx, index=['Scenario'],values=[newagename],columns=['Withdrawal0'])\n",
    "display(HTML(dfxp.to_html()))\n"
   ]
  },
  {
   "cell_type": "markdown",
   "metadata": {},
   "source": [
    "\n",
    "\n",
    "Assuming that living cost exactly follows inflation, some additional withdrawal increase (over and above inflation) is required to provide more money in real terms to cover increasing medical costs. \n",
    "Suppose that medical costs in the final year equal the basic living cost, you need double the pension income. This is not an unrealistic scenario for a nominally healthy person approaching elderly years requiring regular medical attention.  If fact, this scenario may not even cover the cost of 24-hour care or frail care clinic admission.\n",
    "1.97 x (almost double) the purchasing power in the final year can be obtained from a 4% initial withdrawal, if it grows by 4% (above inflation) annually.\n",
    "However, this 4% growth is not required in the early years, only towards the later years. The present model assumes and implements a fixed rate throughout the duration. A more sophisticated model will follow later.\n",
    "\n",
    "The worrying thing about increasing the withdrawal amount, is that the duration falls from 25 years with no increase in withdrawal, to 17 years  with 4% increase per annum (age 82 for retirement of 65).\n",
    "\n",
    "It seems that to meet rising medical costs, you have to 'overdraw' quite substantially towards later years.\n",
    "Your view may differ on the details of this this conclusion, but considering people close to me, I believe that the plan must make provision to cover medical costs equal to or even exceeding basic cost of living towards the end of life.\n"
   ]
  },
  {
   "cell_type": "markdown",
   "metadata": {},
   "source": [
    "### Effect of market growth\n",
    "\n",
    "Assuming no increase (above inflation) in the withdrawal, consider the effect of investment growth on the plan duration, i.e., when will the money run out?"
   ]
  },
  {
   "cell_type": "code",
   "execution_count": null,
   "metadata": {},
   "outputs": [],
   "source": [
    "initialsum = -1000000\n",
    "retire_age = 65\n",
    "maxyears = 200\n",
    "\n",
    "scenarios = {\n",
    "    'g-0.04, w0.00':{'growthrate':-0.04, 'withdrawalrate':0.00},\n",
    "    'g-0.02, w0.00':{'growthrate':-0.02, 'withdrawalrate':0.00},\n",
    "    'g0.00, w0.00':{'growthrate':0.00, 'withdrawalrate':0.00},\n",
    "    'g0.02, w0.00':{'growthrate':0.02, 'withdrawalrate':0.00},\n",
    "    'g0.04, w0.00':{'growthrate':0.04, 'withdrawalrate':0.00},\n",
    "}\n",
    "growthrates = [i['growthrate'] for i in [scenarios[key] for key in scenarios.keys()]]\n",
    "annualwithdrawals = [0.025, 0.03, 0.04,0.045,0.05,0.06,0.07,0.09,0.12,0.175]\n",
    "\n",
    "dfSumg,dfAgeEndg,dfDurationg,dfMoneyLeftg,dfFinWithDrg,newbalancename,newagename,newdurationname,withdrawalfinalname\\\n",
    "        = stationaryretirementdepletion(initialsum,retire_age,scenarios,annualwithdrawals,maxyears=maxyears)\n",
    "\n",
    "dfAgeEndg = pd.pivot_table(dfSumg, index=['Withdrawal0'],values=[newdurationname],columns=['Scenario'])\n",
    "dfAgeEndg = pd.DataFrame(dfAgeEndg.to_records())\n",
    "dfAgeEndg.columns = ['Withdrawal0','g-0.02, w0.00','g-0.04, w0.00','g0.00, w0.00','g0.02, w0.00','g0.04, w0.00']\n",
    "dfAgeEndg = dfAgeEndg[['Withdrawal0','g-0.04, w0.00','g-0.02, w0.00','g0.00, w0.00','g0.02, w0.00','g0.04, w0.00']].transpose()\n",
    "dfAgeEndg.columns = [f'{i:.3f}' for i in dfAgeEndg.iloc[0]]\n",
    "dfAgeEndg = dfAgeEndg.iloc[1:]\n",
    "dfAgeEndg['Growth Rate'] = np.asarray(growthrates).reshape(-1,1) \n",
    "\n",
    "display(HTML(dfAgeEndg.to_html()))\n",
    "\n",
    "figsize(16,8)\n",
    "fig, axes = plt.subplots(nrows=1, ncols=1)\n",
    "for icol in dfAgeEndg.columns[:-1]:\n",
    "    dfAgeEndg.plot(x='Growth Rate',y=icol, ax=axes)    \n",
    "axes.set_title(f\"Plan duration vs. investment growth for different initial withdrawal rates; withdrawal rises at inflation\");\n",
    "axes.set_xlabel('Investment growth rate');\n",
    "axes.set_ylabel('Plan duration');\n",
    "axes.set_ylim([0.0,30])\n",
    "axes.set_xlim([-0.04,0.04]);"
   ]
  },
  {
   "cell_type": "markdown",
   "metadata": {},
   "source": [
    "It is clear that at high withdrawal rates the investment growth does not have a significant effect on the duration; the money is used up before it can grow.\n",
    "\n",
    "At 4% initial withdrawal growing only with inflation, the funds are depleted as follows:   \n",
    "- at investment growth of 2% below inflation: 20 years  \n",
    "- at investment growth at inflation: 25 years  \n",
    "- at investment growth of 2% above inflation: 35 years  \n",
    "\n",
    "To determine the plan duration for withdrawal increases above or below inflation, add or subtract the withdrawal increase from the investment growth rate. For a 4% initial withdrawal, annually increasing above inflation at 4% while the investment grows by 2%, the duration will be given in the above table for -2% investment growth, which is 20 years.\n"
   ]
  },
  {
   "cell_type": "markdown",
   "metadata": {},
   "source": [
    "### Withdrawal following market growth"
   ]
  },
  {
   "cell_type": "markdown",
   "metadata": {},
   "source": [
    "James S. Welch proposes the [strategy](https://www.onefpa.org/journal/Pages/AUG17-A-3-Step-Procedure-for-Computing-Sustainable-Retirement-Savings-Withdrawals.aspx) that withdrawals must follow the market. If the market is down, the withdrawal is also down. Rather suffer the small inconveniences in the short term than the huge crisis in the longer term.\n",
    "\n",
    "The present model is not at all sufficient to test Welch's procedure but I thought it a good test to compare the duration of a few pensions where the growth in investment equal the growth in withdrawal.  The duration for equal rates the term should be the same.  This is indeed the case in the table below.  On average over the whole term, you can increase the withdrawal rate to the investment growth rate without affecting the term.  You don't need rocket science or a model to come to this conclusion, but it is nice to see."
   ]
  },
  {
   "cell_type": "code",
   "execution_count": null,
   "metadata": {},
   "outputs": [],
   "source": [
    "initialsum = -1000000\n",
    "retire_age = 65\n",
    "maxyears = 30\n",
    "\n",
    "scenarios = {\n",
    "    'g0.00, w0.00':{'growthrate':0.00, 'withdrawalrate':0.00},\n",
    "    'g0.01, w0.01':{'growthrate':0.01, 'withdrawalrate':0.01},\n",
    "    'g0.02, w0.02':{'growthrate':0.02, 'withdrawalrate':0.02},\n",
    "    'g0.03, w0.03':{'growthrate':0.03, 'withdrawalrate':0.03},\n",
    "    'g0.04, w0.04':{'growthrate':0.04, 'withdrawalrate':0.04},\n",
    "}\n",
    "\n",
    "annualwithdrawals = [0.025, 0.03, 0.04,0.045,0.05,0.06,0.07,0.09,0.12,0.175]\n",
    "\n",
    "dfSumf,dfAgeEndf,dfDurationf,dfMoneyLeftf,dfFinWithDrf,newbalancename,newagename,newdurationname,withdrawalfinalname\\\n",
    "        = stationaryretirementdepletion(initialsum,retire_age,scenarios,annualwithdrawals,maxyears=maxyears)"
   ]
  },
  {
   "cell_type": "code",
   "execution_count": null,
   "metadata": {},
   "outputs": [],
   "source": [
    "display(HTML(dfAgeEndf.to_html()))"
   ]
  },
  {
   "cell_type": "markdown",
   "metadata": {},
   "source": [
    "### Simple model conclusion\n",
    "\n",
    "The stationary environment model with averaged rate over the full term shown above provides a ball-park indication of how long the money will last. \n",
    "The model does not, however, address real-world issues such as:\n",
    "\n",
    "1. Stochastic market movement and inflation behaviour. There are real-world and simulated fractal data sets available that can be used to model the markets in simulation.  The validity of the data will be considered later.\n",
    "\n",
    "1. Antithetical movement between investment growth and inflation.\n",
    "\n",
    "1. Differentiation of investments into different classes with differing volatilities and risks.\n",
    "\n",
    "1. Temporal variation in withdrawals, including large lump sum withdrawals, and phased increasing withdrawals towards end of plan.\n",
    "\n"
   ]
  },
  {
   "cell_type": "markdown",
   "metadata": {},
   "source": [
    "# All items below this are only sketchy notes at present, to be completed later!"
   ]
  },
  {
   "cell_type": "markdown",
   "metadata": {},
   "source": [
    "https://www.onefpa.org/journal/Pages/AUG17-A-3-Step-Procedure-for-Computing-Sustainable-Retirement-Savings-Withdrawals.aspx"
   ]
  },
  {
   "cell_type": "markdown",
   "metadata": {},
   "source": [
    "## Monte Carlo simulations\n",
    "\n",
    "\n",
    "https://www.analyticsindiamag.com/a-primer-to-monte-carlo-simulation-in-python/\n",
    "\n",
    "In a Monte Carlo simulation, a random value is selected for each of the tasks, based on the range of estimates. The model is calculated based on this random value. The result of the model is recorded, and the process is repeated. A typical Monte Carlo simulation calculates the model hundreds or thousands of times, each time using different randomly-selected values. When the simulation is complete, we have a large number of results from the model, each based on random input values. These results are used to describe the likelihood, or probability, of reaching various results in the model.\n",
    "\n",
    "https://www.pythonforfinance.net/2016/11/28/monte-carlo-simulation-in-python/\n",
    "\n",
    "Wikipedia states “Monte Carlo methods (or Monte Carlo experiments) are a broad class of computational algorithms that rely on repeated random sampling to obtain numerical results. \n",
    "\n",
    "\n",
    "https://programmingforfinance.com/2017/11/monte-carlo-simulations-of-future-stock-prices-in-python/\n",
    "\n",
    "https://pbpython.com/monte-carlo.html\n",
    "\n",
    "A Monte Carlo simulation is a useful tool for predicting future results by calculating a formula multiple times with different random inputs.\n",
    "\n",
    "https://nostarch.com/impracticalpythonprojects (Chapter 12, Project 20, Securing your nest egg: simulating retirement lifetimes using Monte Carlo techniques). Interesting book, with lots of interesting projects."
   ]
  },
  {
   "cell_type": "code",
   "execution_count": null,
   "metadata": {},
   "outputs": [],
   "source": []
  },
  {
   "cell_type": "code",
   "execution_count": null,
   "metadata": {},
   "outputs": [],
   "source": []
  },
  {
   "cell_type": "markdown",
   "metadata": {},
   "source": [
    "## Python and [module versions, and dates](https://github.com/rasbt/watermark)"
   ]
  },
  {
   "cell_type": "code",
   "execution_count": null,
   "metadata": {},
   "outputs": [],
   "source": [
    "# to get software versions\n",
    "# https://github.com/rasbt/watermark\n",
    "# https://github.com/rasbt/watermark/blob/master/docs/watermark.ipynb\n",
    "# you only need to do this once\n",
    "# pip install watermark\n",
    "# conda install -c conda-forge watermark\n",
    "\n",
    "%load_ext watermark\n",
    "%watermark -v -m -p numpy,scipy -g "
   ]
  },
  {
   "cell_type": "code",
   "execution_count": null,
   "metadata": {},
   "outputs": [],
   "source": []
  }
 ],
 "metadata": {
  "kernelspec": {
   "display_name": "Python 3",
   "language": "python",
   "name": "python3"
  },
  "language_info": {
   "codemirror_mode": {
    "name": "ipython",
    "version": 3
   },
   "file_extension": ".py",
   "mimetype": "text/x-python",
   "name": "python",
   "nbconvert_exporter": "python",
   "pygments_lexer": "ipython3",
   "version": "3.7.1"
  }
 },
 "nbformat": 4,
 "nbformat_minor": 2
}
