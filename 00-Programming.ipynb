{
 "cells": [
  {
   "cell_type": "markdown",
   "metadata": {},
   "source": [
    "# Programming\n",
    "\n",
    "This notebook serves to capture the calculation and programing side of the investigation.\n",
    "\n"
   ]
  },
  {
   "cell_type": "code",
   "execution_count": 1,
   "metadata": {},
   "outputs": [],
   "source": [
    "import os\n",
    "import sys\n",
    "import numpy as np\n",
    "import pandas as pd\n",
    "from datetime import date\n",
    "from collections import OrderedDict\n",
    "from dateutil.relativedelta import *\n",
    "import matplotlib.pyplot as plt\n",
    "from IPython.core.pylabtools import figsize\n",
    "from IPython.core.display import display, HTML\n",
    "\n",
    "persfin = os.path.join(\"./\",\"persfin\")\n",
    "sys.path = [persfin]+sys.path\n",
    "\n",
    "import fingenerators as fingen\n",
    "\n",
    "\n",
    "# pd.set_option('expand_frame_repr', False)\n",
    "pd.set_option('display.max_rows', 500)\n",
    "pd.set_option('display.max_columns', 500)\n",
    "pd.set_option('display.width', 1000)\n",
    "pd.set_option('precision',5)\n",
    "pd.set_option('display.max_colwidth',100)\n",
    "pd.options.mode.chained_assignment = None  # default='warn'\n",
    "\n",
    "%matplotlib inline\n",
    "plt.style.use('ggplot')"
   ]
  },
  {
   "cell_type": "markdown",
   "metadata": {},
   "source": [
    "## Mortgage Bond Amortisation Model\n",
    "\n",
    "This model and code is taken from http://pbpython.com/amortization-model-revised.html. Moffit was looking for a way to do amortisation  calculations in Pandas without loops, but ended up using a generator function to do the looping.  The generator does a complete set of loops and then provides the answer to a Pandas DataFrame.   The power of Pandas is therefore not available during the loop, but it is available afterwards for analysis and plotting.  Moffit's original code is heavily refactored and cleaned up here. \n",
    "\n",
    "The algorithm to be executed at every time interval (e.g. every month) is as follows:\n",
    "\n",
    "1. Calculate the interest on the balance, rounded to two decimals.\n",
    "1. Calculate the payment as the smaller of the outstanding balance or the contractual payment amount (to account for a smaller payment in the last cycle).\n",
    "1. Calculate the additional payment as the smaller of the outstanding balance or the fixed additional payment amount (to account for a smaller payment in the last cycle). \n",
    "1. Calculate the new balance by adding the interest and subtracting the two payments (but account for the signs of the financial values).\n",
    "1. Calculate some housekeeping values like the date and payment cycle number.\n",
    "\n",
    "It should be evident that the interest is calculated compound at each payment cycle, hence it adjusts at every payment cycle. \n",
    "\n",
    "The `amortise` function below is a Python generator function that provides iterative results for each time interval.  This generator is used to populate a Pandas DataFrame for subsequent anaysis."
   ]
  },
  {
   "cell_type": "markdown",
   "metadata": {},
   "source": [
    "The amortisation function is implemented as `fingenerators.amortise()` in the `persfin` module."
   ]
  },
  {
   "cell_type": "markdown",
   "metadata": {},
   "source": [
    "Confirm that the `amortise` function is a generator:"
   ]
  },
  {
   "cell_type": "code",
   "execution_count": 2,
   "metadata": {},
   "outputs": [
    {
     "data": {
      "text/plain": [
       "<generator object amortise at 0x000000000906DB88>"
      ]
     },
     "execution_count": 2,
     "metadata": {},
     "output_type": "execute_result"
    }
   ],
   "source": [
    "fingen.amortise(principal=10000, interest_rate=.03, bondyears=5, reqpayment=-400, addpayment=0, start_date=date(2000, 1,1), cyclesPerAnnum=12)"
   ]
  },
  {
   "cell_type": "markdown",
   "metadata": {},
   "source": [
    "Next create a wrapper function to use `amortise` to fill a Pandas DataFrame.  The `amortisation_table` function creates and then cleans up the table and provides summary stats so it is easy to compare various scenarios.  See the function docstring for the parameters and conventions  used.\n",
    "\n",
    "\n",
    "## Mortgage Bond Amortisation \n",
    "\n",
    "This model and code and code details are shown in the `00-Programming` notebook.\n",
    "\n",
    "Imagine an account that keeps track of all money flowing in and out on a monthly basis.  The account is iterated on monthly until some end condition is met.  This end condition can be a fixed term or until the bond is repaid (balance is zero).\n",
    "\n",
    "The main inputs to the model are the following:\n",
    "\n",
    "1. `principal`: Amount borrowed\n",
    "1. `interest_rate`: The annual interest rate for this loan.\n",
    "1. `bondyears`: Bond duration in the number of years for the loan.\n",
    "1. `reqpayment`: Required payment (minimum) amount per period to repay the loan during the term.\n",
    "1. `addpayment`: Initial value of additional payments (if any) to be made each period.\n",
    "1. `addpayrate`: Rate of increase in the  additional payment (can be zero), calculated once per year on January 1.\n",
    "1. `start_date`: Start date for the loan. The start date is normally 2000-01-01.\n",
    "1. `cyclesPerAnnum`: Number of payment cycles in a year, normally 12.\n",
    "\n",
    "Note that the additional payment can be specified as a money value or as a fraction of the required payment. Complex value notation is used where the money value is the real component (e.g., -2300, negative value) and the fractional value is the imaginary component (e.g., .02j, positive fraction). If the (negative) real component (money value) is given the (positive) imaginary component (fraction value) is ignored. For a fractional value of 0.02j the additional payment is 0.02 * `reqpayment`.\n",
    "\n",
    "The model provides two outputs: a monthly schedule that shows the values for every month as well as a summary of the main values.\n",
    "\n",
    "The `df` DataFrame provides a monthly view of the account balance, interest, payments, etc.\n",
    "\n",
    "The `stats` DataFrame provide a summary of the total contract, showing the key values, including the required payment, additional payment (if provided) and the total interest over the full term of the contract.  Note that the principal value is positive (inflow) and the payments and interest are negative (outflow).  \n"
   ]
  },
  {
   "cell_type": "code",
   "execution_count": 5,
   "metadata": {
    "collapsed": true
   },
   "outputs": [
    {
     "data": {
      "text/html": [
       "<table border=\"1\" class=\"dataframe\">\n",
       "  <thead>\n",
       "    <tr style=\"text-align: right;\">\n",
       "      <th></th>\n",
       "      <th>Period</th>\n",
       "      <th>Month</th>\n",
       "      <th>Begin Balance</th>\n",
       "      <th>ReqPayment</th>\n",
       "      <th>AddPayment</th>\n",
       "      <th>Interest</th>\n",
       "      <th>End Balance</th>\n",
       "      <th>Principal</th>\n",
       "      <th>InterestRate</th>\n",
       "      <th>ID</th>\n",
       "      <th>IntPercent</th>\n",
       "    </tr>\n",
       "  </thead>\n",
       "  <tbody>\n",
       "    <tr>\n",
       "      <th>0</th>\n",
       "      <td>1</td>\n",
       "      <td>2000-01-01</td>\n",
       "      <td>1000000.0000</td>\n",
       "      <td>-8997.26</td>\n",
       "      <td>-179.9452</td>\n",
       "      <td>-7500.00</td>\n",
       "      <td>998322.7948</td>\n",
       "      <td>1000000</td>\n",
       "      <td>0.09</td>\n",
       "      <td></td>\n",
       "      <td>83.35871</td>\n",
       "    </tr>\n",
       "    <tr>\n",
       "      <th>1</th>\n",
       "      <td>2</td>\n",
       "      <td>2000-02-01</td>\n",
       "      <td>998322.7948</td>\n",
       "      <td>-8997.26</td>\n",
       "      <td>-179.9452</td>\n",
       "      <td>-7487.42</td>\n",
       "      <td>996633.0096</td>\n",
       "      <td>1000000</td>\n",
       "      <td>0.09</td>\n",
       "      <td></td>\n",
       "      <td>83.21889</td>\n",
       "    </tr>\n",
       "    <tr>\n",
       "      <th>2</th>\n",
       "      <td>3</td>\n",
       "      <td>2000-03-01</td>\n",
       "      <td>996633.0096</td>\n",
       "      <td>-8997.26</td>\n",
       "      <td>-179.9452</td>\n",
       "      <td>-7474.75</td>\n",
       "      <td>994930.5544</td>\n",
       "      <td>1000000</td>\n",
       "      <td>0.09</td>\n",
       "      <td></td>\n",
       "      <td>83.07807</td>\n",
       "    </tr>\n",
       "    <tr>\n",
       "      <th>3</th>\n",
       "      <td>4</td>\n",
       "      <td>2000-04-01</td>\n",
       "      <td>994930.5544</td>\n",
       "      <td>-8997.26</td>\n",
       "      <td>-179.9452</td>\n",
       "      <td>-7461.98</td>\n",
       "      <td>993215.3292</td>\n",
       "      <td>1000000</td>\n",
       "      <td>0.09</td>\n",
       "      <td></td>\n",
       "      <td>82.93614</td>\n",
       "    </tr>\n",
       "    <tr>\n",
       "      <th>4</th>\n",
       "      <td>5</td>\n",
       "      <td>2000-05-01</td>\n",
       "      <td>993215.3292</td>\n",
       "      <td>-8997.26</td>\n",
       "      <td>-179.9452</td>\n",
       "      <td>-7449.11</td>\n",
       "      <td>991487.2340</td>\n",
       "      <td>1000000</td>\n",
       "      <td>0.09</td>\n",
       "      <td></td>\n",
       "      <td>82.79309</td>\n",
       "    </tr>\n",
       "  </tbody>\n",
       "</table>"
      ],
      "text/plain": [
       "<IPython.core.display.HTML object>"
      ]
     },
     "metadata": {},
     "output_type": "display_data"
    },
    {
     "data": {
      "text/html": [
       "<table border=\"1\" class=\"dataframe\">\n",
       "  <thead>\n",
       "    <tr style=\"text-align: right;\">\n",
       "      <th></th>\n",
       "      <th>Period</th>\n",
       "      <th>Month</th>\n",
       "      <th>Begin Balance</th>\n",
       "      <th>ReqPayment</th>\n",
       "      <th>AddPayment</th>\n",
       "      <th>Interest</th>\n",
       "      <th>End Balance</th>\n",
       "      <th>Principal</th>\n",
       "      <th>InterestRate</th>\n",
       "      <th>ID</th>\n",
       "      <th>IntPercent</th>\n",
       "    </tr>\n",
       "  </thead>\n",
       "  <tbody>\n",
       "    <tr>\n",
       "      <th>223</th>\n",
       "      <td>224</td>\n",
       "      <td>2018-08-01</td>\n",
       "      <td>40116.8204</td>\n",
       "      <td>-8997.2600</td>\n",
       "      <td>-179.9452</td>\n",
       "      <td>-300.88</td>\n",
       "      <td>31240.4952</td>\n",
       "      <td>1000000</td>\n",
       "      <td>0.09</td>\n",
       "      <td></td>\n",
       "      <td>3.34413</td>\n",
       "    </tr>\n",
       "    <tr>\n",
       "      <th>224</th>\n",
       "      <td>225</td>\n",
       "      <td>2018-09-01</td>\n",
       "      <td>31240.4952</td>\n",
       "      <td>-8997.2600</td>\n",
       "      <td>-179.9452</td>\n",
       "      <td>-234.30</td>\n",
       "      <td>22297.5900</td>\n",
       "      <td>1000000</td>\n",
       "      <td>0.09</td>\n",
       "      <td></td>\n",
       "      <td>2.60413</td>\n",
       "    </tr>\n",
       "    <tr>\n",
       "      <th>225</th>\n",
       "      <td>226</td>\n",
       "      <td>2018-10-01</td>\n",
       "      <td>22297.5900</td>\n",
       "      <td>-8997.2600</td>\n",
       "      <td>-179.9452</td>\n",
       "      <td>-167.23</td>\n",
       "      <td>13287.6148</td>\n",
       "      <td>1000000</td>\n",
       "      <td>0.09</td>\n",
       "      <td></td>\n",
       "      <td>1.85868</td>\n",
       "    </tr>\n",
       "    <tr>\n",
       "      <th>226</th>\n",
       "      <td>227</td>\n",
       "      <td>2018-11-01</td>\n",
       "      <td>13287.6148</td>\n",
       "      <td>-8997.2600</td>\n",
       "      <td>-179.9452</td>\n",
       "      <td>-99.66</td>\n",
       "      <td>4210.0696</td>\n",
       "      <td>1000000</td>\n",
       "      <td>0.09</td>\n",
       "      <td></td>\n",
       "      <td>1.10767</td>\n",
       "    </tr>\n",
       "    <tr>\n",
       "      <th>227</th>\n",
       "      <td>228</td>\n",
       "      <td>2018-12-01</td>\n",
       "      <td>4210.0696</td>\n",
       "      <td>-4241.6496</td>\n",
       "      <td>-0.0000</td>\n",
       "      <td>-31.58</td>\n",
       "      <td>0.0000</td>\n",
       "      <td>1000000</td>\n",
       "      <td>0.09</td>\n",
       "      <td></td>\n",
       "      <td>0.74452</td>\n",
       "    </tr>\n",
       "  </tbody>\n",
       "</table>"
      ],
      "text/plain": [
       "<IPython.core.display.HTML object>"
      ]
     },
     "metadata": {},
     "output_type": "display_data"
    },
    {
     "data": {
      "text/html": [
       "<table border=\"1\" class=\"dataframe\">\n",
       "  <thead>\n",
       "    <tr style=\"text-align: right;\">\n",
       "      <th></th>\n",
       "      <th>0</th>\n",
       "    </tr>\n",
       "  </thead>\n",
       "  <tbody>\n",
       "    <tr>\n",
       "      <th>Principal</th>\n",
       "      <td>1000000</td>\n",
       "    </tr>\n",
       "    <tr>\n",
       "      <th>Payoff Date</th>\n",
       "      <td>2018-12-01 00:00:00</td>\n",
       "    </tr>\n",
       "    <tr>\n",
       "      <th>Num Payments</th>\n",
       "      <td>228</td>\n",
       "    </tr>\n",
       "    <tr>\n",
       "      <th>Interest Rate</th>\n",
       "      <td>0.09</td>\n",
       "    </tr>\n",
       "    <tr>\n",
       "      <th>BondYears</th>\n",
       "      <td>20</td>\n",
       "    </tr>\n",
       "  </tbody>\n",
       "</table>"
      ],
      "text/plain": [
       "<IPython.core.display.HTML object>"
      ]
     },
     "metadata": {},
     "output_type": "display_data"
    }
   ],
   "source": [
    "# to calculate  a typical bond repayment case with a non-escalating 2% additional payment\n",
    "principal = 1000000\n",
    "interest_rate = 0.09\n",
    "bondyears = 20\n",
    "cyclesPerAnnum = 12\n",
    "reqpayment = round(np.pmt(interest_rate/cyclesPerAnnum, bondyears*cyclesPerAnnum, principal), 2)\n",
    "\n",
    "df, stats = fingen.amortisation_table(\n",
    "    principal=principal, \n",
    "    interest_rate=interest_rate, \n",
    "    bondyears=bondyears, \n",
    "    reqpayment = reqpayment,\n",
    "    addpayment = 0.02j,\n",
    "    cyclesPerAnnum=cyclesPerAnnum, \n",
    "    start_date=date(2000, 1,1),\n",
    "    addpayrate=0.0,\n",
    "    ID=\"\"\n",
    "    )\n",
    "\n",
    "\n",
    "df['IntPercent'] = 100 * df['Interest'] / df['ReqPayment']\n",
    "display(HTML(df.head().to_html()))\n",
    "display(HTML(df.tail().to_html()))\n",
    "display(HTML(stats.to_frame().head().to_html()))"
   ]
  },
  {
   "cell_type": "code",
   "execution_count": null,
   "metadata": {},
   "outputs": [],
   "source": []
  },
  {
   "cell_type": "code",
   "execution_count": null,
   "metadata": {},
   "outputs": [],
   "source": []
  },
  {
   "cell_type": "code",
   "execution_count": null,
   "metadata": {},
   "outputs": [],
   "source": []
  },
  {
   "cell_type": "markdown",
   "metadata": {},
   "source": [
    "## Python and [module versions, and dates](https://github.com/rasbt/watermark)"
   ]
  },
  {
   "cell_type": "code",
   "execution_count": 6,
   "metadata": {},
   "outputs": [
    {
     "name": "stdout",
     "output_type": "stream",
     "text": [
      "CPython 3.7.1\n",
      "IPython 7.2.0\n",
      "\n",
      "numpy 1.15.4\n",
      "scipy 1.1.0\n",
      "\n",
      "compiler   : MSC v.1915 64 bit (AMD64)\n",
      "system     : Windows\n",
      "release    : 7\n",
      "machine    : AMD64\n",
      "processor  : Intel64 Family 6 Model 94 Stepping 3, GenuineIntel\n",
      "CPU cores  : 8\n",
      "interpreter: 64bit\n",
      "Git hash   : 08ad7046bb82c2bf082f0fd7a7215c8120cb7327\n"
     ]
    }
   ],
   "source": [
    "# to get software versions\n",
    "# https://github.com/rasbt/watermark\n",
    "# https://github.com/rasbt/watermark/blob/master/docs/watermark.ipynb\n",
    "# you only need to do this once\n",
    "# pip install watermark\n",
    "# conda install -c conda-forge watermark\n",
    "\n",
    "%load_ext watermark\n",
    "%watermark -v -m -p numpy,scipy -g "
   ]
  },
  {
   "cell_type": "code",
   "execution_count": null,
   "metadata": {},
   "outputs": [],
   "source": []
  }
 ],
 "metadata": {
  "kernelspec": {
   "display_name": "Python 3",
   "language": "python",
   "name": "python3"
  },
  "language_info": {
   "codemirror_mode": {
    "name": "ipython",
    "version": 3
   },
   "file_extension": ".py",
   "mimetype": "text/x-python",
   "name": "python",
   "nbconvert_exporter": "python",
   "pygments_lexer": "ipython3",
   "version": "3.7.1"
  }
 },
 "nbformat": 4,
 "nbformat_minor": 2
}
